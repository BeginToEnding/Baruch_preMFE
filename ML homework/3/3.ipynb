{
 "cells": [
  {
   "cell_type": "code",
   "execution_count": 5,
   "metadata": {},
   "outputs": [
    {
     "name": "stdout",
     "output_type": "stream",
     "text": [
      "A=[[1 1]\n",
      " [1 2]\n",
      " [1 4]\n",
      " [1 5]]\n",
      "Y=[[0]\n",
      " [1]\n",
      " [2]\n",
      " [3]]\n",
      "X=[[-0.6]\n",
      " [ 0.7]]\n"
     ]
    }
   ],
   "source": [
    "import numpy as np\n",
    "A = np.array([[1, 1], [1, 2], [1, 4], [1, 5]])\n",
    "Y = np.array([[0], [1], [2], [3]])\n",
    "X = np.linalg.inv(A.T @ A) @ A.T @ Y\n",
    "print(\"A=\",A,\"\\nY=\",Y,\"\\nX=\",X, sep=\"\")\n"
   ]
  },
  {
   "cell_type": "code",
   "execution_count": 2,
   "metadata": {},
   "outputs": [
    {
     "name": "stdout",
     "output_type": "stream",
     "text": [
      "[[0.9]\n",
      " [1.4]]\n"
     ]
    }
   ],
   "source": [
    "import numpy as np\n",
    "A = np.array([[1, 0], [1, 1], [1, 2], [1, 3]])\n",
    "Y = np.array([[1], [2], [4], [5]])\n",
    "X = np.linalg.inv(A.T @ A) @ A.T @ Y\n",
    "print(X)"
   ]
  },
  {
   "cell_type": "code",
   "execution_count": 8,
   "metadata": {},
   "outputs": [
    {
     "name": "stdout",
     "output_type": "stream",
     "text": [
      "3.1500000000000004 0.14999999999999997\n"
     ]
    }
   ],
   "source": [
    "measurements = [3.1, 3.2, 3.3, 3, 3.4, 3.1, 3.2, 2.9, 3, 3.3]\n",
    "m = np.array(measurements)\n",
    "# average and standard deviation\n",
    "print(np.mean(m), np.std(m))"
   ]
  },
  {
   "cell_type": "code",
   "execution_count": 9,
   "metadata": {},
   "outputs": [
    {
     "data": {
      "text/plain": [
       "1.0540925533894598"
      ]
     },
     "execution_count": 9,
     "metadata": {},
     "output_type": "execute_result"
    }
   ],
   "source": [
    "0.05/(0.15/np.sqrt(10))"
   ]
  },
  {
   "cell_type": "code",
   "execution_count": 18,
   "metadata": {},
   "outputs": [
    {
     "name": "stdout",
     "output_type": "stream",
     "text": [
      "0.05000003699598631 -0.9999992600808266\n"
     ]
    }
   ],
   "source": [
    "import scipy.stats as stats\n",
    "import pandas as pd\n",
    "import numpy as np\n",
    "\n",
    "# Given data\n",
    "sigma = 0.158114  # Standard deviation of the sample\n",
    "n = 10  # Number of observations\n",
    "\n",
    "# Compute standard error of the mean (SEM)\n",
    "sem = sigma / np.sqrt(n)\n",
    "\n",
    "# Given values\n",
    "x_bar = 3.15  # Sample mean\n",
    "mu = 3.2  # Population mean\n",
    "z_value = (x_bar - mu) / sem  # Compute Z-score\n",
    "print(sem, z_value)\n"
   ]
  },
  {
   "cell_type": "code",
   "execution_count": 19,
   "metadata": {},
   "outputs": [
    {
     "name": "stdout",
     "output_type": "stream",
     "text": [
      "0.15865543297030177\n"
     ]
    }
   ],
   "source": [
    "# Compute probability P(Z < z_value)\n",
    "p_value = stats.norm.cdf(z_value)\n",
    "print(p_value)\n"
   ]
  },
  {
   "cell_type": "code",
   "execution_count": 20,
   "metadata": {},
   "outputs": [
    {
     "data": {
      "text/plain": [
       "0.31731086594060354"
      ]
     },
     "execution_count": 20,
     "metadata": {},
     "output_type": "execute_result"
    }
   ],
   "source": [
    "2*p_value"
   ]
  },
  {
   "cell_type": "code",
   "execution_count": null,
   "metadata": {},
   "outputs": [],
   "source": []
  }
 ],
 "metadata": {
  "kernelspec": {
   "display_name": "newest",
   "language": "python",
   "name": "python3"
  },
  "language_info": {
   "codemirror_mode": {
    "name": "ipython",
    "version": 3
   },
   "file_extension": ".py",
   "mimetype": "text/x-python",
   "name": "python",
   "nbconvert_exporter": "python",
   "pygments_lexer": "ipython3",
   "version": "3.12.3"
  }
 },
 "nbformat": 4,
 "nbformat_minor": 2
}
