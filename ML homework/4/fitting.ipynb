{
 "cells": [
  {
   "cell_type": "code",
   "execution_count": 7,
   "metadata": {},
   "outputs": [],
   "source": [
    "import pandas as pd\n",
    "import sklearn\n",
    "# to transfer dataframe to latex\n",
    "import sympy as sp"
   ]
  },
  {
   "cell_type": "code",
   "execution_count": 13,
   "metadata": {},
   "outputs": [
    {
     "name": "stdout",
     "output_type": "stream",
     "text": [
      "\\begin{tabular}{lllllll}\n",
      "\\toprule\n",
      " & Mkt-RF & SMB & HML & RMW & CMA & RF \\\\\n",
      "\\midrule\n",
      "19630701 & -0.67 & 0.02 & -0.35 & 0.03 & 0.13 & 0.012 \\\\\n",
      "19630702 & 0.79 & -0.28 & 0.28 & -0.08 & -0.21 & 0.012 \\\\\n",
      "19630703 & 0.63 & -0.18 & -0.1 & 0.13 & -0.25 & 0.012 \\\\\n",
      "19630705 & 0.4 & 0.09 & -0.28 & 0.07 & -0.3 & 0.012 \\\\\n",
      "19630708 & -0.63 & 0.07 & -0.2 & -0.27 & 0.06 & 0.012 \\\\\n",
      "\\bottomrule\n",
      "\\end{tabular}\n",
      "\n"
     ]
    }
   ],
   "source": [
    "data = pd.read_csv(r\"F-F_Research_Data_5_Factors_2x3_daily.CSV\", skiprows=3, index_col=0)\n",
    "# Convert each element to LaTeX format using sympy\n",
    "df_latex = data.head().map(sp.latex)\n",
    "\n",
    "# Generate LaTeX table\n",
    "latex_table = df_latex.to_latex(escape=False)  # escape=False prevents double escaping\n",
    "\n",
    "print(latex_table)"
   ]
  },
  {
   "cell_type": "code",
   "execution_count": null,
   "metadata": {},
   "outputs": [],
   "source": []
  }
 ],
 "metadata": {
  "kernelspec": {
   "display_name": "newest",
   "language": "python",
   "name": "python3"
  },
  "language_info": {
   "codemirror_mode": {
    "name": "ipython",
    "version": 3
   },
   "file_extension": ".py",
   "mimetype": "text/x-python",
   "name": "python",
   "nbconvert_exporter": "python",
   "pygments_lexer": "ipython3",
   "version": "3.12.3"
  }
 },
 "nbformat": 4,
 "nbformat_minor": 2
}
