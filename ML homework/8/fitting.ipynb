{
 "cells": [
  {
   "cell_type": "markdown",
   "metadata": {},
   "source": [
    "# Digit classification with PCA"
   ]
  },
  {
   "cell_type": "code",
   "execution_count": null,
   "metadata": {},
   "outputs": [],
   "source": [
    "import math\n",
    "\n",
    "from sklearn.datasets import fetch_openml, load_digits\n",
    "import numpy as np\n",
    "import matplotlib.pyplot as plt\n",
    "from sklearn.model_selection import train_test_split, KFold\n",
    "from sklearn.discriminant_analysis import LinearDiscriminantAnalysis\n",
    "from sklearn.metrics import confusion_matrix"
   ]
  },
  {
   "cell_type": "markdown",
   "metadata": {},
   "source": [
    "## images with size 28x28"
   ]
  },
  {
   "cell_type": "code",
   "execution_count": null,
   "metadata": {},
   "outputs": [],
   "source": [
    "mnist = fetch_openml('mnist_784', version=1)\n",
    "\n",
    "X = mnist.data.to_numpy()         \n",
    "y = mnist.target.astype(np.int32)\n",
    "print(\"Data shape:\", X.shape)\n",
    "print(\"Labels shape:\", y.shape)\n",
    "print(\"Unique labels:\", np.unique(y))\n",
    "X.min(), X.max(), X.mean(), math.sqrt(X.shape[1]), y.dtype"
   ]
  },
  {
   "cell_type": "code",
   "execution_count": null,
   "metadata": {},
   "outputs": [],
   "source": [
    "plt.imshow(X[0].reshape(28, 28))\n",
    "plt.title(f\"Label: {y[0]}\")\n",
    "plt.show()"
   ]
  },
  {
   "cell_type": "markdown",
   "metadata": {},
   "source": [
    "## Images with size 8x8"
   ]
  },
  {
   "cell_type": "markdown",
   "metadata": {},
   "source": [
    "### load, scale, center data"
   ]
  },
  {
   "cell_type": "code",
   "execution_count": null,
   "metadata": {},
   "outputs": [],
   "source": [
    "digits = load_digits()\n",
    "X8 = digits.data\n",
    "y8 = digits.target\n",
    "\n",
    "print(\"Data shape:\", X8.shape)\n",
    "print(\"Labels shape:\", y8.shape)\n",
    "print(\"Unique labels:\", set(y8))\n",
    "print(\"Grayscale range:\", X8.max(), X8.min())\n",
    "\n",
    "center = X8.mean(axis=0)\n",
    "X8_sc = (X8 - center) / 16\n",
    "\n",
    "index = 0\n",
    "original_image = X8[index].reshape(8, 8)\n",
    "centered_image = X8_sc[index].reshape(8, 8)\n",
    "\n",
    "fig, (ax1, ax2) = plt.subplots(1, 2, figsize=(10, 4))\n",
    "plt.suptitle(f\"Centered and scaled images, label: {y8[index]}\")\n",
    "\n",
    "# 1) Plot the first image + colorbar\n",
    "im1 = ax1.imshow(original_image, cmap='gray', vmin=0, vmax=16)\n",
    "cbar1 = fig.colorbar(im1, ax=ax1)\n",
    "cbar1.set_label('Intensity')\n",
    "ax1.set_title(\"Original\")\n",
    "ax1.axis('off')\n",
    "\n",
    "# 2) Plot the second image + colorbar\n",
    "im2 = ax2.imshow(centered_image, cmap='gray')\n",
    "cbar2 = fig.colorbar(im2, ax=ax2)\n",
    "cbar2.set_label('Centered intensity')\n",
    "ax2.set_title(\"Centered and scaled\")\n",
    "ax2.axis('off')\n",
    "\n",
    "plt.tight_layout()\n",
    "plt.savefig(\"sample_digit.pdf\")\n",
    "plt.show()\n"
   ]
  },
  {
   "cell_type": "code",
   "execution_count": null,
   "metadata": {},
   "outputs": [],
   "source": [
    "X8_sc.max(), X8_sc.min(), X8_sc.mean()"
   ]
  },
  {
   "cell_type": "markdown",
   "metadata": {},
   "source": [
    "### Show the center"
   ]
  },
  {
   "cell_type": "code",
   "execution_count": null,
   "metadata": {},
   "outputs": [],
   "source": [
    "fig, ax = plt.subplots(figsize=(4, 4))\n",
    "avg_img = center.reshape(8, 8)\n",
    "\n",
    "im = ax.imshow(avg_img, cmap='gray')\n",
    "ax.set_title(\"Average digit image\")\n",
    "\n",
    "plt.colorbar(im)\n",
    "plt.savefig(\"average_digit.pdf\")\n",
    "plt.show()"
   ]
  },
  {
   "cell_type": "markdown",
   "metadata": {},
   "source": [
    "### Calcualte the cocariance matrix, eigenvalues and eigenvectors"
   ]
  },
  {
   "cell_type": "code",
   "execution_count": null,
   "metadata": {},
   "outputs": [],
   "source": [
    "cov_matrix = np.cov(X8_sc, rowvar=False) \n",
    "cov_matrix.shape"
   ]
  },
  {
   "cell_type": "code",
   "execution_count": null,
   "metadata": {},
   "outputs": [],
   "source": [
    "eigenvalues, eigenvectors = np.linalg.eig(cov_matrix)\n",
    "\n",
    "idx = np.argsort(eigenvalues)[::-1]\n",
    "eigenvalues_sorted = eigenvalues[idx]\n",
    "\n",
    "fig, ax1 = plt.subplots()\n",
    "\n",
    "# linear scale\n",
    "line1 = ax1.plot(eigenvalues_sorted, marker='o', label='Linear scale')\n",
    "ax1.set_xlabel(\"Component index\")\n",
    "ax1.set_ylabel(\"Eigenvalue (linear scale)\")\n",
    "ax1.set_ylim(0, eigenvalues_sorted.max()*1.1) \n",
    "\n",
    "# log scale\n",
    "ax2 = ax1.twinx()\n",
    "line2 = ax2.plot(eigenvalues_sorted, marker='x', label='Log scale', color='red')\n",
    "ax2.set_ylabel(\"Eigenvalue (log scale)\")\n",
    "ax2.set_yscale('log')\n",
    "ax2.set_ylim(0.3e-3, eigenvalues_sorted.max()*1.2)\n",
    "\n",
    "# Combine legends\n",
    "lines = line1 + line2\n",
    "labels = [l.get_label() for l in lines]\n",
    "ax1.legend(lines, labels, loc='best')\n",
    "\n",
    "plt.title(\"Eigenvalues in linear and log scale\")\n",
    "plt.savefig(\"eigenvalues.pdf\")\n",
    "plt.show()\n"
   ]
  },
  {
   "cell_type": "markdown",
   "metadata": {},
   "source": [
    "#### show the eigenvectors"
   ]
  },
  {
   "cell_type": "code",
   "execution_count": null,
   "metadata": {},
   "outputs": [],
   "source": [
    "eigenvalues, eigenvectors = np.linalg.eig(cov_matrix)\n",
    "\n",
    "idx = np.argsort(eigenvalues)[::-1]\n",
    "eigenvalues_sorted = eigenvalues[idx]\n",
    "eigenvectors_sorted = eigenvectors[:, idx]\n",
    "\n",
    "num_components = 16\n",
    "pcs = eigenvectors_sorted[:, :num_components]\n",
    "\n",
    "fig, axes = plt.subplots(nrows=4, ncols=4, figsize=(8, 8))\n",
    "\n",
    "for i in range(num_components):\n",
    "    row, col = divmod(i, 4)\n",
    "    pc_image = pcs[:, i].reshape(8, 8)\n",
    "    \n",
    "    axes[row, col].imshow(pc_image, cmap='gray')\n",
    "    axes[row, col].axis('off')  \n",
    "    axes[row, col].set_title(f\"PC {i+1}\")\n",
    "\n",
    "plt.tight_layout()\n",
    "plt.savefig(\"principal_components.pdf\")\n",
    "plt.show()\n"
   ]
  },
  {
   "cell_type": "markdown",
   "metadata": {},
   "source": [
    "### Calculate the PCA for the whole dataset"
   ]
  },
  {
   "cell_type": "code",
   "execution_count": null,
   "metadata": {},
   "outputs": [],
   "source": [
    "K_values = [4, 8, 16, 32, 48, 64]\n",
    "coords_dict = {}\n",
    "\n",
    "for K in K_values:\n",
    "    V_k = eigenvectors_sorted[:, :K]\n",
    "    coords_K = X8_sc @ V_k\n",
    "    coords_dict[K] = coords_K"
   ]
  },
  {
   "cell_type": "markdown",
   "metadata": {},
   "source": [
    "### Plot the reconstructed images for the first few images, for different K"
   ]
  },
  {
   "cell_type": "code",
   "execution_count": null,
   "metadata": {},
   "outputs": [],
   "source": [
    "num_samples = 10\n",
    "\n",
    "fig, axes = plt.subplots(\n",
    "    nrows=num_samples,\n",
    "    ncols=len(K_values) + 1,\n",
    "    figsize=(8, 14),\n",
    "    gridspec_kw={'width_ratios': [0.1] + [1]*len(K_values)}\n",
    ")\n",
    "\n",
    "for i in range(num_samples):\n",
    "    label = y8[i]\n",
    "\n",
    "    label_ax = axes[i, 0]\n",
    "    label_ax.text(0.5, 0.5, f\"{label}\",\n",
    "                  ha='center', va='center', fontsize=10)\n",
    "    label_ax.axis('off')\n",
    "\n",
    "    x_sc = X8_sc[i]\n",
    "    for j, K in enumerate(K_values):\n",
    "        col_idx = j + 1\n",
    "        V_k = eigenvectors_sorted[:, :K]\n",
    "        coords = coords_dict[K][i, :]  \n",
    "        x_recon_sc = V_k @ coords\n",
    "        x_recon = 16*x_recon_sc + center\n",
    "        image_recon = x_recon.reshape(8, 8)\n",
    "\n",
    "        ax = axes[i, col_idx]\n",
    "        ax.imshow(image_recon, cmap='gray', vmin=0, vmax=16)\n",
    "        ax.axis('off')\n",
    "        if i == 0:\n",
    "            ax.set_title(f\"K={K}\", fontsize=9)\n",
    "\n",
    "plt.suptitle(f\"Reconstruction of first {num_samples} samples \\nwith increasing number of principal components (K)\", y=0.93)\n",
    "plt.savefig(\"reconstruction_with_pcs.pdf\")\n",
    "plt.show()"
   ]
  },
  {
   "cell_type": "markdown",
   "metadata": {},
   "source": [
    "## Train LDA with different Ks"
   ]
  },
  {
   "cell_type": "code",
   "execution_count": null,
   "metadata": {},
   "outputs": [],
   "source": [
    "K = 4\n",
    "X_pca = coords_dict[K] \n",
    "X_train, X_test, y_train, y_test = train_test_split(X_pca, y8,\n",
    "                                                    test_size=0.2,\n",
    "                                                    random_state=42)\n",
    "\n",
    "lda = LinearDiscriminantAnalysis()\n",
    "lda.fit(X_train, y_train)\n",
    "y_pred = lda.predict(X_test)\n",
    "cm = confusion_matrix(y_test, y_pred)\n",
    "\n",
    "plt.figure()\n",
    "plt.imshow(cm, cmap='Blues')\n",
    "plt.colorbar(label='Count')\n",
    "plt.title(f\"Confusion matrix for LDA with K={K}\")\n",
    "plt.xlabel(\"Predicted label\")\n",
    "plt.ylabel(\"True label\")\n",
    "\n",
    "plt.xticks(range(10))\n",
    "plt.yticks(range(10))\n",
    "\n",
    "for i in range(10):\n",
    "    for j in range(10):\n",
    "        plt.text(j, i, cm[i, j],\n",
    "                 ha='center', va='center', color='red', fontsize=8)\n",
    "\n",
    "plt.tight_layout()\n",
    "plt.savefig(f\"confusion_matrix_4.pdf\")\n",
    "plt.show()"
   ]
  },
  {
   "cell_type": "code",
   "execution_count": null,
   "metadata": {},
   "outputs": [],
   "source": [
    "X_pca4 = coords_dict[4]\n",
    "kf = KFold(n_splits=5, shuffle=True, random_state=42)\n",
    "accumulated_cm = np.zeros((10, 10), dtype=int)\n",
    "for train_index, test_index in kf.split(X_pca4):\n",
    "    X_train, X_test = X_pca4[train_index], X_pca4[test_index]\n",
    "    y_train, y_test = y8[train_index], y8[test_index]\n",
    "    \n",
    "    lda = LinearDiscriminantAnalysis()\n",
    "    lda.fit(X_train, y_train)\n",
    "    \n",
    "    y_pred = lda.predict(X_test)\n",
    "    fold_cm = confusion_matrix(y_test, y_pred)\n",
    "    accumulated_cm += fold_cm\n",
    "\n",
    "plt.figure()\n",
    "plt.imshow(accumulated_cm, cmap='Blues')\n",
    "plt.colorbar(label='Average count')\n",
    "plt.title(\"5-Fold average confusion matrix (K=4)\")\n",
    "plt.xlabel(\"Predicted label\")\n",
    "plt.ylabel(\"True label\")\n",
    "\n",
    "plt.xticks(range(10))\n",
    "plt.yticks(range(10))\n",
    "\n",
    "for i in range(10):\n",
    "    for j in range(10):\n",
    "        plt.text(j, i, accumulated_cm[i, j],\n",
    "                 ha='center', va='center',\n",
    "                 color='red', fontsize=8)\n",
    "\n",
    "plt.tight_layout()\n",
    "plt.savefig(\"average_confusion_matrix_4_KFold.pdf\")\n",
    "plt.show()"
   ]
  },
  {
   "cell_type": "code",
   "execution_count": null,
   "metadata": {},
   "outputs": [],
   "source": [
    "digit_counts = np.zeros((len(K_values), 10))\n",
    "\n",
    "kf = KFold(n_splits=5, shuffle=True, random_state=42)\n",
    "\n",
    "for i, K in enumerate(K_values):\n",
    "    X_pca = coords_dict[K]\n",
    "    \n",
    "    accumulated_cm = np.zeros((10, 10), dtype=int)\n",
    "    \n",
    "    for train_index, test_index in kf.split(X_pca):\n",
    "        X_train, X_test = X_pca[train_index], X_pca[test_index]\n",
    "        y_train, y_test = y8[train_index], y8[test_index]\n",
    "        \n",
    "        lda = LinearDiscriminantAnalysis()\n",
    "        lda.fit(X_train, y_train)\n",
    "        \n",
    "        y_pred = lda.predict(X_test)\n",
    "        \n",
    "        fold_cm = confusion_matrix(y_test, y_pred, labels=range(10))\n",
    "        accumulated_cm += fold_cm\n",
    "    \n",
    "    diag = np.diag(accumulated_cm)\n",
    "    digit_counts[i, :] = diag\n",
    "\n",
    "markers = ['o', 's', '^', 'v', '<', '>', 'd', 'p', 'x', '*']\n",
    "linestyles = ['-', '--', '-.', ':', '-', '--', '-.', ':', '-', '--']\n",
    "\n",
    "\n",
    "plt.figure()\n",
    "ax = plt.gca()\n",
    "ax.set_ylim([130,180])\n",
    "\n",
    "for digit in range(10):\n",
    "    plt.plot(\n",
    "        K_values,\n",
    "        digit_counts[:, digit],\n",
    "        marker=markers[digit],\n",
    "        linestyle=linestyles[digit],\n",
    "        label=f\"Digit {digit}\"\n",
    "    )\n",
    "\n",
    "avg_diagonal = digit_counts.sum(axis=1) / 10.0\n",
    "\n",
    "plt.plot(\n",
    "    K_values,\n",
    "    avg_diagonal,\n",
    "    marker='D',\n",
    "    linestyle='-',\n",
    "    linewidth=2,\n",
    "    color='black',\n",
    "    label='mean'\n",
    ")\n",
    "\n",
    "plt.title(\"Average correct-class counts (diagonal) vs. K\")\n",
    "plt.xlabel(\"K (Number of PCA components)\")\n",
    "plt.ylabel(\"Correct-class count (test set)\")\n",
    "plt.legend(ncol=2)\n",
    "plt.grid(True)\n",
    "plt.savefig(\"average_confusion_matrix_vsK_KFold.pdf\")\n",
    "plt.show()\n",
    "print(\"diagonal average: \", avg_diagonal)"
   ]
  }
 ],
 "metadata": {
  "kernelspec": {
   "display_name": "newest",
   "language": "python",
   "name": "python3"
  },
  "language_info": {
   "codemirror_mode": {
    "name": "ipython",
    "version": 3
   },
   "file_extension": ".py",
   "mimetype": "text/x-python",
   "name": "python",
   "nbconvert_exporter": "python",
   "pygments_lexer": "ipython3",
   "version": "3.12.3"
  }
 },
 "nbformat": 4,
 "nbformat_minor": 2
}
