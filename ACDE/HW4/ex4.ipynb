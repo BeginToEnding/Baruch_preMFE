{
 "cells": [
  {
   "cell_type": "code",
   "execution_count": 10,
   "id": "6cbcf900",
   "metadata": {},
   "outputs": [],
   "source": [
    "import numpy as np\n",
    "import pandas as pd\n",
    "from scipy.stats import norm\n",
    "\n",
    "# Given parameters\n",
    "S = 40                  # Spot price\n",
    "K = 40                  # Strike price (ATM)\n",
    "T = 5 / 12              # Time to maturity in years\n",
    "q = 0.01                # Dividend yield\n",
    "r = 0.025               # Risk-free rate\n",
    "market_price = 2.75     # Observed market price of the call\n",
    "tol = 1e-6            # Tolerance for root-finding\n",
    "\n",
    "# Black-Scholes call price with continuous dividend yield\n",
    "def bs_call_price(sigma):\n",
    "    d1 = (np.log(S / K) + (r - q + 0.5 * sigma**2) * T) / (sigma * np.sqrt(T))\n",
    "    d2 = d1 - sigma * np.sqrt(T)\n",
    "    return S * np.exp(-q * T) * norm.cdf(d1) - K * np.exp(-r * T) * norm.cdf(d2)\n",
    "\n",
    "# Vega for Newton's method\n",
    "def vega(sigma):\n",
    "    d1 = (np.log(S / K) + (r - q + 0.5 * sigma**2) * T) / (sigma * np.sqrt(T))\n",
    "    return S * np.exp(-q * T) * norm.pdf(d1) * np.sqrt(T)\n",
    "\n",
    "# Define f(sigma) = BS_price(sigma) - market_price\n",
    "def f(sigma):\n",
    "    return bs_call_price(sigma) - market_price\n",
    "\n",
    "# Bisection method\n",
    "def bisection_method(a, b):\n",
    "    steps = []\n",
    "    while (b - a) / 2 > tol:\n",
    "        mid = (a + b) / 2\n",
    "        f_mid = f(mid)\n",
    "        steps.append(mid)\n",
    "        if f_mid == 0 or (b - a) / 2 < tol:\n",
    "            return mid, steps\n",
    "        elif f(a) * f_mid < 0:\n",
    "            b = mid\n",
    "        else:\n",
    "            a = mid\n",
    "    return (a + b) / 2, steps\n",
    "\n",
    "# Secant method\n",
    "def secant_method(x0, x1):\n",
    "    steps = [x0, x1]\n",
    "    while abs(x1 - x0) > tol:\n",
    "        f0, f1 = f(x0), f(x1)\n",
    "        x2 = x1 - f1 * (x1 - x0) / (f1 - f0)\n",
    "        steps.append(x2)\n",
    "        x0, x1 = x1, x2\n",
    "    return x1, steps\n",
    "\n",
    "# Newton's method\n",
    "def newton_method(x0):\n",
    "    steps = [x0]\n",
    "    while True:\n",
    "        fx = f(x0)\n",
    "        v = vega(x0)\n",
    "        if v == 0:\n",
    "            break\n",
    "        x1 = x0 - fx / v\n",
    "        steps.append(x1)\n",
    "        if abs(x1 - x0) < tol:\n",
    "            break\n",
    "        x0 = x1\n",
    "    return x1, steps\n",
    "\n",
    "# Run all methods\n",
    "bisection_result, bisection_steps = bisection_method(0.0001, 1)\n",
    "secant_result, secant_steps = secant_method(0.5, 0.49)\n",
    "newton_result, newton_steps = newton_method(0.5)\n",
    "\n",
    "# Combine into a single DataFrame\n",
    "max_len = max(len(bisection_steps), len(secant_steps), len(newton_steps))\n",
    "df = pd.DataFrame({\n",
    "    \"Bisection\": bisection_steps + [np.nan] * (max_len - len(bisection_steps)),\n",
    "    \"Secant\": secant_steps + [np.nan] * (max_len - len(secant_steps)),\n",
    "    \"Newton\": newton_steps + [np.nan] * (max_len - len(newton_steps)),\n",
    "})\n"
   ]
  },
  {
   "cell_type": "code",
   "execution_count": 12,
   "id": "30dca1ef",
   "metadata": {},
   "outputs": [
    {
     "name": "stdout",
     "output_type": "stream",
     "text": [
      "\\begin{table}\n",
      "\\caption{Convergence of methods for implied volatility}\n",
      "\\label{tab:implied_volatility_convergence}\n",
      "\\begin{tabular}{rrr}\n",
      "\\toprule\n",
      "Bisection & Secant & Newton \\\\\n",
      "\\midrule\n",
      "0.5000500 & 0.5000000 & 0.5000000 \\\\\n",
      "0.2500750 & 0.4900000 & 0.2556527 \\\\\n",
      "0.3750625 & 0.2557150 & 0.2569032 \\\\\n",
      "0.3125687 & 0.2569076 & 0.2569032 \\\\\n",
      "0.2813219 & 0.2569032 & NaN \\\\\n",
      "0.2656984 & 0.2569032 & NaN \\\\\n",
      "0.2578867 & NaN & NaN \\\\\n",
      "0.2539809 & NaN & NaN \\\\\n",
      "0.2559338 & NaN & NaN \\\\\n",
      "0.2569103 & NaN & NaN \\\\\n",
      "0.2564220 & NaN & NaN \\\\\n",
      "0.2566661 & NaN & NaN \\\\\n",
      "0.2567882 & NaN & NaN \\\\\n",
      "0.2568492 & NaN & NaN \\\\\n",
      "0.2568797 & NaN & NaN \\\\\n",
      "0.2568950 & NaN & NaN \\\\\n",
      "0.2569026 & NaN & NaN \\\\\n",
      "0.2569064 & NaN & NaN \\\\\n",
      "0.2569045 & NaN & NaN \\\\\n",
      "\\bottomrule\n",
      "\\end{tabular}\n",
      "\\end{table}\n",
      "\n"
     ]
    }
   ],
   "source": [
    "print(df.to_latex(caption=\"Convergence of methods for implied volatility\", label=\"tab:implied_volatility_convergence\", escape=True, float_format=\"%.7f\", index=False))"
   ]
  },
  {
   "cell_type": "code",
   "execution_count": 13,
   "id": "b956a949",
   "metadata": {},
   "outputs": [
    {
     "data": {
      "text/plain": [
       "(0.256710246570848, 0.0007509669584858304)"
      ]
     },
     "execution_count": 13,
     "metadata": {},
     "output_type": "execute_result"
    }
   ],
   "source": [
    "# Newton's method result as sigma_imp\n",
    "sigma_imp = newton_result\n",
    "\n",
    "# Apply the approximation formula\n",
    "numerator = np.sqrt(2 * np.pi) * (market_price - 0.5 * (r - q) * T * S)\n",
    "denominator = S * np.sqrt(T) * (1 - 0.5 * (r + q) * T)\n",
    "sigma_approx = numerator / denominator\n",
    "\n",
    "# Compute the relative error\n",
    "relative_error = abs(sigma_approx - sigma_imp) / sigma_imp\n",
    "sigma_approx, relative_error\n"
   ]
  },
  {
   "cell_type": "code",
   "execution_count": null,
   "id": "59ab9379",
   "metadata": {},
   "outputs": [],
   "source": []
  }
 ],
 "metadata": {
  "kernelspec": {
   "display_name": "newest",
   "language": "python",
   "name": "python3"
  },
  "language_info": {
   "codemirror_mode": {
    "name": "ipython",
    "version": 3
   },
   "file_extension": ".py",
   "mimetype": "text/x-python",
   "name": "python",
   "nbconvert_exporter": "python",
   "pygments_lexer": "ipython3",
   "version": "3.12.3"
  }
 },
 "nbformat": 4,
 "nbformat_minor": 5
}
