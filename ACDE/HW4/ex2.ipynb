{
 "cells": [
  {
   "cell_type": "code",
   "execution_count": 5,
   "id": "a0f07aa7",
   "metadata": {},
   "outputs": [],
   "source": [
    "import numpy as np\n",
    "import pandas as pd\n",
    "from scipy.stats import norm\n",
    "\n",
    "# Given constants\n",
    "T = 0.5              # 6 months\n",
    "sigma = 0.3\n",
    "r = 0.03\n",
    "K = 1                # Strike set to 1 without loss of generality\n",
    "\n",
    "# Theta function in terms of x = S/K\n",
    "def theta(x):\n",
    "    S = x * K\n",
    "    d1 = (np.log(x) + (r + 0.5 * sigma**2) * T) / (sigma * np.sqrt(T))\n",
    "    d2 = d1 - sigma * np.sqrt(T)\n",
    "    term1 = - (sigma * S) / (2 * np.sqrt(2 * np.pi * T)) * np.exp(-0.5 * d1**2)\n",
    "    term2 = r * K * np.exp(-r * T) * norm.cdf(-d2)\n",
    "    return term1 + term2\n",
    "\n",
    "# Derivative of theta with respect to x\n",
    "def dtheta_dx(x):\n",
    "    S = x * K\n",
    "    d1 = (np.log(x) + (r + 0.5 * sigma**2) * T) / (sigma * np.sqrt(T))\n",
    "    d2 = d1 - sigma * np.sqrt(T)\n",
    "\n",
    "    phi_d1 = np.exp(-0.5 * d1**2) / np.sqrt(2 * np.pi)\n",
    "    phi_d2 = np.exp(-0.5 * d2**2) / np.sqrt(2 * np.pi)\n",
    "\n",
    "    d_d1_dx = 1 / (x * sigma * np.sqrt(T))\n",
    "    d_d2_dx = d_d1_dx\n",
    "\n",
    "    term1 = - (sigma * K) / (2 * np.sqrt(2 * np.pi * T)) * np.exp(-0.5 * d1**2)\n",
    "    term2 = - (sigma * K * x) / (2 * np.sqrt(2 * np.pi * T)) * np.exp(-0.5 * d1**2) * (-d1) * d_d1_dx\n",
    "    term3 = r * K * np.exp(-r * T) * (-phi_d2 * d_d2_dx)\n",
    "    return term1 + term2 + term3\n",
    "\n",
    "# General Newton method\n",
    "def newton_method(f, df, x0, tol=1e-8, max_iter=2000):\n",
    "    data = []\n",
    "    x = x0\n",
    "    for i in range(max_iter):\n",
    "        fx = f(x)\n",
    "        dfx = df(x)\n",
    "        if dfx == 0:\n",
    "            break\n",
    "        x_new = x - fx / dfx\n",
    "        error = abs(x_new - x)\n",
    "        data.append({\n",
    "            \"iteration\": i,\n",
    "            \"x\": x,\n",
    "            \"f(x)\": fx,\n",
    "            \"f'(x)\": dfx,\n",
    "            \"x_new\": x_new,\n",
    "            \"error\": error\n",
    "        })\n",
    "        if error < tol:\n",
    "            break\n",
    "        x = x_new\n",
    "    return pd.DataFrame(data)\n",
    "\n",
    "df = newton_method(theta, dtheta_dx, x0=0.7)\n"
   ]
  },
  {
   "cell_type": "code",
   "execution_count": 8,
   "id": "79fb7d5b",
   "metadata": {},
   "outputs": [
    {
     "name": "stdout",
     "output_type": "stream",
     "text": [
      "\\begin{table}\n",
      "\\caption{Newton's Method for Theta Function}\n",
      "\\label{tab:newton_theta}\n",
      "\\begin{tabular}{rrrrrr}\n",
      "\\toprule\n",
      "iteration & x & f(x) & f'(x) & x\\_new & error \\\\\n",
      "\\midrule\n",
      "0 & 0.700000 & 0.009182 & -0.239005 & 0.738419 & 0.038419 \\\\\n",
      "1 & 0.738419 & -0.001072 & -0.292386 & 0.734752 & 0.003667 \\\\\n",
      "2 & 0.734752 & -0.000008 & -0.287984 & 0.734724 & 0.000028 \\\\\n",
      "3 & 0.734724 & -0.000000 & -0.287950 & 0.734724 & 0.000000 \\\\\n",
      "\\bottomrule\n",
      "\\end{tabular}\n",
      "\\end{table}\n",
      "\n"
     ]
    }
   ],
   "source": [
    "print(df.to_latex(caption=\"Newton's Method for Theta Function\", label=\"tab:newton_theta\", index=False, escape=True))"
   ]
  },
  {
   "cell_type": "code",
   "execution_count": null,
   "id": "8932b433",
   "metadata": {},
   "outputs": [],
   "source": []
  }
 ],
 "metadata": {
  "kernelspec": {
   "display_name": "newest",
   "language": "python",
   "name": "python3"
  },
  "language_info": {
   "codemirror_mode": {
    "name": "ipython",
    "version": 3
   },
   "file_extension": ".py",
   "mimetype": "text/x-python",
   "name": "python",
   "nbconvert_exporter": "python",
   "pygments_lexer": "ipython3",
   "version": "3.12.3"
  }
 },
 "nbformat": 4,
 "nbformat_minor": 5
}
