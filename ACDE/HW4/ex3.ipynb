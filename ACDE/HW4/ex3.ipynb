{
 "cells": [
  {
   "cell_type": "code",
   "execution_count": 12,
   "id": "c30e90c2",
   "metadata": {},
   "outputs": [],
   "source": [
    "import numpy as np\n",
    "import pandas as pd\n",
    "from scipy.stats import norm\n",
    "\n",
    "# Market data\n",
    "S = 30        # Spot price\n",
    "K = 27        # Strike price\n",
    "r = 0.04      # Risk-free rate\n",
    "q = 0.01      # Dividend yield\n",
    "T = 7 / 12    # Time to maturity\n",
    "market_price = 4.5\n",
    "tol = 1e-6\n",
    "max_iter = 100\n",
    "\n",
    "# Black-Scholes Call Price\n",
    "def bs_call_price(sigma):\n",
    "    d1 = (np.log(S / K) + (r - q + 0.5 * sigma**2) * T) / (sigma * np.sqrt(T))\n",
    "    d2 = d1 - sigma * np.sqrt(T)\n",
    "    return S * np.exp(-q * T) * norm.cdf(d1) - K * np.exp(-r * T) * norm.cdf(d2)\n",
    "\n",
    "# Vega (derivative of BS call price with respect to sigma)\n",
    "def vega(sigma):\n",
    "    d1 = (np.log(S / K) + (r - q + 0.5 * sigma**2) * T) / (sigma * np.sqrt(T))\n",
    "    return S * np.exp(-q * T) * norm.pdf(d1) * np.sqrt(T)\n",
    "\n",
    "# Newton-Raphson Method\n",
    "def newton_method(sigma0):\n",
    "    sigma = sigma0\n",
    "    records = []\n",
    "    for i in range(max_iter):\n",
    "        price = bs_call_price(sigma)\n",
    "        v = vega(sigma)\n",
    "        error = price - market_price\n",
    "        sigma_new = sigma - error / v\n",
    "        records.append((i, sigma, price, error, v, sigma_new))\n",
    "        if abs(error) < tol:\n",
    "            break\n",
    "        sigma = sigma_new\n",
    "    df_newton = pd.DataFrame(records, columns=[\"iter\", \"sigma\", \"price\", \"error\", \"vega\", \"next_sigma\"])\n",
    "    return df_newton\n",
    "\n",
    "# Secant Method\n",
    "def secant_method(sigma0, sigma1):\n",
    "    f0 = bs_call_price(sigma0) - market_price\n",
    "    f1 = bs_call_price(sigma1) - market_price\n",
    "    records = [(0, sigma0, f0, None, sigma1)]\n",
    "    for i in range(1, max_iter):\n",
    "        slope = (f1 - f0) / (sigma1 - sigma0)\n",
    "        sigma_new = sigma1 - f1 / slope\n",
    "        f_new = bs_call_price(sigma_new) - market_price\n",
    "        records.append((i, sigma1, f1, slope, sigma_new))\n",
    "        if abs(f_new) < tol:\n",
    "            break\n",
    "        sigma0, f0 = sigma1, f1\n",
    "        sigma1, f1 = sigma_new, f_new\n",
    "    df_secant = pd.DataFrame(records, columns=[\"iter\", \"sigma\", \"error\", \"slope\", \"next_sigma\"])\n",
    "    return df_secant\n",
    "\n",
    "# Run both methods\n",
    "df_newton = newton_method(0.5)\n",
    "df_secant = secant_method(0.5, 0.501)\n",
    "\n"
   ]
  },
  {
   "cell_type": "code",
   "execution_count": 16,
   "id": "6662ca70",
   "metadata": {},
   "outputs": [
    {
     "name": "stdout",
     "output_type": "stream",
     "text": [
      "\\begin{table}\n",
      "\\caption{Newton-Raphson Method Results}\n",
      "\\label{tab:newton_results}\n",
      "\\begin{tabular}{rrrrrr}\n",
      "\\toprule\n",
      "iter & sigma & price & error & vega & next\\_sigma \\\\\n",
      "\\midrule\n",
      "0 & 0.500000 & 6.194813 & 1.694813 & 7.968646 & 0.287315 \\\\\n",
      "1 & 0.287315 & 4.552267 & 0.052267 & 7.262646 & 0.280118 \\\\\n",
      "2 & 0.280118 & 4.500202 & 0.000202 & 7.205791 & 0.280090 \\\\\n",
      "3 & 0.280090 & 4.500000 & 0.000000 & 7.205562 & 0.280090 \\\\\n",
      "\\bottomrule\n",
      "\\end{tabular}\n",
      "\\end{table}\n",
      "\n"
     ]
    }
   ],
   "source": [
    "print(df_newton.to_latex(caption=\"Newton-Raphson Method Results\", index=False, escape=True, label=\"tab:newton_results\"))"
   ]
  },
  {
   "cell_type": "code",
   "execution_count": 17,
   "id": "83154c2c",
   "metadata": {},
   "outputs": [
    {
     "name": "stdout",
     "output_type": "stream",
     "text": [
      "\\begin{table}\n",
      "\\caption{Secant Method Results}\n",
      "\\label{tab:secant_results}\n",
      "\\begin{tabular}{rrrrr}\n",
      "\\toprule\n",
      "iter & sigma & error & slope & next\\_sigma \\\\\n",
      "\\midrule\n",
      "0 & 0.500000 & 1.694813 & NaN & 0.501000 \\\\\n",
      "1 & 0.501000 & 1.702782 & 7.969178 & 0.287329 \\\\\n",
      "2 & 0.287329 & 0.052370 & 7.724082 & 0.280549 \\\\\n",
      "3 & 0.280549 & 0.003307 & 7.236335 & 0.280092 \\\\\n",
      "4 & 0.280092 & 0.000013 & 7.207446 & 0.280090 \\\\\n",
      "\\bottomrule\n",
      "\\end{tabular}\n",
      "\\end{table}\n",
      "\n"
     ]
    }
   ],
   "source": [
    "print(df_secant.to_latex(caption=\"Secant Method Results\", index=False, escape=True, label=\"tab:secant_results\"))"
   ]
  },
  {
   "cell_type": "code",
   "execution_count": null,
   "id": "7c893646",
   "metadata": {},
   "outputs": [],
   "source": []
  }
 ],
 "metadata": {
  "kernelspec": {
   "display_name": "newest",
   "language": "python",
   "name": "python3"
  },
  "language_info": {
   "codemirror_mode": {
    "name": "ipython",
    "version": 3
   },
   "file_extension": ".py",
   "mimetype": "text/x-python",
   "name": "python",
   "nbconvert_exporter": "python",
   "pygments_lexer": "ipython3",
   "version": "3.12.3"
  }
 },
 "nbformat": 4,
 "nbformat_minor": 5
}
