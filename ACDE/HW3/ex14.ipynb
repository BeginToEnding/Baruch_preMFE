{
 "cells": [
  {
   "cell_type": "code",
   "execution_count": 2,
   "id": "c400e7aa",
   "metadata": {},
   "outputs": [
    {
     "name": "stdout",
     "output_type": "stream",
     "text": [
      "n=4, value=0.252179245276\n",
      "n=8, value=0.284557236478, diff=3.26e-02\n",
      "n=16, value=0.281420173997, diff=3.16e-03\n",
      "n=32, value=0.283062151035, diff=1.65e-03\n",
      "n=64, value=0.283681879287, diff=6.24e-04\n",
      "n=128, value=0.283907525376, diff=2.27e-04\n",
      "n=256, value=0.283988416587, diff=8.15e-05\n",
      "n=512, value=0.284017211120, diff=2.90e-05\n",
      "n=1024, value=0.284027425999, diff=1.03e-05\n",
      "n=2048, value=0.284031043601, diff=3.64e-06\n",
      "n=4096, value=0.284032323695, diff=1.29e-06\n",
      "n=8192, value=0.284032776467, diff=4.56e-07\n",
      "n=16384, value=0.284032936580, diff=1.61e-07\n",
      "n=32768, value=0.284032993194, diff=5.70e-08\n",
      "n=65536, value=0.284033013212, diff=2.02e-08\n",
      "n=131072, value=0.284033020289, diff=7.13e-09\n",
      "n=262144, value=0.284033022791, diff=2.52e-09\n",
      "n=524288, value=0.284033023676, diff=8.91e-10\n"
     ]
    }
   ],
   "source": [
    "import numpy as np\n",
    "\n",
    "def option_integrand(y, mu, sigma2):\n",
    "    if y <= 0.0 or y >= 1.0:\n",
    "        return 0.0\n",
    "    ln_y = -np.log(y)\n",
    "    sqrt_ln = np.sqrt(ln_y)\n",
    "    exponent = -((ln_y - mu) ** 2) / (2 * sigma2)\n",
    "    return sqrt_ln * np.exp(exponent) / (y * np.sqrt(2 * np.pi * sigma2))\n",
    "\n",
    "def simpsons_rule(mu, sigma2, n):\n",
    "    a, b = 0.0, 1.0\n",
    "    h = (b - a) / n\n",
    "    x = np.linspace(a, b, n + 1)\n",
    "    fx = np.array([option_integrand(xi, mu, sigma2) for xi in x])\n",
    "    \n",
    "    return h / 3 * (fx[0] + 2 * np.sum(fx[2:n:2]) + 4 * np.sum(fx[1:n:2]) + fx[n])\n",
    "\n",
    "# Parameters\n",
    "S0 = 50\n",
    "K = 45\n",
    "T = 0.25\n",
    "r = 0.03\n",
    "q = 0.01\n",
    "sigma = 0.25\n",
    "\n",
    "mu = np.log(S0 / K) + (r - q - 0.5 * sigma ** 2) * T\n",
    "sigma2 = sigma ** 2 * T\n",
    "discount = np.exp(-r * T)\n",
    "\n",
    "# Iterative integration\n",
    "tol = 1e-9\n",
    "n = 4\n",
    "prev_val = simpsons_rule(mu, sigma2, n)\n",
    "print(f\"n={n}, value={discount * prev_val:.12f}\")\n",
    "\n",
    "while True:\n",
    "    n *= 2\n",
    "    curr_val = simpsons_rule(mu, sigma2, n)\n",
    "    print(f\"n={n}, value={discount * curr_val:.12f}, diff={abs(curr_val - prev_val):.2e}\")\n",
    "    if abs(curr_val - prev_val) < tol:\n",
    "        break\n",
    "    prev_val = curr_val\n"
   ]
  },
  {
   "cell_type": "code",
   "execution_count": null,
   "id": "5ad4f4d6",
   "metadata": {},
   "outputs": [],
   "source": []
  }
 ],
 "metadata": {
  "kernelspec": {
   "display_name": "newest",
   "language": "python",
   "name": "python3"
  },
  "language_info": {
   "codemirror_mode": {
    "name": "ipython",
    "version": 3
   },
   "file_extension": ".py",
   "mimetype": "text/x-python",
   "name": "python",
   "nbconvert_exporter": "python",
   "pygments_lexer": "ipython3",
   "version": "3.12.3"
  }
 },
 "nbformat": 4,
 "nbformat_minor": 5
}
