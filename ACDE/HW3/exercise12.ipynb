{
 "cells": [
  {
   "cell_type": "code",
   "execution_count": 2,
   "id": "169c6a3e",
   "metadata": {},
   "outputs": [],
   "source": [
    "import numpy as np\n",
    "import pandas as pd\n",
    "from math import sqrt, pi\n",
    "\n",
    "# Function under the integral\n",
    "def f(x):\n",
    "    return np.exp(-x**2 / 2)\n",
    "\n",
    "# Simpson's rule\n",
    "def simpson(f, a, b, n):\n",
    "    h = (b - a) / n\n",
    "    x = np.linspace(a, b, n + 1)\n",
    "    fx = f(x)\n",
    "    return h / 3 * (fx[0] + 2 * np.sum(fx[2:n:2]) + 4 * np.sum(fx[1:n:2]) + fx[n])\n",
    "\n",
    "# Compute N(t) with convergence log\n",
    "def compute_N_with_log(t, tol=1e-12):\n",
    "    a, b = (0, t) if t >= 0 else (t, 0)\n",
    "    logs = []\n",
    "    n = 2\n",
    "    I_old = simpson(f, a, b, n)\n",
    "    logs.append((n, 0.5 + np.sign(t) * I_old / sqrt(2 * pi)))\n",
    "\n",
    "    while True:\n",
    "        n *= 2\n",
    "        I_new = simpson(f, a, b, n)\n",
    "        N_val = 0.5 + np.sign(t) * I_new / sqrt(2 * pi)\n",
    "        logs.append((n, N_val))\n",
    "        if abs(I_new - I_old) < tol:\n",
    "            break\n",
    "        I_old = I_new\n",
    "\n",
    "    return pd.DataFrame(logs, columns=[\"n\", f\"N({t})\"])\n",
    "\n",
    "# Combine results into one DataFrame\n",
    "df_list = [compute_N_with_log(t) for t in [0.1, 0.5, 1.0]]\n",
    "merged = df_list[0]\n",
    "for df in df_list[1:]:\n",
    "    merged = pd.merge(merged, df, on=\"n\", how=\"outer\")\n",
    "\n",
    "# Sort by n and format values\n",
    "merged = merged.sort_values(\"n\").reset_index(drop=True)\n"
   ]
  },
  {
   "cell_type": "code",
   "execution_count": 4,
   "id": "4d83d901",
   "metadata": {},
   "outputs": [
    {
     "name": "stdout",
     "output_type": "stream",
     "text": [
      "\\begin{tabular}{rrrr}\n",
      "\\toprule\n",
      "n & N(0.1) & N(0.5) & N(1.0) \\\\\n",
      "\\midrule\n",
      "2 & 0.5398278414043 & 0.6914733395314 & 0.8415290519963 \\\\\n",
      "4 & 0.5398278375347 & 0.6914631235012 & 0.8413554878566 \\\\\n",
      "8 & 0.5398278372931 & 0.6914625023982 & 0.8413454061391 \\\\\n",
      "16 & 0.5398278372780 & 0.6914624638402 & 0.8413447871501 \\\\\n",
      "32 & 0.5398278372771 & 0.6914624614343 & 0.8413447486335 \\\\\n",
      "64 & 0.5398278372770 & 0.6914624612840 & 0.8413447462288 \\\\\n",
      "128 & NaN & 0.6914624612746 & 0.8413447460786 \\\\\n",
      "256 & NaN & 0.6914624612741 & 0.8413447460692 \\\\\n",
      "512 & NaN & 0.6914624612740 & 0.8413447460686 \\\\\n",
      "1024 & NaN & NaN & 0.8413447460685 \\\\\n",
      "\\bottomrule\n",
      "\\end{tabular}\n",
      "\n"
     ]
    }
   ],
   "source": [
    "print(merged.to_latex(index=False, float_format=\"%.13f\", escape=False))"
   ]
  },
  {
   "cell_type": "code",
   "execution_count": null,
   "id": "a821ab8d",
   "metadata": {},
   "outputs": [],
   "source": []
  }
 ],
 "metadata": {
  "kernelspec": {
   "display_name": "newest",
   "language": "python",
   "name": "python3"
  },
  "language_info": {
   "codemirror_mode": {
    "name": "ipython",
    "version": 3
   },
   "file_extension": ".py",
   "mimetype": "text/x-python",
   "name": "python",
   "nbconvert_exporter": "python",
   "pygments_lexer": "ipython3",
   "version": "3.12.3"
  }
 },
 "nbformat": 4,
 "nbformat_minor": 5
}
