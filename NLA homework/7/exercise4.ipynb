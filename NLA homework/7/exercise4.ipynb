{
 "cells": [
  {
   "cell_type": "code",
   "execution_count": 8,
   "metadata": {},
   "outputs": [
    {
     "name": "stdout",
     "output_type": "stream",
     "text": [
      "Total value of the first stock (V1): $12000\n",
      "Total value of the second stock (V2): $32500\n",
      "Total value of the portfolio (V_total): $44500\n",
      "Weight of the first stock (w1): 0.2697 or 26.97%\n",
      "Weight of the second stock (w2): 0.7303 or 73.03%\n"
     ]
    }
   ],
   "source": [
    "from sympy import symbols, Matrix\n",
    "import numpy as np\n",
    "\n",
    "# Stock prices\n",
    "P1 = 80  # Price of the first stock\n",
    "P2 = 65  # Price of the second stock\n",
    "\n",
    "# Number of shares\n",
    "S1 = 150  # Number of shares of the first stock\n",
    "S2 = 500  # Number of shares of the second stock\n",
    "\n",
    "# Calculate the total value invested in each stock\n",
    "V1 = P1 * S1\n",
    "V2 = P2 * S2\n",
    "\n",
    "# Calculate the total value of the portfolio\n",
    "V_total = V1 + V2\n",
    "\n",
    "# Calculate the weights of each stock in the portfolio\n",
    "w1 = V1 / V_total\n",
    "w2 = V2 / V_total\n",
    "\n",
    "# Print the results\n",
    "print(f\"Total value of the first stock (V1): ${V1}\")\n",
    "print(f\"Total value of the second stock (V2): ${V2}\")\n",
    "print(f\"Total value of the portfolio (V_total): ${V_total}\")\n",
    "print(f\"Weight of the first stock (w1): {w1:.4f} or {w1*100:.2f}%\")\n",
    "print(f\"Weight of the second stock (w2): {w2:.4f} or {w2*100:.2f}%\")"
   ]
  },
  {
   "cell_type": "code",
   "execution_count": 6,
   "metadata": {},
   "outputs": [
    {
     "data": {
      "text/plain": [
       "([-0.420111002811131, 0.646416612095464],\n",
       " [1.42011100281113, 0.353583387904536])"
      ]
     },
     "execution_count": 6,
     "metadata": {},
     "output_type": "execute_result"
    }
   ],
   "source": [
    "from sympy import symbols, Eq, solve, sqrt\n",
    "\n",
    "# Define symbols\n",
    "w1 = symbols('w1')\n",
    "sigma1 = 0.35  # Standard deviation of stock 1\n",
    "sigma2 = 0.15  # Standard deviation of stock 2\n",
    "rho = 0.15     # Correlation coefficient\n",
    "sigma_p = 0.24  # Target standard deviation of the portfolio\n",
    "\n",
    "# Define w2 in terms of w1\n",
    "w2 = 1 - w1\n",
    "\n",
    "# Portfolio variance equation in terms of w1\n",
    "portfolio_variance_eq = Eq((w1**2 * sigma1**2 + 2 * w1 * w2 * rho * sigma1 * sigma2 + w2**2 * sigma2**2), sigma_p**2)\n",
    "\n",
    "# Solve for w1\n",
    "w1_solutions = solve(portfolio_variance_eq, w1)\n",
    "\n",
    "# Calculate corresponding w2 values\n",
    "w2_solutions = [1 - w1_val for w1_val in w1_solutions]\n",
    "\n",
    "w1_solutions, w2_solutions\n"
   ]
  },
  {
   "cell_type": "code",
   "execution_count": 12,
   "metadata": {},
   "outputs": [
    {
     "name": "stdout",
     "output_type": "stream",
     "text": [
      "[-0.420111002811131 1.42011100281113]\n",
      "0.0289944498594435\n",
      "[0.646416612095464 0.353583387904536]\n",
      "0.0823208306047732\n"
     ]
    }
   ],
   "source": [
    "returns = np.array([0.10, 0.05])\n",
    "expected_returns = []\n",
    "for w1, w2 in zip(w1_solutions, w2_solutions):\n",
    "    weights = np.array([w1, w2])\n",
    "    print(weights)\n",
    "    expected_return = np.dot(weights, returns)\n",
    "    print(expected_return)\n",
    "    expected_returns.append(expected_return)\n"
   ]
  },
  {
   "cell_type": "code",
   "execution_count": null,
   "metadata": {},
   "outputs": [],
   "source": []
  }
 ],
 "metadata": {
  "kernelspec": {
   "display_name": "newest",
   "language": "python",
   "name": "python3"
  },
  "language_info": {
   "codemirror_mode": {
    "name": "ipython",
    "version": 3
   },
   "file_extension": ".py",
   "mimetype": "text/x-python",
   "name": "python",
   "nbconvert_exporter": "python",
   "pygments_lexer": "ipython3",
   "version": "3.12.3"
  }
 },
 "nbformat": 4,
 "nbformat_minor": 2
}
