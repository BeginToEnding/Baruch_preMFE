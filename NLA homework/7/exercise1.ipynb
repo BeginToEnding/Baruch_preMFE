{
 "cells": [
  {
   "cell_type": "code",
   "execution_count": 2,
   "metadata": {},
   "outputs": [
    {
     "name": "stdout",
     "output_type": "stream",
     "text": [
      "    2-year  3-year  5-year  10-year\n",
      "0     1.69    2.58    3.57     4.63\n",
      "1     1.81    2.71    3.69     4.73\n",
      "2     1.81    2.72    3.70     4.74\n",
      "3     1.79    2.78    3.77     4.81\n",
      "4     1.79    2.77    3.77     4.80\n",
      "5     1.83    2.75    3.73     4.79\n",
      "6     1.81    2.71    3.72     4.76\n",
      "7     1.81    2.72    3.74     4.77\n",
      "8     1.83    2.76    3.77     4.80\n",
      "9     1.81    2.73    3.75     4.77\n",
      "10    1.82    2.75    3.77     4.80\n",
      "11    1.82    2.75    3.76     4.80\n",
      "12    1.80    2.73    3.75     4.78\n",
      "13    1.78    2.71    3.72     4.73\n",
      "14    1.79    2.71    3.71     4.73\n"
     ]
    }
   ],
   "source": [
    "import pandas as pd\n",
    "import numpy as np\n",
    "\n",
    "# Define the data\n",
    "data = {\n",
    "    \"2-year\": [1.69, 1.81, 1.81, 1.79, 1.79, 1.83, 1.81, 1.81, 1.83, 1.81, 1.82, 1.82, 1.80, 1.78, 1.79],\n",
    "    \"3-year\": [2.58, 2.71, 2.72, 2.78, 2.77, 2.75, 2.71, 2.72, 2.76, 2.73, 2.75, 2.75, 2.73, 2.71, 2.71],\n",
    "    \"5-year\": [3.57, 3.69, 3.70, 3.77, 3.77, 3.73, 3.72, 3.74, 3.77, 3.75, 3.77, 3.76, 3.75, 3.72, 3.71],\n",
    "    \"10-year\": [4.63, 4.73, 4.74, 4.81, 4.80, 4.79, 4.76, 4.77, 4.80, 4.77, 4.80, 4.80, 4.78, 4.73, 4.73],\n",
    "}\n",
    "\n",
    "# Create a DataFrame\n",
    "df = pd.DataFrame(data)\n",
    "\n",
    "# Display the DataFrame\n",
    "print(df)\n"
   ]
  },
  {
   "cell_type": "code",
   "execution_count": 3,
   "metadata": {},
   "outputs": [
    {
     "name": "stdout",
     "output_type": "stream",
     "text": [
      "Coefficients (a, b1, b2, b3): [-1.27202812  0.12720817  0.3340453   0.52977688]\n",
      "Approximation error: 0.04301298358083895\n"
     ]
    }
   ],
   "source": [
    "# Extracting columns for T2, T3, T5, and T10\n",
    "T2 = df['2-year'].values\n",
    "T3 = df['3-year'].values\n",
    "T5 = df['5-year'].values\n",
    "T10 = df['10-year'].values\n",
    "\n",
    "# Creating matrix A with a column of ones and columns for T2, T5, T10\n",
    "A = np.column_stack((np.ones(T2.shape), T2, T5, T10))\n",
    "\n",
    "# Calculating the coefficients using the normal equation\n",
    "y = np.linalg.inv(A.T @ A) @ A.T @ T3\n",
    "\n",
    "# Calculating the predictions and the error\n",
    "T3_pred = A @ y\n",
    "error = np.linalg.norm(T3 - T3_pred)\n",
    "\n",
    "print(\"Coefficients (a, b1, b2, b3):\", y)\n",
    "print(\"Approximation error:\", error)\n"
   ]
  },
  {
   "cell_type": "code",
   "execution_count": 4,
   "metadata": {},
   "outputs": [
    {
     "name": "stdout",
     "output_type": "stream",
     "text": [
      "error_linear_interp 1.0986961970141398\n"
     ]
    },
    {
     "data": {
      "text/html": [
       "<div>\n",
       "<style scoped>\n",
       "    .dataframe tbody tr th:only-of-type {\n",
       "        vertical-align: middle;\n",
       "    }\n",
       "\n",
       "    .dataframe tbody tr th {\n",
       "        vertical-align: top;\n",
       "    }\n",
       "\n",
       "    .dataframe thead th {\n",
       "        text-align: right;\n",
       "    }\n",
       "</style>\n",
       "<table border=\"1\" class=\"dataframe\">\n",
       "  <thead>\n",
       "    <tr style=\"text-align: right;\">\n",
       "      <th></th>\n",
       "      <th>2-year</th>\n",
       "      <th>3-year</th>\n",
       "      <th>5-year</th>\n",
       "      <th>10-year</th>\n",
       "      <th>T3_OLS_Pred</th>\n",
       "      <th>T3_linear_interp</th>\n",
       "    </tr>\n",
       "  </thead>\n",
       "  <tbody>\n",
       "    <tr>\n",
       "      <th>0</th>\n",
       "      <td>1.69</td>\n",
       "      <td>2.58</td>\n",
       "      <td>3.57</td>\n",
       "      <td>4.63</td>\n",
       "      <td>2.588362</td>\n",
       "      <td>2.316667</td>\n",
       "    </tr>\n",
       "    <tr>\n",
       "      <th>1</th>\n",
       "      <td>1.81</td>\n",
       "      <td>2.71</td>\n",
       "      <td>3.69</td>\n",
       "      <td>4.73</td>\n",
       "      <td>2.696690</td>\n",
       "      <td>2.436667</td>\n",
       "    </tr>\n",
       "    <tr>\n",
       "      <th>2</th>\n",
       "      <td>1.81</td>\n",
       "      <td>2.72</td>\n",
       "      <td>3.70</td>\n",
       "      <td>4.74</td>\n",
       "      <td>2.705329</td>\n",
       "      <td>2.440000</td>\n",
       "    </tr>\n",
       "    <tr>\n",
       "      <th>3</th>\n",
       "      <td>1.79</td>\n",
       "      <td>2.78</td>\n",
       "      <td>3.77</td>\n",
       "      <td>4.81</td>\n",
       "      <td>2.763252</td>\n",
       "      <td>2.450000</td>\n",
       "    </tr>\n",
       "    <tr>\n",
       "      <th>4</th>\n",
       "      <td>1.79</td>\n",
       "      <td>2.77</td>\n",
       "      <td>3.77</td>\n",
       "      <td>4.80</td>\n",
       "      <td>2.757954</td>\n",
       "      <td>2.450000</td>\n",
       "    </tr>\n",
       "    <tr>\n",
       "      <th>5</th>\n",
       "      <td>1.83</td>\n",
       "      <td>2.75</td>\n",
       "      <td>3.73</td>\n",
       "      <td>4.79</td>\n",
       "      <td>2.744383</td>\n",
       "      <td>2.463333</td>\n",
       "    </tr>\n",
       "    <tr>\n",
       "      <th>6</th>\n",
       "      <td>1.81</td>\n",
       "      <td>2.71</td>\n",
       "      <td>3.72</td>\n",
       "      <td>4.76</td>\n",
       "      <td>2.722605</td>\n",
       "      <td>2.446667</td>\n",
       "    </tr>\n",
       "    <tr>\n",
       "      <th>7</th>\n",
       "      <td>1.81</td>\n",
       "      <td>2.72</td>\n",
       "      <td>3.74</td>\n",
       "      <td>4.77</td>\n",
       "      <td>2.734584</td>\n",
       "      <td>2.453333</td>\n",
       "    </tr>\n",
       "    <tr>\n",
       "      <th>8</th>\n",
       "      <td>1.83</td>\n",
       "      <td>2.76</td>\n",
       "      <td>3.77</td>\n",
       "      <td>4.80</td>\n",
       "      <td>2.763043</td>\n",
       "      <td>2.476667</td>\n",
       "    </tr>\n",
       "    <tr>\n",
       "      <th>9</th>\n",
       "      <td>1.81</td>\n",
       "      <td>2.73</td>\n",
       "      <td>3.75</td>\n",
       "      <td>4.77</td>\n",
       "      <td>2.737924</td>\n",
       "      <td>2.456667</td>\n",
       "    </tr>\n",
       "    <tr>\n",
       "      <th>10</th>\n",
       "      <td>1.82</td>\n",
       "      <td>2.75</td>\n",
       "      <td>3.77</td>\n",
       "      <td>4.80</td>\n",
       "      <td>2.761771</td>\n",
       "      <td>2.470000</td>\n",
       "    </tr>\n",
       "    <tr>\n",
       "      <th>11</th>\n",
       "      <td>1.82</td>\n",
       "      <td>2.75</td>\n",
       "      <td>3.76</td>\n",
       "      <td>4.80</td>\n",
       "      <td>2.758430</td>\n",
       "      <td>2.466667</td>\n",
       "    </tr>\n",
       "    <tr>\n",
       "      <th>12</th>\n",
       "      <td>1.80</td>\n",
       "      <td>2.73</td>\n",
       "      <td>3.75</td>\n",
       "      <td>4.78</td>\n",
       "      <td>2.741950</td>\n",
       "      <td>2.450000</td>\n",
       "    </tr>\n",
       "    <tr>\n",
       "      <th>13</th>\n",
       "      <td>1.78</td>\n",
       "      <td>2.71</td>\n",
       "      <td>3.72</td>\n",
       "      <td>4.73</td>\n",
       "      <td>2.702896</td>\n",
       "      <td>2.426667</td>\n",
       "    </tr>\n",
       "    <tr>\n",
       "      <th>14</th>\n",
       "      <td>1.79</td>\n",
       "      <td>2.71</td>\n",
       "      <td>3.71</td>\n",
       "      <td>4.73</td>\n",
       "      <td>2.700827</td>\n",
       "      <td>2.430000</td>\n",
       "    </tr>\n",
       "  </tbody>\n",
       "</table>\n",
       "</div>"
      ],
      "text/plain": [
       "    2-year  3-year  5-year  10-year  T3_OLS_Pred  T3_linear_interp\n",
       "0     1.69    2.58    3.57     4.63     2.588362          2.316667\n",
       "1     1.81    2.71    3.69     4.73     2.696690          2.436667\n",
       "2     1.81    2.72    3.70     4.74     2.705329          2.440000\n",
       "3     1.79    2.78    3.77     4.81     2.763252          2.450000\n",
       "4     1.79    2.77    3.77     4.80     2.757954          2.450000\n",
       "5     1.83    2.75    3.73     4.79     2.744383          2.463333\n",
       "6     1.81    2.71    3.72     4.76     2.722605          2.446667\n",
       "7     1.81    2.72    3.74     4.77     2.734584          2.453333\n",
       "8     1.83    2.76    3.77     4.80     2.763043          2.476667\n",
       "9     1.81    2.73    3.75     4.77     2.737924          2.456667\n",
       "10    1.82    2.75    3.77     4.80     2.761771          2.470000\n",
       "11    1.82    2.75    3.76     4.80     2.758430          2.466667\n",
       "12    1.80    2.73    3.75     4.78     2.741950          2.450000\n",
       "13    1.78    2.71    3.72     4.73     2.702896          2.426667\n",
       "14    1.79    2.71    3.71     4.73     2.700827          2.430000"
      ]
     },
     "execution_count": 4,
     "metadata": {},
     "output_type": "execute_result"
    }
   ],
   "source": [
    "A = np.column_stack((np.ones(len(df)), df['2-year'], df['5-year'], df['10-year']))\n",
    "df['T3_OLS_Pred'] = A.dot(y)\n",
    "\n",
    "# Calculate linear interpolation as described in the problem\n",
    "df['T3_linear_interp'] = (2/3) * df['2-year'] + (1/3) * df['5-year']\n",
    "\n",
    "# Calculate the approximation errors\n",
    "error_OLS = np.linalg.norm(df['3-year'] - df['T3_OLS_Pred'])\n",
    "error_linear_interp = np.linalg.norm(df['3-year'] - df['T3_linear_interp'])\n",
    "print(\"error_linear_interp\", error_linear_interp)\n",
    "df"
   ]
  },
  {
   "cell_type": "code",
   "execution_count": 5,
   "metadata": {},
   "outputs": [
    {
     "name": "stdout",
     "output_type": "stream",
     "text": [
      "\\begin{tabular}{rrrrrr}\n",
      "\\toprule\n",
      "2-year & 3-year & 5-year & 10-year & T3\\_OLS\\_Pred & T3\\_linear\\_interp \\\\\n",
      "\\midrule\n",
      "1.69 & 2.58 & 3.57 & 4.63 & 2.59 & 2.32 \\\\\n",
      "1.81 & 2.71 & 3.69 & 4.73 & 2.70 & 2.44 \\\\\n",
      "1.81 & 2.72 & 3.70 & 4.74 & 2.71 & 2.44 \\\\\n",
      "1.79 & 2.78 & 3.77 & 4.81 & 2.76 & 2.45 \\\\\n",
      "1.79 & 2.77 & 3.77 & 4.80 & 2.76 & 2.45 \\\\\n",
      "1.83 & 2.75 & 3.73 & 4.79 & 2.74 & 2.46 \\\\\n",
      "1.81 & 2.71 & 3.72 & 4.76 & 2.72 & 2.45 \\\\\n",
      "1.81 & 2.72 & 3.74 & 4.77 & 2.73 & 2.45 \\\\\n",
      "1.83 & 2.76 & 3.77 & 4.80 & 2.76 & 2.48 \\\\\n",
      "1.81 & 2.73 & 3.75 & 4.77 & 2.74 & 2.46 \\\\\n",
      "1.82 & 2.75 & 3.77 & 4.80 & 2.76 & 2.47 \\\\\n",
      "1.82 & 2.75 & 3.76 & 4.80 & 2.76 & 2.47 \\\\\n",
      "1.80 & 2.73 & 3.75 & 4.78 & 2.74 & 2.45 \\\\\n",
      "1.78 & 2.71 & 3.72 & 4.73 & 2.70 & 2.43 \\\\\n",
      "1.79 & 2.71 & 3.71 & 4.73 & 2.70 & 2.43 \\\\\n",
      "\\bottomrule\n",
      "\\end{tabular}\n",
      "\n"
     ]
    }
   ],
   "source": [
    "print(df.to_latex(index=False, escape=True, float_format=\"%.2f\"))"
   ]
  },
  {
   "cell_type": "code",
   "execution_count": 6,
   "metadata": {},
   "outputs": [
    {
     "data": {
      "image/png": "[encoded data removed]",
      "text/plain": [
       "<Figure size 800x400 with 1 Axes>"
      ]
     },
     "metadata": {},
     "output_type": "display_data"
    }
   ],
   "source": [
    "import numpy as np\n",
    "import matplotlib.pyplot as plt\n",
    "from scipy.interpolate import CubicSpline\n",
    "\n",
    "# Redefine the yield data after reset\n",
    "years = [2, 5, 10]\n",
    "yields = [1.69, 3.57, 4.63]\n",
    "exact_3y_yield = 2.58  # Exact 3-year yield value from the original data\n",
    "\n",
    "# Create a cubic spline interpolation\n",
    "cs = CubicSpline(years, yields, bc_type=\"natural\")\n",
    "yield_at_3y = cs(3)\n",
    "\n",
    "# Plotting the results\n",
    "plt.figure(figsize=(8, 4))\n",
    "plt.plot(years, yields, 'o', label='Data Points')\n",
    "plt.plot(np.linspace(2, 10, 100), cs(np.linspace(2, 10, 100)), label='Cubic Spline')\n",
    "plt.plot(3, yield_at_3y, 'ro', label='3-Year Yield (Spline)')  # Plot the spline value at 3 years\n",
    "plt.plot(3, exact_3y_yield, 'gx', label='3-Year Yield (Actual)')  # Plot the actual data point at 3 years\n",
    "\n",
    "# Annotate the numerical values\n",
    "plt.annotate(f'{yield_at_3y:.2f}', (3, yield_at_3y), textcoords=\"offset points\", xytext=(10,-15), ha='center')\n",
    "plt.annotate(f'{exact_3y_yield:.2f}', (3, exact_3y_yield), textcoords=\"offset points\", xytext=(0,5), ha='center')\n",
    "\n",
    "plt.xlabel('Maturity [years]')\n",
    "plt.ylabel('Yield [%]')\n",
    "plt.title('Cubic Spline Interpolation with 3-Year Yield')\n",
    "plt.legend(['Data Points', 'Cubic Spline', '3-Year Yield (Spline)', '3-Year Yield (Actual)'])\n",
    "plt.grid(True)\n",
    "plt.savefig(\"sample_cspline.pdf\")\n"
   ]
  },
  {
   "cell_type": "code",
   "execution_count": 8,
   "metadata": {},
   "outputs": [
    {
     "name": "stdout",
     "output_type": "stream",
     "text": [
      "\\begin{tabular}{rrrrrrr}\n",
      "\\toprule\n",
      "2-year & 3-year & 5-year & 10-year & T3\\_OLS\\_Pred & T3\\_linear\\_interp & T3\\_cubic\\_spline \\\\\n",
      "\\midrule\n",
      "1.69 & 2.58 & 3.57 & 4.63 & 2.59 & 2.32 & 2.39 \\\\\n",
      "1.81 & 2.71 & 3.69 & 4.73 & 2.70 & 2.44 & 2.51 \\\\\n",
      "1.81 & 2.72 & 3.70 & 4.74 & 2.71 & 2.44 & 2.51 \\\\\n",
      "1.79 & 2.78 & 3.77 & 4.81 & 2.76 & 2.45 & 2.53 \\\\\n",
      "1.79 & 2.77 & 3.77 & 4.80 & 2.76 & 2.45 & 2.53 \\\\\n",
      "1.83 & 2.75 & 3.73 & 4.79 & 2.74 & 2.46 & 2.53 \\\\\n",
      "1.81 & 2.71 & 3.72 & 4.76 & 2.72 & 2.45 & 2.52 \\\\\n",
      "1.81 & 2.72 & 3.74 & 4.77 & 2.73 & 2.45 & 2.53 \\\\\n",
      "1.83 & 2.76 & 3.77 & 4.80 & 2.76 & 2.48 & 2.55 \\\\\n",
      "1.81 & 2.73 & 3.75 & 4.77 & 2.74 & 2.46 & 2.53 \\\\\n",
      "1.82 & 2.75 & 3.77 & 4.80 & 2.76 & 2.47 & 2.54 \\\\\n",
      "1.82 & 2.75 & 3.76 & 4.80 & 2.76 & 2.47 & 2.54 \\\\\n",
      "1.80 & 2.73 & 3.75 & 4.78 & 2.74 & 2.45 & 2.52 \\\\\n",
      "1.78 & 2.71 & 3.72 & 4.73 & 2.70 & 2.43 & 2.50 \\\\\n",
      "1.79 & 2.71 & 3.71 & 4.73 & 2.70 & 2.43 & 2.50 \\\\\n",
      "\\bottomrule\n",
      "\\end{tabular}\n",
      "\n"
     ]
    }
   ],
   "source": [
    "# Define a function to perform cubic spline interpolation for each row\n",
    "def cubic_spline_3y(row):\n",
    "    years = np.array([2, 5, 10])\n",
    "    yields = np.array([row['2-year'], row['5-year'], row['10-year']])\n",
    "    cs = CubicSpline(years, yields, bc_type=\"natural\")\n",
    "    ret = cs(3).item()\n",
    "    if not isinstance(ret, float):\n",
    "        print(f\"{row} outcome {ret} is not float but {type(ret)}\")\n",
    "    return ret\n",
    "\n",
    "# Apply cubic spline interpolation to each row\n",
    "ret = df.apply(cubic_spline_3y, axis=1)\n",
    "df['T3_cubic_spline'] = ret\n",
    "\n",
    "print(df.to_latex(index=False, escape=True, float_format=\"%.2f\"))"
   ]
  },
  {
   "cell_type": "code",
   "execution_count": 48,
   "metadata": {},
   "outputs": [],
   "source": [
    "df.drop(columns=\"T3_cubic_spline\", inplace=True)"
   ]
  },
  {
   "cell_type": "code",
   "execution_count": 11,
   "metadata": {},
   "outputs": [
    {
     "data": {
      "text/plain": [
       "0.816543071260278"
      ]
     },
     "execution_count": 11,
     "metadata": {},
     "output_type": "execute_result"
    }
   ],
   "source": [
    "np.linalg.norm(df[\"T3_cubic_spline\"]-df[\"T3_OLS_Pred\"])"
   ]
  },
  {
   "cell_type": "code",
   "execution_count": null,
   "metadata": {},
   "outputs": [],
   "source": []
  }
 ],
 "metadata": {
  "kernelspec": {
   "display_name": "newest",
   "language": "python",
   "name": "python3"
  },
  "language_info": {
   "codemirror_mode": {
    "name": "ipython",
    "version": 3
   },
   "file_extension": ".py",
   "mimetype": "text/x-python",
   "name": "python",
   "nbconvert_exporter": "python",
   "pygments_lexer": "ipython3",
   "version": "3.12.3"
  }
 },
 "nbformat": 4,
 "nbformat_minor": 2
}
