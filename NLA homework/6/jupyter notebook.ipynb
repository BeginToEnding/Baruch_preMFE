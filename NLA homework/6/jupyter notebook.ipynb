{
 "cells": [
  {
   "cell_type": "code",
   "execution_count": 1,
   "metadata": {},
   "outputs": [],
   "source": [
    "import pandas as pd\n",
    "import sympy as sp\n",
    "import numpy as np\n",
    "from IPython.display import display, Math\n",
    "np.set_printoptions(precision=3)"
   ]
  },
  {
   "cell_type": "code",
   "execution_count": 2,
   "metadata": {},
   "outputs": [
    {
     "data": {
      "text/latex": [
       "$\\displaystyle \\left[\\begin{matrix}1.414 & 0.0 & 0.0 & 0.0\\\\-0.707 & 1.225 & 0.0 & 0.0\\\\0.0 & -0.816 & 1.155 & 0.0\\\\0.0 & 0.0 & -0.866 & 1.118\\end{matrix}\\right]$"
      ],
      "text/plain": [
       "<IPython.core.display.Math object>"
      ]
     },
     "metadata": {},
     "output_type": "display_data"
    }
   ],
   "source": [
    "# Define the matrix B\n",
    "B = np.array([\n",
    "    [2, -1, 0, 0],\n",
    "    [-1, 2, -1, 0],\n",
    "    [0, -1, 2, -1],\n",
    "    [0, 0, -1, 2]\n",
    "])\n",
    "\n",
    "# Compute the Cholesky decomposition of B\n",
    "L = np.linalg.cholesky(B)\n",
    "cholesky_decomposition = L\n",
    "\n",
    "Brepr = sp.Matrix(np.round(cholesky_decomposition,3))\n",
    "latex_code = sp.latex(Brepr)\n",
    "\n",
    "display(Math(latex_code))"
   ]
  },
  {
   "cell_type": "code",
   "execution_count": 3,
   "metadata": {},
   "outputs": [
    {
     "data": {
      "text/latex": [
       "$\\displaystyle \\left[\\begin{matrix}1.414 & 0.0 & 0.0 & 0.0 & 0.0\\\\-0.707 & 1.225 & 0.0 & 0.0 & 0.0\\\\0.0 & -0.816 & 1.155 & 0.0 & 0.0\\\\0.0 & 0.0 & -0.866 & 1.118 & 0.0\\end{matrix}\\right]$"
      ],
      "text/plain": [
       "<IPython.core.display.Math object>"
      ]
     },
     "metadata": {},
     "output_type": "display_data"
    },
    {
     "data": {
      "text/plain": [
       "array([[ 2., -1.,  0.,  0.],\n",
       "       [-1.,  2., -1.,  0.],\n",
       "       [ 0., -1.,  2., -1.],\n",
       "       [ 0.,  0., -1.,  2.]])"
      ]
     },
     "execution_count": 3,
     "metadata": {},
     "output_type": "execute_result"
    }
   ],
   "source": [
    "# Define L with an additional column of zeros\n",
    "L_extended = np.hstack([L, np.zeros((4,1))])\n",
    "display(Math(sp.latex(sp.Matrix(np.round(L_extended,3)))))\n",
    "# Compute LL^T\n",
    "LLT = L_extended @ L_extended.T\n",
    "LLT\n"
   ]
  },
  {
   "cell_type": "code",
   "execution_count": 4,
   "metadata": {},
   "outputs": [
    {
     "data": {
      "text/latex": [
       "$\\displaystyle \\left[\\begin{matrix}2 \\rho + 2 & 0\\\\0 & 2 - 2 \\rho\\end{matrix}\\right]$"
      ],
      "text/plain": [
       "Matrix([\n",
       "[2*rho + 2,         0],\n",
       "[        0, 2 - 2*rho]])"
      ]
     },
     "execution_count": 4,
     "metadata": {},
     "output_type": "execute_result"
    }
   ],
   "source": [
    "# Define symbols\n",
    "rho = sp.symbols('rho')\n",
    "\n",
    "# Define the matrices M and S\n",
    "M = sp.Matrix([[1, 1], [1, -1]])\n",
    "S = sp.Matrix([[1, rho], [rho, 1]])\n",
    "\n",
    "# Compute MSM^T\n",
    "MS = M * S\n",
    "MSMT = MS * M.T\n",
    "MSMT"
   ]
  },
  {
   "cell_type": "code",
   "execution_count": 7,
   "metadata": {},
   "outputs": [
    {
     "data": {
      "text/latex": [
       "$\\displaystyle \\left[-1.0, -0.28\\right]$"
      ],
      "text/plain": [
       "Interval(-1.00000000000000, -0.280000000000000)"
      ]
     },
     "execution_count": 7,
     "metadata": {},
     "output_type": "execute_result"
    }
   ],
   "source": [
    "# Define the matrix\n",
    "correlation_matrix = sp.Matrix([\n",
    "    [1, 0.8, -0.8],\n",
    "    [0.8, 1, rho],\n",
    "    [-0.8, rho, 1]\n",
    "])\n",
    "\n",
    "# Calculate the determinant using sympy\n",
    "determinant_sympy = correlation_matrix.det()\n",
    "determinant_sympy.simplify()\n",
    "\n",
    "inequality = determinant_sympy >= 0\n",
    "solutions_for_inequality = sp.solveset(inequality, rho, domain=sp.S.Reals)\n",
    "solutions_for_inequality"
   ]
  },
  {
   "cell_type": "code",
   "execution_count": 8,
   "metadata": {},
   "outputs": [
    {
     "data": {
      "text/latex": [
       "$\\displaystyle \\left[-1.0, 0.68\\right]$"
      ],
      "text/plain": [
       "Interval(-1.00000000000000, 0.680000000000000)"
      ]
     },
     "execution_count": 8,
     "metadata": {},
     "output_type": "execute_result"
    }
   ],
   "source": [
    "# Define the matrix\n",
    "correlation_matrix = sp.Matrix([\n",
    "    [1, 0.4, -0.4],\n",
    "    [0.4, 1, rho],\n",
    "    [-0.4, rho, 1]\n",
    "])\n",
    "\n",
    "# Calculate the determinant using sympy\n",
    "determinant_sympy = correlation_matrix.det()\n",
    "determinant_sympy.simplify()\n",
    "\n",
    "inequality = determinant_sympy >= 0\n",
    "solutions_for_inequality = sp.solveset(inequality, rho, domain=sp.S.Reals)\n",
    "solutions_for_inequality"
   ]
  },
  {
   "cell_type": "code",
   "execution_count": null,
   "metadata": {},
   "outputs": [],
   "source": [
    "def general_rho_range(n, i, j, known_rhos):\n",
    "    # Define the unknown correlation symbol\n",
    "    rho_unknown = sp.symbols('rho_unknown')\n",
    "    \n",
    "    # Create an n x n matrix filled with 1 on the diagonal and symbols for the correlations\n",
    "    matrix = sp.Matrix(n, n, lambda x, y: 1 if x == y else sp.symbols(f'rho_{x+1}_{y+1}'))\n",
    "    \n",
    "    # Fill known values\n",
    "    for (k, l), value in known_rhos.items():\n",
    "        matrix[k, l] = matrix[l, k] = value\n",
    "\n",
    "    # Place the unknown at the specified position (adjust for zero-index)\n",
    "    matrix[i, j] = matrix[j, i] = rho_unknown\n",
    "    \n",
    "    # Calculate the determinant of the matrix\n",
    "    det = matrix.det()\n",
    "    \n",
    "    # Isolate the quadratic equation in terms of the unknown rho\n",
    "    coeffs = det.as_poly(rho_unknown).all_coeffs()\n",
    "    \n",
    "    # Extract coefficients for quadratic formula\n",
    "    a, b, c = coeffs  # Note: this assumes that the determinant is quadratic in rho_unknown\n",
    "    \n",
    "    # Calculate the discriminant\n",
    "    discriminant = b**2 - 4*a*c\n",
    "    \n",
    "    # Check if the discriminant is non-negative for real roots\n",
    "    if discriminant >= 0:\n",
    "        # Calculate the roots using the quadratic formula\n",
    "        root1 = (-b + sp.sqrt(discriminant)) / (2*a)\n",
    "        root2 = (-b - sp.sqrt(discriminant)) / (2*a)\n",
    "        return (sp.N(root1, 3), sp.N(root2, 3))  # Return numerical approximations\n",
    "    else:\n",
    "        return \"No real solutions for rho_unknown\"  # When discriminant is negative\n"
   ]
  },
  {
   "cell_type": "code",
   "execution_count": null,
   "metadata": {},
   "outputs": [
    {
     "data": {
      "text/latex": [
       "$\\displaystyle \\left(-0.744183284534022, 0.969183284534022\\right)$"
      ],
      "text/plain": [
       "Interval.open(-0.744183284534022, 0.969183284534022)"
      ]
     },
     "execution_count": 2,
     "metadata": {},
     "output_type": "execute_result"
    }
   ],
   "source": [
    "rho, x = sp.symbols('rho x')\n",
    "\n",
    "correlation_matrix_scaled_new = sp.Matrix([\n",
    "    [1, rho, 4 * x, -2 * x],\n",
    "    [rho, 1, 2 * x, -3 * x],\n",
    "    [4 * x, 2 * x, 1, -2 * x],\n",
    "    [-2 * x, -3 * x, -2 * x, 1]\n",
    "])\n",
    "\n",
    "det_scaled_new = correlation_matrix_scaled_new.det()\n",
    "\n",
    "simplified_det_scaled_new = sp.simplify(det_scaled_new)\n",
    "det_evaluated = simplified_det_scaled_new.subs(x, 0.1)\n",
    "det_evaluated = sp.simplify(det_evaluated)\n",
    "rho_solutions = sp.solveset(sp.Gt(det_evaluated, 0), rho, domain=sp.S.Reals)\n",
    "rho_solutions\n"
   ]
  },
  {
   "cell_type": "code",
   "execution_count": 3,
   "metadata": {},
   "outputs": [
    {
     "data": {
      "text/plain": [
       "(Interval.open(-0.817997772825746, 0.977997772825746),\n",
       " Interval.open(-0.874665715643834, 0.994665715643834))"
      ]
     },
     "execution_count": 3,
     "metadata": {},
     "output_type": "execute_result"
    }
   ],
   "source": [
    "# Define the two 3x3 matrices\n",
    "matrix_1 = sp.Matrix([\n",
    "    [1, rho, 0.4],\n",
    "    [rho, 1, 0.2],\n",
    "    [0.4, 0.2, 1]\n",
    "])\n",
    "\n",
    "matrix_2 = sp.Matrix([\n",
    "    [1, rho, -0.2],\n",
    "    [rho, 1, -0.3],\n",
    "    [-0.2, -0.3, 1]\n",
    "])\n",
    "\n",
    "# Compute the determinants of these matrices\n",
    "det_matrix_1 = matrix_1.det()\n",
    "det_matrix_2 = matrix_2.det()\n",
    "\n",
    "# Simplify the determinants\n",
    "simplified_det_matrix_1 = sp.simplify(det_matrix_1)\n",
    "simplified_det_matrix_2 = sp.simplify(det_matrix_2)\n",
    "\n",
    "solutions_matrix_1 = sp.solveset(sp.Gt(simplified_det_matrix_1, 0), rho, domain=sp.S.Reals)\n",
    "solutions_matrix_2 = sp.solveset(sp.Gt(simplified_det_matrix_2, 0), rho, domain=sp.S.Reals)\n",
    "\n",
    "solutions_matrix_1, solutions_matrix_2"
   ]
  },
  {
   "cell_type": "code",
   "execution_count": 11,
   "metadata": {},
   "outputs": [
    {
     "data": {
      "text/plain": [
       "array([[ 1.   ,  0.   ,  0.   ],\n",
       "       [ 0.2  ,  0.98 ,  0.   ],\n",
       "       [ 0.3  , -0.265,  0.916]])"
      ]
     },
     "execution_count": 11,
     "metadata": {},
     "output_type": "execute_result"
    }
   ],
   "source": [
    "import numpy as np\n",
    "\n",
    "matrix = np.array([\n",
    "    [1, 0.2, 0.3],\n",
    "    [0.2, 1, -0.2],\n",
    "    [0.3, -0.2, 1]\n",
    "])\n",
    "\n",
    "np.linalg.cholesky(matrix)\n"
   ]
  },
  {
   "cell_type": "code",
   "execution_count": 9,
   "metadata": {},
   "outputs": [
    {
     "name": "stdout",
     "output_type": "stream",
     "text": [
      "\\left[\\begin{matrix}1.0 & 0.0 & 0.0\\\\0.2 & 0.979795897113271 & 0.0\\\\0.3 & -0.265361388801511 & 0.916287800493564\\end{matrix}\\right]\n"
     ]
    }
   ],
   "source": [
    "# Convert numpy array to a sympy matrix\n",
    "cholesky_factor_sympy = sp.Matrix(cholesky_factor)\n",
    "\n",
    "# Generate LaTeX code for the matrix\n",
    "cholesky_factor_latex = sp.latex(cholesky_factor_sympy)\n",
    "print(cholesky_factor_latex)"
   ]
  },
  {
   "cell_type": "code",
   "execution_count": null,
   "metadata": {},
   "outputs": [
    {
     "name": "stdout",
     "output_type": "stream",
     "text": [
      "\\begin{tabular}{rrr}\n",
      "\\toprule\n",
      "Months & Discount Factor & Zero Rate (\\%) \\\\\n",
      "\\midrule\n",
      "0 & 0.999979 & 0.739726 \\\\\n",
      "1 & 0.998300 & 2.041736 \\\\\n",
      "4 & 0.993500 & 1.956365 \\\\\n",
      "10 & 0.982900 & 2.069747 \\\\\n",
      "13 & 0.977500 & 2.100645 \\\\\n",
      "20 & 0.951700 & 2.970325 \\\\\n",
      "22 & 0.947900 & 2.918524 \\\\\n",
      "\\bottomrule\n",
      "\\end{tabular}\n",
      "\n"
     ]
    }
   ],
   "source": [
    "import pandas as pd\n",
    "import numpy as np\n",
    "\n",
    "# Discount factors and corresponding months\n",
    "discount_factors = [-1, 0.9983, 0.9935, 0.9829, 0.9775, 0.9517, 0.9479]\n",
    "months = [1/30, 1, 4, 10, 13, 20, 22]\n",
    "\n",
    "# Convert months to years\n",
    "years = [m / 12 for m in months]\n",
    "\n",
    "# Add the overnight rate\n",
    "overnight_rate_annual = 0.0075\n",
    "overnight_period_years = 1 / 365\n",
    "\n",
    "# Correcting the discount factor for overnight\n",
    "discount_factors[0] = np.exp(-overnight_rate_annual * overnight_period_years)\n",
    "\n",
    "# Calculate zero rates again including the overnight rate\n",
    "zero_rates = [-np.log(df) / t for df, t in zip(discount_factors, years)]\n",
    "zero_rates[0] = 0.75\n",
    "\n",
    "# Create a DataFrame to display the results\n",
    "results_df = pd.DataFrame({\n",
    "    \"Months\": months,\n",
    "    \"Discount Factor\": discount_factors,\n",
    "    \"Zero Rate (%)\": [z * 100 for z in zero_rates]  # Convert to percentage\n",
    "})\n",
    "\n",
    "results_df[\"Months\"] = results_df[\"Months\"].round(decimals=0).astype(int)\n",
    "print(results_df.to_latex(escape=True, index=False))\n"
   ]
  },
  {
   "cell_type": "code",
   "execution_count": 63,
   "metadata": {},
   "outputs": [
    {
     "name": "stdout",
     "output_type": "stream",
     "text": [
      "6 =n\n"
     ]
    },
    {
     "data": {
      "text/plain": [
       "(array([[ 0.,  0.,  0.,  0.,  0.,  0.],\n",
       "        [ 0.,  8.,  3.,  0.,  0.,  0.],\n",
       "        [ 0.,  3., 18.,  6.,  0.,  0.],\n",
       "        [ 0.,  0.,  6., 18.,  3.,  0.],\n",
       "        [ 0.,  0.,  0.,  3., 20.,  7.],\n",
       "        [ 0.,  0.,  0.,  0.,  7., 18.]]),\n",
       " array([ 0.        , -0.07924   ,  0.00286   , -0.00052   ,  0.00682857,\n",
       "        -0.00897857]))"
      ]
     },
     "execution_count": 63,
     "metadata": {},
     "output_type": "execute_result"
    }
   ],
   "source": [
    "# Redefine the interpolation nodes (months) and values (zero rates) including all nodes up to 22 months\n",
    "x_i = [0, 1, 4, 10, 13, 20, 22]  # months\n",
    "v_i = [0.0075, 0.02042, 0.01956, 0.02070, 0.02101, 0.02970, 0.02919]  # corrected zero rates in decimal\n",
    "\n",
    "# Number of nodes\n",
    "n = len(x_i)-1\n",
    "print(n, \"=n\")\n",
    "\n",
    "# Initialize M and z with zeros\n",
    "M = np.zeros((n, n))\n",
    "z = np.zeros(n)\n",
    "\n",
    "# Recompute vector z\n",
    "for i in range(1, n):\n",
    "    z[i] = 6 * ((v_i[i+1] - v_i[i]) / (x_i[i+1] - x_i[i]) - (v_i[i] - v_i[i-1]) / (x_i[i] - x_i[i-1]))\n",
    "\n",
    "# Compute tridiagonal matrix M\n",
    "for i in range(1, n):\n",
    "    M[i, i] = 2 * (x_i[i+1] - x_i[i-1])\n",
    "for i in range(1, n-1):\n",
    "    M[i, i+1] = x_i[i+1] - x_i[i]\n",
    "for i in range(2, n):\n",
    "    M[i, i-1] = x_i[i] - x_i[i-1]\n",
    "\n",
    "# Print M and z for inspection\n",
    "M, z\n"
   ]
  },
  {
   "cell_type": "code",
   "execution_count": 65,
   "metadata": {},
   "outputs": [
    {
     "data": {
      "text/plain": [
       "(array([[ 8.,  3.,  0.,  0.,  0.],\n",
       "        [ 3., 18.,  6.,  0.,  0.],\n",
       "        [ 0.,  6., 18.,  3.,  0.],\n",
       "        [ 0.,  0.,  3., 20.,  7.],\n",
       "        [ 0.,  0.,  0.,  7., 18.]]),\n",
       " array([-0.07924   ,  0.00286   , -0.00052   ,  0.00682857, -0.00897857]))"
      ]
     },
     "execution_count": 65,
     "metadata": {},
     "output_type": "execute_result"
    }
   ],
   "source": [
    "# Shift the matrix M and vector z to form M' and z'\n",
    "M_prime = M[1:, 1:]  # Remove the first and last row and column\n",
    "z_prime = z[1:]        # Remove the first and last element\n",
    "\n",
    "\n",
    "\n",
    "# Print M' and z' for inspection\n",
    "M_prime, z_prime"
   ]
  },
  {
   "cell_type": "code",
   "execution_count": 66,
   "metadata": {},
   "outputs": [
    {
     "data": {
      "text/latex": [
       "$\\displaystyle \\left[\\begin{matrix}8.0 & 3.0 & 0.0 & 0.0 & 0.0\\\\3.0 & 18.0 & 6.0 & 0.0 & 0.0\\\\0.0 & 6.0 & 18.0 & 3.0 & 0.0\\\\0.0 & 0.0 & 3.0 & 20.0 & 7.0\\\\0.0 & 0.0 & 0.0 & 7.0 & 18.0\\end{matrix}\\right]$"
      ],
      "text/plain": [
       "⎡8.0  3.0   0.0   0.0   0.0 ⎤\n",
       "⎢                           ⎥\n",
       "⎢3.0  18.0  6.0   0.0   0.0 ⎥\n",
       "⎢                           ⎥\n",
       "⎢0.0  6.0   18.0  3.0   0.0 ⎥\n",
       "⎢                           ⎥\n",
       "⎢0.0  0.0   3.0   20.0  7.0 ⎥\n",
       "⎢                           ⎥\n",
       "⎣0.0  0.0   0.0   7.0   18.0⎦"
      ]
     },
     "execution_count": 66,
     "metadata": {},
     "output_type": "execute_result"
    }
   ],
   "source": [
    "from sympy import Matrix, init_printing\n",
    "\n",
    "# Initialize LaTeX printing\n",
    "init_printing()\n",
    "\n",
    "# Convert arrays to sympy Matrices\n",
    "M_prime_sympy = Matrix(M_prime)\n",
    "z_prime_sympy = Matrix(z_prime)\n",
    "\n",
    "# Display the matrix and vector in LaTeX\n",
    "M_prime_sympy"
   ]
  },
  {
   "cell_type": "code",
   "execution_count": 67,
   "metadata": {},
   "outputs": [
    {
     "data": {
      "text/latex": [
       "$\\displaystyle \\left[\\begin{matrix}-0.07924\\\\0.00286\\\\-0.000519999999999996\\\\0.00682857142857143\\\\-0.00897857142857143\\end{matrix}\\right]$"
      ],
      "text/plain": [
       "⎡      -0.07924       ⎤\n",
       "⎢                     ⎥\n",
       "⎢       0.00286       ⎥\n",
       "⎢                     ⎥\n",
       "⎢-0.000519999999999996⎥\n",
       "⎢                     ⎥\n",
       "⎢ 0.00682857142857143 ⎥\n",
       "⎢                     ⎥\n",
       "⎣-0.00897857142857143 ⎦"
      ]
     },
     "execution_count": 67,
     "metadata": {},
     "output_type": "execute_result"
    }
   ],
   "source": [
    "z_prime_sympy"
   ]
  },
  {
   "cell_type": "code",
   "execution_count": 68,
   "metadata": {},
   "outputs": [
    {
     "data": {
      "text/latex": [
       "$\\displaystyle \\left[\\begin{matrix}-0.0107496097909466\\\\0.00225229277585762\\\\-0.000905406765432886\\\\0.000754521707548751\\\\-0.000792234632300705\\end{matrix}\\right]$"
      ],
      "text/plain": [
       "⎡ -0.0107496097909466 ⎤\n",
       "⎢                     ⎥\n",
       "⎢ 0.00225229277585762 ⎥\n",
       "⎢                     ⎥\n",
       "⎢-0.000905406765432886⎥\n",
       "⎢                     ⎥\n",
       "⎢0.000754521707548751 ⎥\n",
       "⎢                     ⎥\n",
       "⎣-0.000792234632300705⎦"
      ]
     },
     "execution_count": 68,
     "metadata": {},
     "output_type": "execute_result"
    }
   ],
   "source": [
    "from numpy.linalg import cholesky, solve\n",
    "\n",
    "# Perform Cholesky decomposition on the symmetric positive definite matrix M'\n",
    "L = cholesky(M_prime)\n",
    "\n",
    "# Solve the equation using the Cholesky factor L\n",
    "# Solve L*y = z' for y (forward substitution)\n",
    "y = solve(L, z_prime)\n",
    "\n",
    "# Solve L.T*w = y for w (backward substitution)\n",
    "w_cholesky = solve(L.T, y)\n",
    "\n",
    "Matrix(w_cholesky)"
   ]
  },
  {
   "cell_type": "code",
   "execution_count": 69,
   "metadata": {},
   "outputs": [
    {
     "data": {
      "text/plain": [
       "array([ 0.        , -0.01074961,  0.00225229, -0.00090541,  0.00075452,\n",
       "       -0.00079223,  0.        ])"
      ]
     },
     "execution_count": 69,
     "metadata": {},
     "output_type": "execute_result"
    }
   ],
   "source": [
    "# Expand w' into w by adding zeros at the beginning and end\n",
    "w_full = np.concatenate(([0], w_cholesky, [0]))\n",
    "w_full\n"
   ]
  },
  {
   "cell_type": "code",
   "execution_count": 70,
   "metadata": {},
   "outputs": [
    {
     "data": {
      "text/latex": [
       "$\\displaystyle \\left[\\begin{matrix}0\\\\0.0\\\\-0.00754178865660734\\\\0.00217871290169231\\\\-0.00321925083768584\\\\0.0018135345979203\\\\-0.00435729047765388\\end{matrix}\\right]$"
      ],
      "text/plain": [
       "⎡         0          ⎤\n",
       "⎢                    ⎥\n",
       "⎢        0.0         ⎥\n",
       "⎢                    ⎥\n",
       "⎢-0.00754178865660734⎥\n",
       "⎢                    ⎥\n",
       "⎢0.00217871290169231 ⎥\n",
       "⎢                    ⎥\n",
       "⎢-0.00321925083768584⎥\n",
       "⎢                    ⎥\n",
       "⎢ 0.0018135345979203 ⎥\n",
       "⎢                    ⎥\n",
       "⎣-0.00435729047765388⎦"
      ]
     },
     "execution_count": 70,
     "metadata": {},
     "output_type": "execute_result"
    }
   ],
   "source": [
    "# Recalculate c_i with the corrected formula and prepend zero\n",
    "c_i_final = [0] + [(w_full[i-1] * x_i[i] - w_full[i] * x_i[i-1]) / (2 * (x_i[i] - x_i[i-1])) for i in range(1, n+1)]\n",
    "\n",
    "# Recalculate d_i with the corrected formula and prepend zero\n",
    "d_i_final = [0] + [(w_full[i] - w_full[i-1]) / (6 * (x_i[i] - x_i[i-1])) for i in range(1, n+1)]\n",
    "\n",
    "Matrix(c_i_final)\n"
   ]
  },
  {
   "cell_type": "code",
   "execution_count": 54,
   "metadata": {},
   "outputs": [
    {
     "data": {
      "text/latex": [
       "$\\displaystyle \\left[\\begin{matrix}0\\\\-0.00179160163182443\\\\0.000722327920378012\\\\-8.77138761469585 \\cdot 10^{-5}\\\\9.22182484989798 \\cdot 10^{-5}\\\\-3.68275319011775 \\cdot 10^{-5}\\\\6.60195526917254 \\cdot 10^{-5}\\end{matrix}\\right]$"
      ],
      "text/plain": [
       "⎡         0          ⎤\n",
       "⎢                    ⎥\n",
       "⎢-0.00179160163182443⎥\n",
       "⎢                    ⎥\n",
       "⎢0.000722327920378012⎥\n",
       "⎢                    ⎥\n",
       "⎢-8.77138761469585e-5⎥\n",
       "⎢                    ⎥\n",
       "⎢9.22182484989798e-5 ⎥\n",
       "⎢                    ⎥\n",
       "⎢-3.68275319011775e-5⎥\n",
       "⎢                    ⎥\n",
       "⎣6.60195526917254e-5 ⎦"
      ]
     },
     "execution_count": 54,
     "metadata": {},
     "output_type": "execute_result"
    }
   ],
   "source": [
    "Matrix(d_i_final)"
   ]
  },
  {
   "cell_type": "code",
   "execution_count": 71,
   "metadata": {},
   "outputs": [
    {
     "data": {
      "text/latex": [
       "$\\displaystyle \\left[\\begin{matrix}0.0075\\\\0.0272394607362293\\\\-0.00968571835367163\\\\0.250406835269604\\\\-0.204567259461643\\\\1.24445976952775\\end{matrix}\\right]$"
      ],
      "text/plain": [
       "⎡       0.0075       ⎤\n",
       "⎢                    ⎥\n",
       "⎢ 0.0272394607362293 ⎥\n",
       "⎢                    ⎥\n",
       "⎢-0.00968571835367163⎥\n",
       "⎢                    ⎥\n",
       "⎢ 0.250406835269604  ⎥\n",
       "⎢                    ⎥\n",
       "⎢ -0.204567259461643 ⎥\n",
       "⎢                    ⎥\n",
       "⎣  1.24445976952775  ⎦"
      ]
     },
     "execution_count": 71,
     "metadata": {},
     "output_type": "execute_result"
    }
   ],
   "source": [
    "# Calculate q_i-1 and r_i with r_0 set to zero\n",
    "q_i = [v_i[i-1] - c_i_final[i] * x_i[i-1]**2 - d_i_final[i] * x_i[i-1]**3 for i in range(1, n+1)]\n",
    "r_i = [0] + [v_i[i] - c_i_final[i] * x_i[i]**2 - d_i_final[i] * x_i[i]**3 for i in range(1, n+1)]\n",
    "\n",
    "Matrix(q_i)\n"
   ]
  },
  {
   "cell_type": "code",
   "execution_count": 72,
   "metadata": {},
   "outputs": [
    {
     "data": {
      "text/latex": [
       "$\\displaystyle \\left[\\begin{matrix}0\\\\0.0222116016318244\\\\0.0939996316015246\\\\-0.109457414022273\\\\0.362459899616648\\\\-0.401093583958699\\\\1.43514239412298\\end{matrix}\\right]$"
      ],
      "text/plain": [
       "⎡        0         ⎤\n",
       "⎢                  ⎥\n",
       "⎢0.0222116016318244⎥\n",
       "⎢                  ⎥\n",
       "⎢0.0939996316015246⎥\n",
       "⎢                  ⎥\n",
       "⎢-0.109457414022273⎥\n",
       "⎢                  ⎥\n",
       "⎢0.362459899616648 ⎥\n",
       "⎢                  ⎥\n",
       "⎢-0.401093583958699⎥\n",
       "⎢                  ⎥\n",
       "⎣ 1.43514239412298 ⎦"
      ]
     },
     "execution_count": 72,
     "metadata": {},
     "output_type": "execute_result"
    }
   ],
   "source": [
    "Matrix(r_i)"
   ]
  },
  {
   "cell_type": "code",
   "execution_count": 73,
   "metadata": {},
   "outputs": [
    {
     "data": {
      "text/latex": [
       "$\\displaystyle \\left[\\begin{matrix}0\\\\0.0075\\\\0.00498607044779756\\\\0.0568287454253957\\\\-0.123103379220543\\\\0.160410200318603\\\\-0.662366476424619\\end{matrix}\\right]$"
      ],
      "text/plain": [
       "⎡         0         ⎤\n",
       "⎢                   ⎥\n",
       "⎢      0.0075       ⎥\n",
       "⎢                   ⎥\n",
       "⎢0.00498607044779756⎥\n",
       "⎢                   ⎥\n",
       "⎢0.0568287454253957 ⎥\n",
       "⎢                   ⎥\n",
       "⎢-0.123103379220543 ⎥\n",
       "⎢                   ⎥\n",
       "⎢ 0.160410200318603 ⎥\n",
       "⎢                   ⎥\n",
       "⎣-0.662366476424619 ⎦"
      ]
     },
     "execution_count": 73,
     "metadata": {},
     "output_type": "execute_result"
    }
   ],
   "source": [
    "# Calculate a_i and b_i using the provided formulas\n",
    "a_i = [0] + [(q_i[i-1] * x_i[i] - r_i[i] * x_i[i-1]) / (x_i[i] - x_i[i-1]) for i in range(1, n+1)]\n",
    "b_i = [0] + [(r_i[i] - q_i[i-1]) / (x_i[i] - x_i[i-1]) for i in range(1, n+1)]\n",
    "\n",
    "Matrix(a_i)\n"
   ]
  },
  {
   "cell_type": "code",
   "execution_count": 74,
   "metadata": {},
   "outputs": [
    {
     "data": {
      "text/latex": [
       "$\\displaystyle \\left[\\begin{matrix}0\\\\0.0147116016318244\\\\0.0222533902884318\\\\-0.0166286159447668\\\\0.0373510214490147\\\\-0.0280751892138651\\\\0.0953413122976183\\end{matrix}\\right]$"
      ],
      "text/plain": [
       "⎡         0         ⎤\n",
       "⎢                   ⎥\n",
       "⎢0.0147116016318244 ⎥\n",
       "⎢                   ⎥\n",
       "⎢0.0222533902884318 ⎥\n",
       "⎢                   ⎥\n",
       "⎢-0.0166286159447668⎥\n",
       "⎢                   ⎥\n",
       "⎢0.0373510214490147 ⎥\n",
       "⎢                   ⎥\n",
       "⎢-0.0280751892138651⎥\n",
       "⎢                   ⎥\n",
       "⎣0.0953413122976183 ⎦"
      ]
     },
     "execution_count": 74,
     "metadata": {},
     "output_type": "execute_result"
    }
   ],
   "source": [
    "Matrix(b_i)"
   ]
  },
  {
   "cell_type": "code",
   "execution_count": 75,
   "metadata": {},
   "outputs": [],
   "source": [
    "def f(x):\n",
    "    # Define the conditions for choosing the correct segment function based on x\n",
    "    if 0 <= x < 1:\n",
    "        i = 1\n",
    "    elif 1 <= x < 4:\n",
    "        i = 2\n",
    "    elif 4 <= x < 10:\n",
    "        i = 3\n",
    "    elif 10 <= x < 13:\n",
    "        i = 4\n",
    "    elif 13 <= x < 20:\n",
    "        i = 5\n",
    "    elif 20 <= x <= 22:\n",
    "        i = 6\n",
    "    else:\n",
    "        return None  # x is outside the defined intervals\n",
    "    \n",
    "    # Calculate the spline function for the appropriate segment\n",
    "    return (a_i[i] + b_i[i] * x +\n",
    "            c_i_final[i] * x**2 +  # +1 to adjust indexing for c and d\n",
    "            d_i_final[i] * x**3)"
   ]
  },
  {
   "cell_type": "code",
   "execution_count": 80,
   "metadata": {},
   "outputs": [
    {
     "data": {
      "image/png": "[encoded data removed]",
      "text/plain": [
       "<Figure size 1000x600 with 1 Axes>"
      ]
     },
     "metadata": {},
     "output_type": "display_data"
    }
   ],
   "source": [
    "import matplotlib.pyplot as plt\n",
    "\n",
    "# Define the range of x values for plotting\n",
    "x_values = np.linspace(0, 22, 400)\n",
    "# Compute f(x) for each x in the range\n",
    "f_values = [f(x) for x in x_values]\n",
    "\n",
    "# Plotting f(x)\n",
    "plt.figure(figsize=(10, 6))\n",
    "plt.axhline(0, color='black',linewidth=0.5)\n",
    "plt.axvline(0, color='black',linewidth=0.5)\n",
    "\n",
    "plt.plot(x_values, f_values, label='Spline Interpolation $f(x)$', color='blue')\n",
    "\n",
    "# Also plot the original zero rates at their respective months\n",
    "plt.scatter(x_i, v_i, color='red', label='Zero Rates')\n",
    "\n",
    "# Adding labels and legend\n",
    "plt.title('Cubic Spline Interpolation of Zero Rates')\n",
    "plt.xlabel('Months')\n",
    "plt.ylabel('Zero Rate')\n",
    "plt.legend()\n",
    "plt.grid(True)\n",
    "plt.savefig(\"interp.pdf\")\n",
    "\n"
   ]
  },
  {
   "cell_type": "code",
   "execution_count": 87,
   "metadata": {},
   "outputs": [
    {
     "name": "stdout",
     "output_type": "stream",
     "text": [
      "0.023372997253833155\n",
      "0.01970353124843867\n",
      "0.02303472647621932\n",
      "0.02964305865807515\n"
     ]
    },
    {
     "data": {
      "text/plain": [
       "[None, None, None, None]"
      ]
     },
     "execution_count": 87,
     "metadata": {},
     "output_type": "execute_result"
    }
   ],
   "source": [
    "[print(f(x)) for x in [3,9,15,21]]"
   ]
  },
  {
   "cell_type": "code",
   "execution_count": null,
   "metadata": {},
   "outputs": [
    {
     "data": {
      "text/html": [
       "<div>\n",
       "<style scoped>\n",
       "    .dataframe tbody tr th:only-of-type {\n",
       "        vertical-align: middle;\n",
       "    }\n",
       "\n",
       "    .dataframe tbody tr th {\n",
       "        vertical-align: top;\n",
       "    }\n",
       "\n",
       "    .dataframe thead th {\n",
       "        text-align: right;\n",
       "    }\n",
       "</style>\n",
       "<table border=\"1\" class=\"dataframe\">\n",
       "  <thead>\n",
       "    <tr style=\"text-align: right;\">\n",
       "      <th></th>\n",
       "      <th>Month</th>\n",
       "      <th>Time (years)</th>\n",
       "      <th>Zero Rate</th>\n",
       "      <th>Cash Flow</th>\n",
       "      <th>Discounted Cash Flow</th>\n",
       "    </tr>\n",
       "  </thead>\n",
       "  <tbody>\n",
       "    <tr>\n",
       "      <th>0</th>\n",
       "      <td>3</td>\n",
       "      <td>0.25</td>\n",
       "      <td>0.023373</td>\n",
       "      <td>3.5</td>\n",
       "      <td>3.479842</td>\n",
       "    </tr>\n",
       "    <tr>\n",
       "      <th>1</th>\n",
       "      <td>9</td>\n",
       "      <td>0.75</td>\n",
       "      <td>0.019704</td>\n",
       "      <td>3.5</td>\n",
       "      <td>3.449154</td>\n",
       "    </tr>\n",
       "    <tr>\n",
       "      <th>2</th>\n",
       "      <td>15</td>\n",
       "      <td>1.25</td>\n",
       "      <td>0.023035</td>\n",
       "      <td>3.5</td>\n",
       "      <td>3.401771</td>\n",
       "    </tr>\n",
       "    <tr>\n",
       "      <th>3</th>\n",
       "      <td>21</td>\n",
       "      <td>1.75</td>\n",
       "      <td>0.029643</td>\n",
       "      <td>103.5</td>\n",
       "      <td>98.341908</td>\n",
       "    </tr>\n",
       "  </tbody>\n",
       "</table>\n",
       "</div>"
      ],
      "text/plain": [
       "   Month  Time (years)  Zero Rate  Cash Flow  Discounted Cash Flow\n",
       "0      3          0.25   0.023373        3.5              3.479842\n",
       "1      9          0.75   0.019704        3.5              3.449154\n",
       "2     15          1.25   0.023035        3.5              3.401771\n",
       "3     21          1.75   0.029643      103.5             98.341908"
      ]
     },
     "execution_count": 88,
     "metadata": {},
     "output_type": "execute_result"
    }
   ],
   "source": [
    "semiannual_coupon_rate = 0.035\n",
    "face_value = 100\n",
    "\n",
    "# Compute the zero rates for each coupon payment month using the function f(x)\n",
    "zero_rates_at_payments = [f(month) for month in [3, 9, 15, 21]]\n",
    "\n",
    "# Calculate the present values of the coupons and the face value using the respective zero rates\n",
    "updated_coupons_pv_with_zero_rates = [\n",
    "    semiannual_coupon_rate * face_value / ((1 + zero_rate)**(month / 12)) for zero_rate, month in zip(zero_rates_at_payments[:-1], [3, 9, 15])\n",
    "]\n",
    "updated_face_value_pv_with_zero_rates = (\n",
    "    (face_value + semiannual_coupon_rate * face_value) / ((1 + zero_rates_at_payments[-1])**((21) / 12))\n",
    ")\n",
    "\n",
    "# Updating the DataFrame to include months and zero rates\n",
    "updated_payments_df_with_zero_rates = pd.DataFrame({\n",
    "    \"Month\": [3, 9, 15, 21],\n",
    "    \"Time (years)\": [0.25, 0.75, 1.25, 1.75],\n",
    "    \"Zero Rate\": zero_rates_at_payments,\n",
    "    \"Cash Flow\": [semiannual_coupon_rate * face_value] * 3 + [face_value + semiannual_coupon_rate * face_value],\n",
    "    \"Discounted Cash Flow\": updated_coupons_pv_with_zero_rates + [updated_face_value_pv_with_zero_rates]\n",
    "})\n",
    "\n",
    "updated_payments_df_with_zero_rates\n"
   ]
  },
  {
   "cell_type": "code",
   "execution_count": 92,
   "metadata": {},
   "outputs": [
    {
     "name": "stdout",
     "output_type": "stream",
     "text": [
      "\\begin{tabular}{rrrrr}\n",
      "\\toprule\n",
      "Month & Zero Rate & Cash Flow & Discount Factor & Discounted Cash Flow \\\\\n",
      "\\midrule\n",
      "3 & 0.023373 & 1.750000 & 0.994174 & 1.739804 \\\\\n",
      "9 & 0.019704 & 1.750000 & 0.985331 & 1.724329 \\\\\n",
      "15 & 0.023035 & 1.750000 & 0.971617 & 1.700330 \\\\\n",
      "21 & 0.029643 & 101.750000 & 0.949447 & 96.606253 \\\\\n",
      "\\bottomrule\n",
      "\\end{tabular}\n",
      "\n"
     ]
    }
   ],
   "source": [
    "# Recompute the zero rates for each coupon payment month using the function f(x)\n",
    "zero_rates_at_payments = [f(month) for month in [3, 9, 15, 21]]\n",
    "\n",
    "# Recalculate discount factors using continuous compounding based on the new zero rates\n",
    "discount_factors = [np.exp(-rate * time) for rate, time in zip(zero_rates_at_payments, [0.25, 0.75, 1.25, 1.75])]\n",
    "\n",
    "# Define semiannual coupon payments and the final cash flow including the face value\n",
    "coupon_payments = [semiannual_coupon_rate * face_value / 2] * 3  # Semiannual coupon rate\n",
    "final_payment = face_value + (semiannual_coupon_rate * face_value / 2)  # Final payment includes last coupon\n",
    "\n",
    "# Calculate the discounted cash flows\n",
    "discounted_cash_flows = [\n",
    "    payment * df for payment, df in zip(coupon_payments + [final_payment], discount_factors)\n",
    "]\n",
    "\n",
    "# Creating DataFrame to display results\n",
    "payment_schedule_df = pd.DataFrame({\n",
    "    \"Month\": [3, 9, 15, 21],\n",
    "    \"Zero Rate\": zero_rates_at_payments,\n",
    "    \"Cash Flow\": coupon_payments + [final_payment],\n",
    "    \"Discount Factor\": discount_factors,\n",
    "    \"Discounted Cash Flow\": discounted_cash_flows\n",
    "})\n",
    "\n",
    "print(payment_schedule_df.to_latex(index=False))\n"
   ]
  },
  {
   "cell_type": "code",
   "execution_count": 91,
   "metadata": {},
   "outputs": [
    {
     "data": {
      "image/png": "[encoded data removed]",
      "text/latex": [
       "$\\displaystyle 101.770716605265$"
      ],
      "text/plain": [
       "101.77071660526511"
      ]
     },
     "execution_count": 91,
     "metadata": {},
     "output_type": "execute_result"
    }
   ],
   "source": [
    "payment_schedule_df[\"Discounted Cash Flow\"].sum()"
   ]
  },
  {
   "cell_type": "code",
   "execution_count": 93,
   "metadata": {},
   "outputs": [
    {
     "data": {
      "text/plain": [
       "(3, True)"
      ]
     },
     "execution_count": 93,
     "metadata": {},
     "output_type": "execute_result"
    }
   ],
   "source": [
    "# Define the vectors as columns of a matrix\n",
    "A = np.array([\n",
    "    [0.25, -0.50, 1.50],\n",
    "    [1, -1, 1.25],\n",
    "    [-0.50, -0.25, 2],\n",
    "    [0, 0.50, 0.75],\n",
    "    [-1, 0.75, 1.50]\n",
    "])\n",
    "\n",
    "# Calculate the rank of the matrix\n",
    "rank_A = np.linalg.matrix_rank(A)\n",
    "\n",
    "# Check if the rank equals the number of vectors (columns)\n",
    "linear_independence = rank_A == 3\n",
    "rank_A, linear_independence\n"
   ]
  },
  {
   "cell_type": "code",
   "execution_count": 94,
   "metadata": {},
   "outputs": [
    {
     "data": {
      "text/latex": [
       "$\\displaystyle \\left[\\begin{matrix}0.25 & -0.5 & 1.5\\\\1.0 & -1.0 & 1.25\\\\-0.5 & -0.25 & 2.0\\\\0.0 & 0.5 & 0.75\\\\-1.0 & 0.75 & 1.5\\end{matrix}\\right]$"
      ],
      "text/plain": [
       "⎡0.25  -0.5   1.5 ⎤\n",
       "⎢                 ⎥\n",
       "⎢1.0   -1.0   1.25⎥\n",
       "⎢                 ⎥\n",
       "⎢-0.5  -0.25  2.0 ⎥\n",
       "⎢                 ⎥\n",
       "⎢0.0    0.5   0.75⎥\n",
       "⎢                 ⎥\n",
       "⎣-1.0  0.75   1.5 ⎦"
      ]
     },
     "execution_count": 94,
     "metadata": {},
     "output_type": "execute_result"
    }
   ],
   "source": [
    "Matrix(A)"
   ]
  },
  {
   "cell_type": "code",
   "execution_count": 95,
   "metadata": {},
   "outputs": [
    {
     "data": {
      "text/plain": [
       "(array([-0.05, -0.1 ,  1.4 ]),\n",
       " array([[ 0.575  , -0.44375, -0.13125],\n",
       "        [-0.44375,  0.51875, -0.075  ],\n",
       "        [-0.13125, -0.075  ,  0.20625]]))"
      ]
     },
     "execution_count": 95,
     "metadata": {},
     "output_type": "execute_result"
    }
   ],
   "source": [
    "# Compute the mean of each random variable (column in matrix A)\n",
    "means = np.mean(A, axis=0)\n",
    "\n",
    "# Compute the covariance matrix considering it as a sample (use N-1 in the denominator)\n",
    "covariance_matrix = np.cov(A, rowvar=False, ddof=1)\n",
    "\n",
    "# Output the results\n",
    "means, covariance_matrix\n"
   ]
  },
  {
   "cell_type": "code",
   "execution_count": 96,
   "metadata": {},
   "outputs": [
    {
     "data": {
      "text/latex": [
       "$\\displaystyle \\left[\\begin{matrix}0.575 & -0.44375 & -0.13125\\\\-0.44375 & 0.51875 & -0.075\\\\-0.13125 & -0.075 & 0.20625\\end{matrix}\\right]$"
      ],
      "text/plain": [
       "⎡ 0.575    -0.44375  -0.13125⎤\n",
       "⎢                            ⎥\n",
       "⎢-0.44375  0.51875    -0.075 ⎥\n",
       "⎢                            ⎥\n",
       "⎣-0.13125   -0.075   0.20625 ⎦"
      ]
     },
     "execution_count": 96,
     "metadata": {},
     "output_type": "execute_result"
    }
   ],
   "source": [
    "Matrix(covariance_matrix)"
   ]
  },
  {
   "cell_type": "code",
   "execution_count": 97,
   "metadata": {},
   "outputs": [
    {
     "data": {
      "text/plain": [
       "(array([[ 0.25, -0.5 ,  1.5 ,  1.  ],\n",
       "        [ 1.  , -1.  ,  1.25,  1.  ],\n",
       "        [-0.5 , -0.25,  2.  ,  1.  ],\n",
       "        [ 0.  ,  0.5 ,  0.75,  1.  ],\n",
       "        [-1.  ,  0.75,  1.5 ,  1.  ]]),\n",
       " 3)"
      ]
     },
     "execution_count": 97,
     "metadata": {},
     "output_type": "execute_result"
    }
   ],
   "source": [
    "# Append a column of ones to the original matrix A\n",
    "A_with_ones = np.hstack([A, np.ones((A.shape[0], 1))])\n",
    "\n",
    "# Calculate the rank of the new matrix\n",
    "rank_A_with_ones = np.linalg.matrix_rank(A_with_ones)\n",
    "\n",
    "# Return the new matrix and its rank\n",
    "A_with_ones, rank_A_with_ones"
   ]
  },
  {
   "cell_type": "code",
   "execution_count": 98,
   "metadata": {},
   "outputs": [
    {
     "data": {
      "text/latex": [
       "$\\displaystyle \\left[\\begin{matrix}0.25 & -0.5 & 1.5 & 1.0\\\\1.0 & -1.0 & 1.25 & 1.0\\\\-0.5 & -0.25 & 2.0 & 1.0\\\\0.0 & 0.5 & 0.75 & 1.0\\\\-1.0 & 0.75 & 1.5 & 1.0\\end{matrix}\\right]$"
      ],
      "text/plain": [
       "⎡0.25  -0.5   1.5   1.0⎤\n",
       "⎢                      ⎥\n",
       "⎢1.0   -1.0   1.25  1.0⎥\n",
       "⎢                      ⎥\n",
       "⎢-0.5  -0.25  2.0   1.0⎥\n",
       "⎢                      ⎥\n",
       "⎢0.0    0.5   0.75  1.0⎥\n",
       "⎢                      ⎥\n",
       "⎣-1.0  0.75   1.5   1.0⎦"
      ]
     },
     "execution_count": 98,
     "metadata": {},
     "output_type": "execute_result"
    }
   ],
   "source": [
    "Matrix(A_with_ones)"
   ]
  },
  {
   "cell_type": "code",
   "execution_count": null,
   "metadata": {},
   "outputs": [
    {
     "data": {
      "text/html": [
       "<div>\n",
       "<style scoped>\n",
       "    .dataframe tbody tr th:only-of-type {\n",
       "        vertical-align: middle;\n",
       "    }\n",
       "\n",
       "    .dataframe tbody tr th {\n",
       "        vertical-align: top;\n",
       "    }\n",
       "\n",
       "    .dataframe thead th {\n",
       "        text-align: right;\n",
       "    }\n",
       "</style>\n",
       "<table border=\"1\" class=\"dataframe\">\n",
       "  <thead>\n",
       "    <tr style=\"text-align: right;\">\n",
       "      <th></th>\n",
       "      <th>Date</th>\n",
       "      <th>AXP</th>\n",
       "      <th>BAC</th>\n",
       "      <th>JPM</th>\n",
       "      <th>CSCO</th>\n",
       "      <th>HPQ</th>\n",
       "      <th>IBM</th>\n",
       "      <th>INTC</th>\n",
       "      <th>MSFT</th>\n",
       "    </tr>\n",
       "  </thead>\n",
       "  <tbody>\n",
       "    <tr>\n",
       "      <th>0</th>\n",
       "      <td>2013-06-24</td>\n",
       "      <td>74.53</td>\n",
       "      <td>12.86</td>\n",
       "      <td>52.41</td>\n",
       "      <td>24.17</td>\n",
       "      <td>24.80</td>\n",
       "      <td>190.16</td>\n",
       "      <td>24.00</td>\n",
       "      <td>34.30</td>\n",
       "    </tr>\n",
       "    <tr>\n",
       "      <th>1</th>\n",
       "      <td>2013-06-17</td>\n",
       "      <td>73.09</td>\n",
       "      <td>12.69</td>\n",
       "      <td>51.58</td>\n",
       "      <td>24.31</td>\n",
       "      <td>24.15</td>\n",
       "      <td>194.49</td>\n",
       "      <td>23.97</td>\n",
       "      <td>33.04</td>\n",
       "    </tr>\n",
       "    <tr>\n",
       "      <th>2</th>\n",
       "      <td>2013-06-10</td>\n",
       "      <td>72.75</td>\n",
       "      <td>13.07</td>\n",
       "      <td>52.75</td>\n",
       "      <td>23.92</td>\n",
       "      <td>24.74</td>\n",
       "      <td>201.19</td>\n",
       "      <td>24.68</td>\n",
       "      <td>34.16</td>\n",
       "    </tr>\n",
       "    <tr>\n",
       "      <th>3</th>\n",
       "      <td>2013-06-03</td>\n",
       "      <td>77.80</td>\n",
       "      <td>13.38</td>\n",
       "      <td>53.88</td>\n",
       "      <td>24.32</td>\n",
       "      <td>24.66</td>\n",
       "      <td>205.32</td>\n",
       "      <td>24.35</td>\n",
       "      <td>35.42</td>\n",
       "    </tr>\n",
       "    <tr>\n",
       "      <th>4</th>\n",
       "      <td>2013-05-28</td>\n",
       "      <td>75.48</td>\n",
       "      <td>13.65</td>\n",
       "      <td>54.19</td>\n",
       "      <td>23.95</td>\n",
       "      <td>24.28</td>\n",
       "      <td>206.99</td>\n",
       "      <td>24.04</td>\n",
       "      <td>34.66</td>\n",
       "    </tr>\n",
       "  </tbody>\n",
       "</table>\n",
       "</div>"
      ],
      "text/plain": [
       "        Date    AXP    BAC    JPM   CSCO    HPQ     IBM   INTC   MSFT\n",
       "0 2013-06-24  74.53  12.86  52.41  24.17  24.80  190.16  24.00  34.30\n",
       "1 2013-06-17  73.09  12.69  51.58  24.31  24.15  194.49  23.97  33.04\n",
       "2 2013-06-10  72.75  13.07  52.75  23.92  24.74  201.19  24.68  34.16\n",
       "3 2013-06-03  77.80  13.38  53.88  24.32  24.66  205.32  24.35  35.42\n",
       "4 2013-05-28  75.48  13.65  54.19  23.95  24.28  206.99  24.04  34.66"
      ]
     },
     "execution_count": 99,
     "metadata": {},
     "output_type": "execute_result"
    }
   ],
   "source": [
    "import pandas as pd\n",
    "\n",
    "# Load the data from the Excel file\n",
    "data_path = 'data-DJ30-cov_corr_july2011-june2013.xlsx'\n",
    "stock_data = pd.read_excel(data_path)\n",
    "\n",
    "# Display the first few rows of the data to verify correct loading and understand its structure\n",
    "stock_data.head()\n"
   ]
  },
  {
   "cell_type": "code",
   "execution_count": 132,
   "metadata": {},
   "outputs": [
    {
     "name": "stdout",
     "output_type": "stream",
     "text": [
      "\\begin{tabular}{llrrrrrrrr}\n",
      "\\toprule\n",
      " & Date & AXP & BAC & JPM & CSCO & HPQ & IBM & INTC & MSFT \\\\\n",
      "\\midrule\n",
      "0 & 2011-07-05 00:00:00 & 0.013850 & -0.035221 & -0.020348 & -0.003981 & -0.016879 & 0.011077 & 0.024281 & 0.033833 \\\\\n",
      "1 & 2011-07-11 00:00:00 & -0.024116 & -0.068319 & -0.018913 & -0.009352 & -0.037629 & -0.005375 & -0.031536 & -0.005162 \\\\\n",
      "2 & 2011-07-18 00:00:00 & 0.008300 & 0.013046 & 0.053690 & 0.054209 & 0.045103 & 0.053450 & 0.033416 & 0.027485 \\\\\n",
      "3 & 2011-07-25 00:00:00 & -0.043030 & -0.041736 & -0.042090 & -0.030335 & -0.042709 & -0.018130 & -0.035360 & -0.004658 \\\\\n",
      "4 & 2011-08-01 00:00:00 & -0.058162 & -0.173216 & -0.073120 & -0.067076 & -0.075074 & -0.049997 & -0.061689 & -0.064694 \\\\\n",
      "5 & 2011-08-08 00:00:00 & -0.050468 & -0.127721 & -0.045876 & 0.068385 & -0.009387 & -0.023719 & -0.006748 & -0.022671 \\\\\n",
      "6 & 2011-08-15 00:00:00 & -0.009435 & -0.031386 & -0.044371 & -0.058622 & -0.314599 & -0.065425 & -0.073467 & -0.036761 \\\\\n",
      "7 & 2011-08-22 00:00:00 & 0.086337 & 0.108399 & 0.052604 & 0.015835 & 0.050380 & 0.071010 & 0.029820 & 0.049000 \\\\\n",
      "8 & 2011-08-29 00:00:00 & 0.000636 & -0.067230 & -0.044611 & 0.005450 & -0.019244 & -0.012812 & -0.006550 & 0.021167 \\\\\n",
      "9 & 2011-09-06 00:00:00 & -0.025546 & -0.038275 & -0.076324 & 0.026811 & -0.072051 & -0.034177 & 0.003280 & -0.002055 \\\\\n",
      "\\bottomrule\n",
      "\\end{tabular}\n",
      "\n"
     ]
    }
   ],
   "source": [
    "import numpy as np\n",
    "\n",
    "# Ensure data is sorted by date in ascending order for correct return calculations\n",
    "stock_data.sort_values('Date', ascending=True, inplace=True)\n",
    "\n",
    "# Calculate log returns for each stock weekly (using every row, assuming each row is a week apart)\n",
    "# Since the data is in reverse chronological order (newest to oldest), we will reverse the data for calculations.\n",
    "weekly_returns = np.log(stock_data.iloc[1:, 1:].values / stock_data.iloc[:-1, 1:].values)\n",
    "\n",
    "# Create a DataFrame for weekly returns\n",
    "weekly_returns_df = pd.DataFrame(weekly_returns, columns=stock_data.columns[1:])\n",
    "weekly_returns_df['Date'] = stock_data['Date'].iloc[1:].values\n",
    "weekly_returns_df = weekly_returns_df[['Date'] + list(stock_data.columns[1:])]\n",
    "\n",
    "# Display the first few rows of weekly and monthly log returns DataFrames\n",
    "print(weekly_returns_df.head(10).to_latex())\n"
   ]
  },
  {
   "cell_type": "code",
   "execution_count": 133,
   "metadata": {},
   "outputs": [
    {
     "name": "stdout",
     "output_type": "stream",
     "text": [
      "\\begin{tabular}{llrrrrrrrr}\n",
      "\\toprule\n",
      " & Date & AXP & BAC & JPM & CSCO & HPQ & IBM & INTC & MSFT \\\\\n",
      "\\midrule\n",
      "0 & 2011-08-01 00:00:00 & -0.006597 & -0.171980 & -0.073967 & -0.019187 & -0.301121 & -0.051838 & -0.093866 & -0.023061 \\\\\n",
      "1 & 2011-09-01 00:00:00 & -0.101805 & -0.288505 & -0.220818 & -0.010746 & -0.142573 & 0.017050 & 0.058568 & -0.066623 \\\\\n",
      "2 & 2011-10-03 00:00:00 & 0.124098 & 0.109142 & 0.151885 & 0.182772 & 0.170059 & 0.054337 & 0.139502 & 0.067809 \\\\\n",
      "3 & 2011-11-01 00:00:00 & -0.052316 & -0.226102 & -0.115254 & 0.005609 & 0.049071 & 0.022070 & 0.024015 & -0.032921 \\\\\n",
      "4 & 2011-12-01 00:00:00 & -0.018282 & 0.021979 & 0.071049 & -0.030667 & -0.076961 & -0.022126 & -0.027058 & 0.014587 \\\\\n",
      "5 & 2012-01-03 00:00:00 & 0.064715 & 0.248896 & 0.122128 & 0.086675 & 0.082557 & 0.046332 & 0.085886 & 0.128895 \\\\\n",
      "6 & 2012-02-01 00:00:00 & 0.053478 & 0.113379 & 0.050720 & 0.011567 & -0.100495 & 0.025090 & 0.024858 & 0.078845 \\\\\n",
      "7 & 2012-03-01 00:00:00 & 0.089772 & 0.182742 & 0.158509 & 0.062314 & -0.054959 & 0.058805 & 0.045332 & 0.016208 \\\\\n",
      "8 & 2012-04-02 00:00:00 & 0.043301 & -0.165241 & -0.061050 & -0.044184 & 0.037950 & -0.007522 & 0.010006 & -0.007423 \\\\\n",
      "9 & 2012-05-01 00:00:00 & -0.075551 & -0.097543 & -0.259618 & -0.210645 & -0.087392 & -0.066778 & -0.087414 & -0.085864 \\\\\n",
      "10 & 2012-06-01 00:00:00 & 0.041725 & 0.107408 & 0.074979 & 0.050057 & -0.114535 & 0.013832 & 0.030906 & 0.046889 \\\\\n",
      "11 & 2012-07-02 00:00:00 & -0.005253 & -0.108775 & 0.015830 & -0.069251 & -0.097822 & 0.002027 & -0.036151 & -0.037404 \\\\\n",
      "12 & 2012-08-01 00:00:00 & 0.010305 & 0.085186 & 0.031204 & 0.179302 & -0.077458 & -0.001507 & -0.025816 & 0.051451 \\\\\n",
      "13 & 2012-09-04 00:00:00 & -0.024984 & 0.101458 & 0.085881 & 0.001079 & 0.018138 & 0.062639 & -0.091664 & -0.035151 \\\\\n",
      "14 & 2012-10-01 00:00:00 & -0.012369 & 0.054127 & 0.036658 & -0.100339 & -0.208423 & -0.064304 & -0.046563 & -0.041797 \\\\\n",
      "15 & 2012-11-01 00:00:00 & -0.001263 & 0.055425 & -0.014552 & 0.105182 & -0.063997 & -0.018825 & -0.089702 & -0.061387 \\\\\n",
      "16 & 2012-12-03 00:00:00 & 0.027960 & 0.164704 & 0.067949 & 0.038436 & 0.102366 & 0.007773 & 0.052309 & 0.003427 \\\\\n",
      "17 & 2013-01-02 00:00:00 & 0.026345 & -0.025340 & 0.074672 & 0.045439 & 0.147023 & 0.058410 & 0.020084 & 0.027368 \\\\\n",
      "18 & 2013-02-01 00:00:00 & 0.055237 & -0.007105 & 0.038873 & 0.014212 & 0.198941 & -0.006930 & 0.003389 & 0.020861 \\\\\n",
      "19 & 2013-03-01 00:00:00 & 0.082008 & 0.081276 & -0.030293 & 0.001945 & 0.174755 & 0.060233 & 0.044893 & 0.028563 \\\\\n",
      "20 & 2013-04-01 00:00:00 & 0.016857 & 0.010625 & 0.038547 & 0.008704 & -0.146026 & -0.051715 & 0.092197 & 0.145819 \\\\\n",
      "21 & 2013-05-01 00:00:00 & 0.101423 & 0.104140 & 0.107639 & 0.142459 & 0.170204 & 0.031349 & 0.022913 & 0.059926 \\\\\n",
      "22 & 2013-06-03 00:00:00 & -0.012666 & -0.059618 & -0.033399 & 0.009144 & 0.021191 & -0.084785 & -0.002061 & -0.010369 \\\\\n",
      "\\bottomrule\n",
      "\\end{tabular}\n",
      "\n"
     ]
    }
   ],
   "source": [
    "# Load the data from the \"Monthly\" sheet in the Excel file\n",
    "monthly_stock_data = pd.read_excel(data_path, sheet_name='monthly')\n",
    "\n",
    "# Ensure data is sorted by date in ascending order for correct return calculations\n",
    "monthly_stock_data.sort_values('Date', ascending=True, inplace=True)\n",
    "\n",
    "# Calculate log returns for each stock monthly (using consecutive rows)\n",
    "monthly_returns = np.log(monthly_stock_data.iloc[1:, 1:].values / monthly_stock_data.iloc[:-1, 1:].values)\n",
    "\n",
    "# Create a DataFrame for monthly returns\n",
    "monthly_returns_df = pd.DataFrame(monthly_returns, columns=monthly_stock_data.columns[1:])\n",
    "monthly_returns_df['Date'] = monthly_stock_data['Date'].iloc[1:].values\n",
    "monthly_returns_df = monthly_returns_df[['Date'] + list(monthly_stock_data.columns[1:])]\n",
    "\n",
    "# Display the first few rows of the monthly log returns DataFrame\n",
    "print(monthly_returns_df.to_latex())\n"
   ]
  },
  {
   "cell_type": "code",
   "execution_count": 135,
   "metadata": {},
   "outputs": [
    {
     "name": "stdout",
     "output_type": "stream",
     "text": [
      "Weekly Covariance Matrix\n",
      "\n",
      " \\begin{tabular}{lrrrrrrrr}\n",
      "\\toprule\n",
      " & AXP & BAC & JPM & CSCO & HPQ & IBM & INTC & MSFT \\\\\n",
      "\\midrule\n",
      "AXP & 0.001033 & 0.001330 & 0.000992 & 0.000460 & 0.000670 & 0.000449 & 0.000552 & 0.000542 \\\\\n",
      "BAC & 0.001330 & 0.003600 & 0.002139 & 0.000977 & 0.001152 & 0.000857 & 0.000896 & 0.000883 \\\\\n",
      "JPM & 0.000992 & 0.002139 & 0.001949 & 0.000937 & 0.001114 & 0.000684 & 0.000692 & 0.000687 \\\\\n",
      "CSCO & 0.000460 & 0.000977 & 0.000937 & 0.001482 & 0.000927 & 0.000589 & 0.000534 & 0.000525 \\\\\n",
      "HPQ & 0.000670 & 0.001152 & 0.001114 & 0.000927 & 0.003587 & 0.000872 & 0.001016 & 0.000591 \\\\\n",
      "IBM & 0.000449 & 0.000857 & 0.000684 & 0.000589 & 0.000872 & 0.000865 & 0.000519 & 0.000428 \\\\\n",
      "INTC & 0.000552 & 0.000896 & 0.000692 & 0.000534 & 0.001016 & 0.000519 & 0.001066 & 0.000507 \\\\\n",
      "MSFT & 0.000542 & 0.000883 & 0.000687 & 0.000525 & 0.000591 & 0.000428 & 0.000507 & 0.000916 \\\\\n",
      "\\bottomrule\n",
      "\\end{tabular}\n",
      "\n",
      "Weekly Correlation Matrix\n",
      "\n",
      " \\begin{tabular}{lrrrrrrrr}\n",
      "\\toprule\n",
      " & AXP & BAC & JPM & CSCO & HPQ & IBM & INTC & MSFT \\\\\n",
      "\\midrule\n",
      "AXP & 1.000000 & 0.689501 & 0.699261 & 0.372070 & 0.348173 & 0.474895 & 0.526059 & 0.556712 \\\\\n",
      "BAC & 0.689501 & 1.000000 & 0.807547 & 0.423249 & 0.320555 & 0.485617 & 0.457506 & 0.486391 \\\\\n",
      "JPM & 0.699261 & 0.807547 & 1.000000 & 0.551521 & 0.421470 & 0.527166 & 0.480359 & 0.514542 \\\\\n",
      "CSCO & 0.372070 & 0.423249 & 0.551521 & 1.000000 & 0.402049 & 0.520300 & 0.424725 & 0.450444 \\\\\n",
      "HPQ & 0.348173 & 0.320555 & 0.421470 & 0.402049 & 1.000000 & 0.495163 & 0.519735 & 0.325845 \\\\\n",
      "IBM & 0.474895 & 0.485617 & 0.527166 & 0.520300 & 0.495163 & 1.000000 & 0.540684 & 0.481144 \\\\\n",
      "INTC & 0.526059 & 0.457506 & 0.480359 & 0.424725 & 0.519735 & 0.540684 & 1.000000 & 0.513052 \\\\\n",
      "MSFT & 0.556712 & 0.486391 & 0.514542 & 0.450444 & 0.325845 & 0.481144 & 0.513052 & 1.000000 \\\\\n",
      "\\bottomrule\n",
      "\\end{tabular}\n",
      "\n",
      "Monthly Covariance Matrix\n",
      "\n",
      " \\begin{tabular}{lrrrrrrrr}\n",
      "\\toprule\n",
      " & AXP & BAC & JPM & CSCO & HPQ & IBM & INTC & MSFT \\\\\n",
      "\\midrule\n",
      "AXP & 0.003105 & 0.005148 & 0.004490 & 0.002934 & 0.004046 & 0.001222 & 0.001832 & 0.002217 \\\\\n",
      "BAC & 0.005148 & 0.018797 & 0.011645 & 0.005865 & 0.005610 & 0.002353 & 0.002242 & 0.004682 \\\\\n",
      "JPM & 0.004490 & 0.011645 & 0.011253 & 0.005719 & 0.004723 & 0.002201 & 0.002362 & 0.004006 \\\\\n",
      "CSCO & 0.002934 & 0.005865 & 0.005719 & 0.007650 & 0.004756 & 0.001967 & 0.002488 & 0.002816 \\\\\n",
      "HPQ & 0.004046 & 0.005610 & 0.004723 & 0.004756 & 0.018312 & 0.003346 & 0.003729 & 0.002116 \\\\\n",
      "IBM & 0.001222 & 0.002353 & 0.002201 & 0.001967 & 0.003346 & 0.001998 & 0.001216 & 0.000768 \\\\\n",
      "INTC & 0.001832 & 0.002242 & 0.002362 & 0.002488 & 0.003729 & 0.001216 & 0.003887 & 0.002494 \\\\\n",
      "MSFT & 0.002217 & 0.004682 & 0.004006 & 0.002816 & 0.002116 & 0.000768 & 0.002494 & 0.003533 \\\\\n",
      "\\bottomrule\n",
      "\\end{tabular}\n",
      "\n",
      "Monthly Correlation Matrix\n",
      "\n",
      " \\begin{tabular}{lrrrrrrrr}\n",
      "\\toprule\n",
      " & AXP & BAC & JPM & CSCO & HPQ & IBM & INTC & MSFT \\\\\n",
      "\\midrule\n",
      "AXP & 1.000000 & 0.673816 & 0.759623 & 0.602003 & 0.536523 & 0.490684 & 0.527247 & 0.669284 \\\\\n",
      "BAC & 0.673816 & 1.000000 & 0.800678 & 0.489094 & 0.302386 & 0.383878 & 0.262332 & 0.574497 \\\\\n",
      "JPM & 0.759623 & 0.800678 & 1.000000 & 0.616332 & 0.328974 & 0.464213 & 0.357220 & 0.635266 \\\\\n",
      "CSCO & 0.602003 & 0.489094 & 0.616332 & 1.000000 & 0.401785 & 0.503133 & 0.456288 & 0.541684 \\\\\n",
      "HPQ & 0.536523 & 0.302386 & 0.328974 & 0.401785 & 1.000000 & 0.553181 & 0.441980 & 0.263062 \\\\\n",
      "IBM & 0.490684 & 0.383878 & 0.464213 & 0.503133 & 0.553181 & 1.000000 & 0.436520 & 0.288991 \\\\\n",
      "INTC & 0.527247 & 0.262332 & 0.357220 & 0.456288 & 0.441980 & 0.436520 & 1.000000 & 0.672936 \\\\\n",
      "MSFT & 0.669284 & 0.574497 & 0.635266 & 0.541684 & 0.263062 & 0.288991 & 0.672936 & 1.000000 \\\\\n",
      "\\bottomrule\n",
      "\\end{tabular}\n",
      "\n"
     ]
    }
   ],
   "source": [
    "# Calculate covariance and correlation matrices for weekly log returns using pandas for easier handling\n",
    "weekly_covariance_matrix_pd = weekly_returns_df.iloc[:, 1:].cov()\n",
    "weekly_correlation_matrix_pd = weekly_returns_df.iloc[:, 1:].corr()\n",
    "\n",
    "# Calculate covariance and correlation matrices for monthly log returns using pandas\n",
    "monthly_covariance_matrix_pd = monthly_returns_df.iloc[:, 1:].cov()\n",
    "monthly_correlation_matrix_pd = monthly_returns_df.iloc[:, 1:].corr()\n",
    "\n",
    "print(\"Weekly Covariance Matrix\\n\\n\",\n",
    "      weekly_covariance_matrix_pd.to_latex())\n",
    "\n",
    "print(\"Weekly Correlation Matrix\\n\\n\",\n",
    "      weekly_correlation_matrix_pd.to_latex())\n",
    "\n",
    "print(\"Monthly Covariance Matrix\\n\\n\",\n",
    "      monthly_covariance_matrix_pd.to_latex())\n",
    "\n",
    "print(\"Monthly Correlation Matrix\\n\\n\",\n",
    "      monthly_correlation_matrix_pd.to_latex())\n",
    "\n"
   ]
  },
  {
   "cell_type": "code",
   "execution_count": 111,
   "metadata": {},
   "outputs": [
    {
     "data": {
      "text/html": [
       "<div>\n",
       "<style scoped>\n",
       "    .dataframe tbody tr th:only-of-type {\n",
       "        vertical-align: middle;\n",
       "    }\n",
       "\n",
       "    .dataframe tbody tr th {\n",
       "        vertical-align: top;\n",
       "    }\n",
       "\n",
       "    .dataframe thead th {\n",
       "        text-align: right;\n",
       "    }\n",
       "</style>\n",
       "<table border=\"1\" class=\"dataframe\">\n",
       "  <thead>\n",
       "    <tr style=\"text-align: right;\">\n",
       "      <th></th>\n",
       "      <th>AXP</th>\n",
       "      <th>BAC</th>\n",
       "      <th>JPM</th>\n",
       "      <th>CSCO</th>\n",
       "      <th>HPQ</th>\n",
       "      <th>IBM</th>\n",
       "      <th>INTC</th>\n",
       "      <th>MSFT</th>\n",
       "    </tr>\n",
       "  </thead>\n",
       "  <tbody>\n",
       "    <tr>\n",
       "      <th>AXP</th>\n",
       "      <td>0.001033</td>\n",
       "      <td>0.001330</td>\n",
       "      <td>0.000992</td>\n",
       "      <td>0.000460</td>\n",
       "      <td>0.000670</td>\n",
       "      <td>0.000449</td>\n",
       "      <td>0.000552</td>\n",
       "      <td>0.000542</td>\n",
       "    </tr>\n",
       "    <tr>\n",
       "      <th>BAC</th>\n",
       "      <td>0.001330</td>\n",
       "      <td>0.003600</td>\n",
       "      <td>0.002139</td>\n",
       "      <td>0.000977</td>\n",
       "      <td>0.001152</td>\n",
       "      <td>0.000857</td>\n",
       "      <td>0.000896</td>\n",
       "      <td>0.000883</td>\n",
       "    </tr>\n",
       "    <tr>\n",
       "      <th>JPM</th>\n",
       "      <td>0.000992</td>\n",
       "      <td>0.002139</td>\n",
       "      <td>0.001949</td>\n",
       "      <td>0.000937</td>\n",
       "      <td>0.001114</td>\n",
       "      <td>0.000684</td>\n",
       "      <td>0.000692</td>\n",
       "      <td>0.000687</td>\n",
       "    </tr>\n",
       "    <tr>\n",
       "      <th>CSCO</th>\n",
       "      <td>0.000460</td>\n",
       "      <td>0.000977</td>\n",
       "      <td>0.000937</td>\n",
       "      <td>0.001482</td>\n",
       "      <td>0.000927</td>\n",
       "      <td>0.000589</td>\n",
       "      <td>0.000534</td>\n",
       "      <td>0.000525</td>\n",
       "    </tr>\n",
       "    <tr>\n",
       "      <th>HPQ</th>\n",
       "      <td>0.000670</td>\n",
       "      <td>0.001152</td>\n",
       "      <td>0.001114</td>\n",
       "      <td>0.000927</td>\n",
       "      <td>0.003587</td>\n",
       "      <td>0.000872</td>\n",
       "      <td>0.001016</td>\n",
       "      <td>0.000591</td>\n",
       "    </tr>\n",
       "    <tr>\n",
       "      <th>IBM</th>\n",
       "      <td>0.000449</td>\n",
       "      <td>0.000857</td>\n",
       "      <td>0.000684</td>\n",
       "      <td>0.000589</td>\n",
       "      <td>0.000872</td>\n",
       "      <td>0.000865</td>\n",
       "      <td>0.000519</td>\n",
       "      <td>0.000428</td>\n",
       "    </tr>\n",
       "    <tr>\n",
       "      <th>INTC</th>\n",
       "      <td>0.000552</td>\n",
       "      <td>0.000896</td>\n",
       "      <td>0.000692</td>\n",
       "      <td>0.000534</td>\n",
       "      <td>0.001016</td>\n",
       "      <td>0.000519</td>\n",
       "      <td>0.001066</td>\n",
       "      <td>0.000507</td>\n",
       "    </tr>\n",
       "    <tr>\n",
       "      <th>MSFT</th>\n",
       "      <td>0.000542</td>\n",
       "      <td>0.000883</td>\n",
       "      <td>0.000687</td>\n",
       "      <td>0.000525</td>\n",
       "      <td>0.000591</td>\n",
       "      <td>0.000428</td>\n",
       "      <td>0.000507</td>\n",
       "      <td>0.000916</td>\n",
       "    </tr>\n",
       "  </tbody>\n",
       "</table>\n",
       "</div>"
      ],
      "text/plain": [
       "           AXP       BAC       JPM      CSCO       HPQ       IBM      INTC  \\\n",
       "AXP   0.001033  0.001330  0.000992  0.000460  0.000670  0.000449  0.000552   \n",
       "BAC   0.001330  0.003600  0.002139  0.000977  0.001152  0.000857  0.000896   \n",
       "JPM   0.000992  0.002139  0.001949  0.000937  0.001114  0.000684  0.000692   \n",
       "CSCO  0.000460  0.000977  0.000937  0.001482  0.000927  0.000589  0.000534   \n",
       "HPQ   0.000670  0.001152  0.001114  0.000927  0.003587  0.000872  0.001016   \n",
       "IBM   0.000449  0.000857  0.000684  0.000589  0.000872  0.000865  0.000519   \n",
       "INTC  0.000552  0.000896  0.000692  0.000534  0.001016  0.000519  0.001066   \n",
       "MSFT  0.000542  0.000883  0.000687  0.000525  0.000591  0.000428  0.000507   \n",
       "\n",
       "          MSFT  \n",
       "AXP   0.000542  \n",
       "BAC   0.000883  \n",
       "JPM   0.000687  \n",
       "CSCO  0.000525  \n",
       "HPQ   0.000591  \n",
       "IBM   0.000428  \n",
       "INTC  0.000507  \n",
       "MSFT  0.000916  "
      ]
     },
     "execution_count": 111,
     "metadata": {},
     "output_type": "execute_result"
    }
   ],
   "source": [
    "weekly_covariance_matrix_pd"
   ]
  },
  {
   "cell_type": "code",
   "execution_count": 129,
   "metadata": {},
   "outputs": [
    {
     "name": "stderr",
     "output_type": "stream",
     "text": [
      "C:\\Users\\Dani\\AppData\\Local\\Temp\\ipykernel_19092\\1497433426.py:4: FutureWarning: Setting an item of incompatible dtype is deprecated and will raise an error in a future version of pandas. Value 'nan' has dtype incompatible with bool, please explicitly cast to a compatible dtype first.\n",
      "  trues.iloc[i,i] = pd.NA\n",
      "C:\\Users\\Dani\\AppData\\Local\\Temp\\ipykernel_19092\\1497433426.py:4: FutureWarning: Setting an item of incompatible dtype is deprecated and will raise an error in a future version of pandas. Value 'nan' has dtype incompatible with bool, please explicitly cast to a compatible dtype first.\n",
      "  trues.iloc[i,i] = pd.NA\n",
      "C:\\Users\\Dani\\AppData\\Local\\Temp\\ipykernel_19092\\1497433426.py:4: FutureWarning: Setting an item of incompatible dtype is deprecated and will raise an error in a future version of pandas. Value 'nan' has dtype incompatible with bool, please explicitly cast to a compatible dtype first.\n",
      "  trues.iloc[i,i] = pd.NA\n",
      "C:\\Users\\Dani\\AppData\\Local\\Temp\\ipykernel_19092\\1497433426.py:4: FutureWarning: Setting an item of incompatible dtype is deprecated and will raise an error in a future version of pandas. Value 'nan' has dtype incompatible with bool, please explicitly cast to a compatible dtype first.\n",
      "  trues.iloc[i,i] = pd.NA\n",
      "C:\\Users\\Dani\\AppData\\Local\\Temp\\ipykernel_19092\\1497433426.py:4: FutureWarning: Setting an item of incompatible dtype is deprecated and will raise an error in a future version of pandas. Value 'nan' has dtype incompatible with bool, please explicitly cast to a compatible dtype first.\n",
      "  trues.iloc[i,i] = pd.NA\n",
      "C:\\Users\\Dani\\AppData\\Local\\Temp\\ipykernel_19092\\1497433426.py:4: FutureWarning: Setting an item of incompatible dtype is deprecated and will raise an error in a future version of pandas. Value 'nan' has dtype incompatible with bool, please explicitly cast to a compatible dtype first.\n",
      "  trues.iloc[i,i] = pd.NA\n",
      "C:\\Users\\Dani\\AppData\\Local\\Temp\\ipykernel_19092\\1497433426.py:4: FutureWarning: Setting an item of incompatible dtype is deprecated and will raise an error in a future version of pandas. Value 'nan' has dtype incompatible with bool, please explicitly cast to a compatible dtype first.\n",
      "  trues.iloc[i,i] = pd.NA\n",
      "C:\\Users\\Dani\\AppData\\Local\\Temp\\ipykernel_19092\\1497433426.py:4: FutureWarning: Setting an item of incompatible dtype is deprecated and will raise an error in a future version of pandas. Value 'nan' has dtype incompatible with bool, please explicitly cast to a compatible dtype first.\n",
      "  trues.iloc[i,i] = pd.NA\n"
     ]
    }
   ],
   "source": [
    "larger = monthly_correlation_matrix_pd > weekly_correlation_matrix_pd\n",
    "trues = larger.copy()\n",
    "for i in range(0,8):\n",
    "    trues.iloc[i,i] = pd.NA"
   ]
  },
  {
   "cell_type": "code",
   "execution_count": 128,
   "metadata": {},
   "outputs": [
    {
     "name": "stdout",
     "output_type": "stream",
     "text": [
      "28\n"
     ]
    }
   ],
   "source": [
    "total_trues = trues.sum().sum()\n",
    "print(total_trues)"
   ]
  },
  {
   "cell_type": "code",
   "execution_count": 127,
   "metadata": {},
   "outputs": [
    {
     "name": "stderr",
     "output_type": "stream",
     "text": [
      "C:\\Users\\Dani\\AppData\\Local\\Temp\\ipykernel_19092\\408817156.py:3: FutureWarning: Setting an item of incompatible dtype is deprecated and will raise an error in a future version of pandas. Value 'nan' has dtype incompatible with bool, please explicitly cast to a compatible dtype first.\n",
      "  falses.iloc[i,i] = pd.NA\n",
      "C:\\Users\\Dani\\AppData\\Local\\Temp\\ipykernel_19092\\408817156.py:3: FutureWarning: Setting an item of incompatible dtype is deprecated and will raise an error in a future version of pandas. Value 'nan' has dtype incompatible with bool, please explicitly cast to a compatible dtype first.\n",
      "  falses.iloc[i,i] = pd.NA\n",
      "C:\\Users\\Dani\\AppData\\Local\\Temp\\ipykernel_19092\\408817156.py:3: FutureWarning: Setting an item of incompatible dtype is deprecated and will raise an error in a future version of pandas. Value 'nan' has dtype incompatible with bool, please explicitly cast to a compatible dtype first.\n",
      "  falses.iloc[i,i] = pd.NA\n",
      "C:\\Users\\Dani\\AppData\\Local\\Temp\\ipykernel_19092\\408817156.py:3: FutureWarning: Setting an item of incompatible dtype is deprecated and will raise an error in a future version of pandas. Value 'nan' has dtype incompatible with bool, please explicitly cast to a compatible dtype first.\n",
      "  falses.iloc[i,i] = pd.NA\n",
      "C:\\Users\\Dani\\AppData\\Local\\Temp\\ipykernel_19092\\408817156.py:3: FutureWarning: Setting an item of incompatible dtype is deprecated and will raise an error in a future version of pandas. Value 'nan' has dtype incompatible with bool, please explicitly cast to a compatible dtype first.\n",
      "  falses.iloc[i,i] = pd.NA\n",
      "C:\\Users\\Dani\\AppData\\Local\\Temp\\ipykernel_19092\\408817156.py:3: FutureWarning: Setting an item of incompatible dtype is deprecated and will raise an error in a future version of pandas. Value 'nan' has dtype incompatible with bool, please explicitly cast to a compatible dtype first.\n",
      "  falses.iloc[i,i] = pd.NA\n",
      "C:\\Users\\Dani\\AppData\\Local\\Temp\\ipykernel_19092\\408817156.py:3: FutureWarning: Setting an item of incompatible dtype is deprecated and will raise an error in a future version of pandas. Value 'nan' has dtype incompatible with bool, please explicitly cast to a compatible dtype first.\n",
      "  falses.iloc[i,i] = pd.NA\n",
      "C:\\Users\\Dani\\AppData\\Local\\Temp\\ipykernel_19092\\408817156.py:3: FutureWarning: Setting an item of incompatible dtype is deprecated and will raise an error in a future version of pandas. Value 'nan' has dtype incompatible with bool, please explicitly cast to a compatible dtype first.\n",
      "  falses.iloc[i,i] = pd.NA\n"
     ]
    },
    {
     "data": {
      "text/html": [
       "<div>\n",
       "<style scoped>\n",
       "    .dataframe tbody tr th:only-of-type {\n",
       "        vertical-align: middle;\n",
       "    }\n",
       "\n",
       "    .dataframe tbody tr th {\n",
       "        vertical-align: top;\n",
       "    }\n",
       "\n",
       "    .dataframe thead th {\n",
       "        text-align: right;\n",
       "    }\n",
       "</style>\n",
       "<table border=\"1\" class=\"dataframe\">\n",
       "  <thead>\n",
       "    <tr style=\"text-align: right;\">\n",
       "      <th></th>\n",
       "      <th>AXP</th>\n",
       "      <th>BAC</th>\n",
       "      <th>JPM</th>\n",
       "      <th>CSCO</th>\n",
       "      <th>HPQ</th>\n",
       "      <th>IBM</th>\n",
       "      <th>INTC</th>\n",
       "      <th>MSFT</th>\n",
       "    </tr>\n",
       "  </thead>\n",
       "  <tbody>\n",
       "    <tr>\n",
       "      <th>AXP</th>\n",
       "      <td>NaN</td>\n",
       "      <td>True</td>\n",
       "      <td>False</td>\n",
       "      <td>False</td>\n",
       "      <td>False</td>\n",
       "      <td>False</td>\n",
       "      <td>False</td>\n",
       "      <td>False</td>\n",
       "    </tr>\n",
       "    <tr>\n",
       "      <th>BAC</th>\n",
       "      <td>True</td>\n",
       "      <td>NaN</td>\n",
       "      <td>True</td>\n",
       "      <td>False</td>\n",
       "      <td>True</td>\n",
       "      <td>True</td>\n",
       "      <td>True</td>\n",
       "      <td>False</td>\n",
       "    </tr>\n",
       "    <tr>\n",
       "      <th>JPM</th>\n",
       "      <td>False</td>\n",
       "      <td>True</td>\n",
       "      <td>NaN</td>\n",
       "      <td>False</td>\n",
       "      <td>True</td>\n",
       "      <td>True</td>\n",
       "      <td>True</td>\n",
       "      <td>False</td>\n",
       "    </tr>\n",
       "    <tr>\n",
       "      <th>CSCO</th>\n",
       "      <td>False</td>\n",
       "      <td>False</td>\n",
       "      <td>False</td>\n",
       "      <td>NaN</td>\n",
       "      <td>True</td>\n",
       "      <td>True</td>\n",
       "      <td>False</td>\n",
       "      <td>False</td>\n",
       "    </tr>\n",
       "    <tr>\n",
       "      <th>HPQ</th>\n",
       "      <td>False</td>\n",
       "      <td>True</td>\n",
       "      <td>True</td>\n",
       "      <td>True</td>\n",
       "      <td>NaN</td>\n",
       "      <td>False</td>\n",
       "      <td>True</td>\n",
       "      <td>True</td>\n",
       "    </tr>\n",
       "    <tr>\n",
       "      <th>IBM</th>\n",
       "      <td>False</td>\n",
       "      <td>True</td>\n",
       "      <td>True</td>\n",
       "      <td>True</td>\n",
       "      <td>False</td>\n",
       "      <td>NaN</td>\n",
       "      <td>True</td>\n",
       "      <td>True</td>\n",
       "    </tr>\n",
       "    <tr>\n",
       "      <th>INTC</th>\n",
       "      <td>False</td>\n",
       "      <td>True</td>\n",
       "      <td>True</td>\n",
       "      <td>False</td>\n",
       "      <td>True</td>\n",
       "      <td>True</td>\n",
       "      <td>NaN</td>\n",
       "      <td>False</td>\n",
       "    </tr>\n",
       "    <tr>\n",
       "      <th>MSFT</th>\n",
       "      <td>False</td>\n",
       "      <td>False</td>\n",
       "      <td>False</td>\n",
       "      <td>False</td>\n",
       "      <td>True</td>\n",
       "      <td>True</td>\n",
       "      <td>False</td>\n",
       "      <td>NaN</td>\n",
       "    </tr>\n",
       "  </tbody>\n",
       "</table>\n",
       "</div>"
      ],
      "text/plain": [
       "        AXP    BAC    JPM   CSCO    HPQ    IBM   INTC   MSFT\n",
       "AXP     NaN   True  False  False  False  False  False  False\n",
       "BAC    True    NaN   True  False   True   True   True  False\n",
       "JPM   False   True    NaN  False   True   True   True  False\n",
       "CSCO  False  False  False    NaN   True   True  False  False\n",
       "HPQ   False   True   True   True    NaN  False   True   True\n",
       "IBM   False   True   True   True  False    NaN   True   True\n",
       "INTC  False   True   True  False   True   True    NaN  False\n",
       "MSFT  False  False  False  False   True   True  False    NaN"
      ]
     },
     "execution_count": 127,
     "metadata": {},
     "output_type": "execute_result"
    }
   ],
   "source": [
    "falses = ~larger\n",
    "for i in range(0,8):\n",
    "    falses.iloc[i,i] = pd.NA\n",
    "falses"
   ]
  },
  {
   "cell_type": "code",
   "execution_count": 130,
   "metadata": {},
   "outputs": [
    {
     "name": "stdout",
     "output_type": "stream",
     "text": [
      "28\n"
     ]
    }
   ],
   "source": [
    "total_falses = falses.sum().sum()\n",
    "print(total_falses)"
   ]
  },
  {
   "cell_type": "code",
   "execution_count": 131,
   "metadata": {},
   "outputs": [
    {
     "data": {
      "image/png": "[encoded data removed]",
      "text/latex": [
       "$\\displaystyle 56$"
      ],
      "text/plain": [
       "56"
      ]
     },
     "execution_count": 131,
     "metadata": {},
     "output_type": "execute_result"
    }
   ],
   "source": [
    "64-8"
   ]
  },
  {
   "cell_type": "code",
   "execution_count": null,
   "metadata": {},
   "outputs": [],
   "source": []
  }
 ],
 "metadata": {
  "kernelspec": {
   "display_name": "newest",
   "language": "python",
   "name": "python3"
  },
  "language_info": {
   "codemirror_mode": {
    "name": "ipython",
    "version": 3
   },
   "file_extension": ".py",
   "mimetype": "text/x-python",
   "name": "python",
   "nbconvert_exporter": "python",
   "pygments_lexer": "ipython3",
   "version": "3.12.3"
  }
 },
 "nbformat": 4,
 "nbformat_minor": 2
}
