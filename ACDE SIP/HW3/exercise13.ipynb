{
 "cells": [
  {
   "cell_type": "code",
   "execution_count": 5,
   "id": "3bc6cfb0",
   "metadata": {},
   "outputs": [],
   "source": [
    "import numpy as np\n",
    "import pandas as pd\n",
    "from math import exp\n",
    "\n",
    "def r(t):\n",
    "    \"\"\"Instantaneous rate function r(t).\"\"\"\n",
    "    return 0.05 / (1 + 2 * np.exp(-(1 + t)**2))\n",
    "\n",
    "def simpsons_rule(f, a, b, n):\n",
    "    \"\"\"Approximate the integral of f from a to b using Simpson's Rule with n intervals (n must be even).\"\"\"\n",
    "    if n % 2 != 0:\n",
    "        raise ValueError(\"n must be even\")\n",
    "    h = (b - a) / n\n",
    "    x = np.linspace(a, b, n + 1)\n",
    "    fx = f(x)\n",
    "    return h / 3 * (fx[0] + 2 * sum(fx[2:n:2]) + 4 * sum(fx[1:n:2]) + fx[n])\n",
    "\n",
    "def discount_factors_convergence(t_values, n_values):\n",
    "    \"\"\"Compute discount factors at given t_values for each n in n_values.\"\"\"\n",
    "    data = {t: [] for t in t_values}\n",
    "    for n in n_values:\n",
    "        for t in t_values:\n",
    "            integral = simpsons_rule(r, 0, t, n)\n",
    "            discount = exp(-integral)\n",
    "            data[t].append(round(discount, 8))\n",
    "    df_conv = pd.DataFrame(data, index=n_values)\n",
    "    df_conv.index.name = \"n\"\n",
    "    return df_conv\n",
    "\n",
    "# Define time points and n values to test\n",
    "t_values = [0.5, 1.0, 1.5]\n",
    "n_values = [2**i for i in range(2, 8)]  # n = 4, 8, 16, ..., 128\n",
    "\n",
    "# Generate table\n",
    "df_convergence = discount_factors_convergence(t_values, n_values)\n"
   ]
  },
  {
   "cell_type": "code",
   "execution_count": 8,
   "id": "caa4f794",
   "metadata": {},
   "outputs": [
    {
     "name": "stdout",
     "output_type": "stream",
     "text": [
      "\\begin{tabular}{lrrr}\n",
      "\\toprule\n",
      " & 0.500000 & 1.000000 & 1.500000 \\\\\n",
      "n &  &  &  \\\\\n",
      "\\midrule\n",
      "4 & 0.982569 & 0.960514 & 0.937138 \\\\\n",
      "8 & 0.982569 & 0.960516 & 0.937148 \\\\\n",
      "16 & 0.982569 & 0.960516 & 0.937148 \\\\\n",
      "32 & 0.982569 & 0.960516 & 0.937148 \\\\\n",
      "64 & 0.982569 & 0.960516 & 0.937148 \\\\\n",
      "128 & 0.982569 & 0.960516 & 0.937148 \\\\\n",
      "\\bottomrule\n",
      "\\end{tabular}\n",
      "\n"
     ]
    }
   ],
   "source": [
    "print(df_convergence.to_latex(float_format=\"%.6f\"))"
   ]
  },
  {
   "cell_type": "code",
   "execution_count": 1,
   "id": "6b812ce9",
   "metadata": {},
   "outputs": [
    {
     "data": {
      "text/html": [
       "<div>\n",
       "<style scoped>\n",
       "    .dataframe tbody tr th:only-of-type {\n",
       "        vertical-align: middle;\n",
       "    }\n",
       "\n",
       "    .dataframe tbody tr th {\n",
       "        vertical-align: top;\n",
       "    }\n",
       "\n",
       "    .dataframe thead th {\n",
       "        text-align: right;\n",
       "    }\n",
       "</style>\n",
       "<table border=\"1\" class=\"dataframe\">\n",
       "  <thead>\n",
       "    <tr style=\"text-align: right;\">\n",
       "      <th></th>\n",
       "      <th>n</th>\n",
       "      <th>D(0.5)</th>\n",
       "      <th>D(1.0)</th>\n",
       "      <th>D(1.5)</th>\n",
       "      <th>D(2.0)</th>\n",
       "    </tr>\n",
       "  </thead>\n",
       "  <tbody>\n",
       "    <tr>\n",
       "      <th>0</th>\n",
       "      <td>2</td>\n",
       "      <td>0.982568</td>\n",
       "      <td>0.960434</td>\n",
       "      <td>0.936715</td>\n",
       "      <td>0.913405</td>\n",
       "    </tr>\n",
       "    <tr>\n",
       "      <th>1</th>\n",
       "      <td>4</td>\n",
       "      <td>0.982569</td>\n",
       "      <td>0.960514</td>\n",
       "      <td>0.937138</td>\n",
       "      <td>0.913981</td>\n",
       "    </tr>\n",
       "    <tr>\n",
       "      <th>2</th>\n",
       "      <td>8</td>\n",
       "      <td>NaN</td>\n",
       "      <td>0.960516</td>\n",
       "      <td>0.937148</td>\n",
       "      <td>0.914040</td>\n",
       "    </tr>\n",
       "    <tr>\n",
       "      <th>3</th>\n",
       "      <td>16</td>\n",
       "      <td>NaN</td>\n",
       "      <td>0.960516</td>\n",
       "      <td>0.937148</td>\n",
       "      <td>0.914041</td>\n",
       "    </tr>\n",
       "    <tr>\n",
       "      <th>4</th>\n",
       "      <td>32</td>\n",
       "      <td>NaN</td>\n",
       "      <td>NaN</td>\n",
       "      <td>NaN</td>\n",
       "      <td>0.914041</td>\n",
       "    </tr>\n",
       "  </tbody>\n",
       "</table>\n",
       "</div>"
      ],
      "text/plain": [
       "    n    D(0.5)    D(1.0)    D(1.5)    D(2.0)\n",
       "0   2  0.982568  0.960434  0.936715  0.913405\n",
       "1   4  0.982569  0.960514  0.937138  0.913981\n",
       "2   8       NaN  0.960516  0.937148  0.914040\n",
       "3  16       NaN  0.960516  0.937148  0.914041\n",
       "4  32       NaN       NaN       NaN  0.914041"
      ]
     },
     "execution_count": 1,
     "metadata": {},
     "output_type": "execute_result"
    }
   ],
   "source": [
    "import numpy as np\n",
    "import pandas as pd\n",
    "\n",
    "# Define the instantaneous rate function r(t)\n",
    "def r(t):\n",
    "    return 0.05 / (1 + 2 * np.exp(-(1 + t)**2))\n",
    "\n",
    "# Simpson's Rule\n",
    "def simpson(f, a, b, n):\n",
    "    h = (b - a) / n\n",
    "    x = np.linspace(a, b, n + 1)\n",
    "    fx = f(x)\n",
    "    return h / 3 * (fx[0] + 2 * np.sum(fx[2:n:2]) + 4 * np.sum(fx[1:n:2]) + fx[n])\n",
    "\n",
    "# Compute discount factor with adaptive Simpson's rule\n",
    "def compute_discount_factor(t, tol=1e-6):\n",
    "    n = 2\n",
    "    I_old = simpson(r, 0, t, n)\n",
    "    disc = np.exp(-I_old)\n",
    "    logs = [(n, disc)]\n",
    "\n",
    "    while True:\n",
    "        n *= 2\n",
    "        I_new = simpson(r, 0, t, n)\n",
    "        disc_new = np.exp(-I_new)\n",
    "        logs.append((n, disc_new))\n",
    "        if abs(disc_new - disc) < tol:\n",
    "            break\n",
    "        disc = disc_new\n",
    "\n",
    "    return pd.DataFrame(logs, columns=[\"n\", f\"D({t})\"])\n",
    "\n",
    "# Times to evaluate (in years)\n",
    "times = [0.5, 1.0, 1.5, 2.0]\n",
    "df_list = [compute_discount_factor(t) for t in times]\n",
    "\n",
    "# Merge into one DataFrame\n",
    "merged = df_list[0]\n",
    "for df in df_list[1:]:\n",
    "    merged = pd.merge(merged, df, on=\"n\", how=\"outer\")\n",
    "\n",
    "merged = merged.sort_values(\"n\").reset_index(drop=True)\n",
    "\n",
    "# Format output for 6 decimals (except 2y with 8)\n",
    "for col in merged.columns[1:]:\n",
    "    precision = 8 if col == \"D(2.0)\" else 6\n",
    "\n",
    "merged\n"
   ]
  },
  {
   "cell_type": "code",
   "execution_count": 16,
   "id": "0e9261b3",
   "metadata": {},
   "outputs": [],
   "source": [
    "# evaluate 2.5*D(0.5) + 2.5*D(1) + 2.5*D(1.5) + 102.5*D(2.0) with the highest percision from the table\n",
    "result = 2.5 * merged[\"D(0.5)\"].dropna().iloc[-1] + 2.5 * merged[\"D(1.0)\"].dropna().iloc[-1] + \\\n",
    "         2.5 * merged[\"D(1.5)\"].dropna().iloc[-1] + 2.5 * merged[\"D(2.0)\"].dropna().iloc[-1]"
   ]
  },
  {
   "cell_type": "code",
   "execution_count": null,
   "id": "23ddc860",
   "metadata": {},
   "outputs": [
    {
     "data": {
      "text/plain": [
       "9.485686430258085"
      ]
     },
     "execution_count": 17,
     "metadata": {},
     "output_type": "execute_result"
    }
   ],
   "source": [
    "result"
   ]
  },
  {
   "cell_type": "code",
   "execution_count": 18,
   "id": "5cec8cbb",
   "metadata": {},
   "outputs": [
    {
     "data": {
      "text/plain": [
       "91.40413111643645"
      ]
     },
     "execution_count": 18,
     "metadata": {},
     "output_type": "execute_result"
    }
   ],
   "source": [
    "100 * merged[\"D(2.0)\"].dropna().iloc[-1]"
   ]
  },
  {
   "cell_type": "code",
   "execution_count": 19,
   "id": "7428aada",
   "metadata": {},
   "outputs": [
    {
     "data": {
      "text/plain": [
       "100.88981754669454"
      ]
     },
     "execution_count": 19,
     "metadata": {},
     "output_type": "execute_result"
    }
   ],
   "source": [
    "2.5 * merged[\"D(0.5)\"].dropna().iloc[-1] + 2.5 * merged[\"D(1.0)\"].dropna().iloc[-1] + \\\n",
    "         2.5 * merged[\"D(1.5)\"].dropna().iloc[-1] + 102.5 * merged[\"D(2.0)\"].dropna().iloc[-1]"
   ]
  },
  {
   "cell_type": "code",
   "execution_count": 6,
   "id": "812d13f3",
   "metadata": {},
   "outputs": [
    {
     "name": "stdout",
     "output_type": "stream",
     "text": [
      "\\begin{tabular}{rrrrr}\n",
      "\\toprule\n",
      "n & D(0.5) & D(1.0) & D(1.5) & D(2.0) \\\\\n",
      "\\midrule\n",
      "2 & 0.98256846 & 0.96043413 & 0.93671482 & 0.91340548 \\\\\n",
      "4 & 0.98256855 & 0.96051378 & 0.93713849 & 0.91398132 \\\\\n",
      "8 & NaN & 0.96051612 & 0.93714794 & 0.91403997 \\\\\n",
      "16 & NaN & 0.96051626 & 0.93714845 & 0.91404123 \\\\\n",
      "32 & NaN & NaN & NaN & 0.91404131 \\\\\n",
      "\\bottomrule\n",
      "\\end{tabular}\n",
      "\n"
     ]
    }
   ],
   "source": [
    "print(merged.to_latex(float_format=\"%.8f\", index=False))"
   ]
  },
  {
   "cell_type": "code",
   "execution_count": 10,
   "id": "cce3957c",
   "metadata": {},
   "outputs": [],
   "source": [
    "import numpy as np\n",
    "import pandas as pd\n",
    "\n",
    "# Updated Simpson's rule (user's version)\n",
    "def simpson(f, a, b, n):\n",
    "    h = (b - a) / n\n",
    "    x = np.linspace(a, b, n + 1)\n",
    "    fx = f(x)\n",
    "    return h / 3 * (fx[0] + 2 * np.sum(fx[2:n:2]) + 4 * np.sum(fx[1:n:2]) + fx[n])\n",
    "\n",
    "# Adaptive Simpson's rule with tolerance checked on N(t), not the integral\n",
    "def adaptive_simpson_on_N(f, a, b, tol):\n",
    "    results = []\n",
    "    n = 4\n",
    "    prev_integral = simpson(f, a, b, n)\n",
    "    prev_N = 0.5 + prev_integral / np.sqrt(2 * np.pi)\n",
    "    results.append((n, prev_N))\n",
    "    while True:\n",
    "        n *= 2\n",
    "        curr_integral = simpson(f, a, b, n)\n",
    "        curr_N = 0.5 + curr_integral / np.sqrt(2 * np.pi)\n",
    "        results.append((n, curr_N))\n",
    "        if abs(curr_N - prev_N) < tol:\n",
    "            break\n",
    "        prev_N = curr_N\n",
    "    return results\n",
    "\n",
    "def compute_N_t(t, tol=1e-12):\n",
    "    f = lambda x: np.exp(-x**2 / 2)\n",
    "    if t == 0:\n",
    "        return [(4, 0.5)]\n",
    "    elif t > 0:\n",
    "        return adaptive_simpson_on_N(f, 0, t, tol)\n",
    "    else:\n",
    "        return adaptive_simpson_on_N(f, t, 0, tol)\n",
    "\n",
    "# Compute for t = 0.1, 0.5, 1.0 with correct tolerance checking\n",
    "results_01 = compute_N_t(0.1)\n",
    "results_05 = compute_N_t(0.5)\n",
    "results_10 = compute_N_t(1.0)\n",
    "\n",
    "# Combine results into a DataFrame with NaN fill for unequal lengths\n",
    "df = pd.DataFrame({\n",
    "    \"n_0.1\": pd.Series([v for _, v in results_01], index=[n for n, _ in results_01]),\n",
    "    \"n_0.5\": pd.Series([v for _, v in results_05], index=[n for n, _ in results_05]),\n",
    "    \"n_1.0\": pd.Series([v for _, v in results_10], index=[n for n, _ in results_10]),\n",
    "})\n"
   ]
  },
  {
   "cell_type": "code",
   "execution_count": 11,
   "id": "213a6174",
   "metadata": {},
   "outputs": [
    {
     "data": {
      "text/html": [
       "<div>\n",
       "<style scoped>\n",
       "    .dataframe tbody tr th:only-of-type {\n",
       "        vertical-align: middle;\n",
       "    }\n",
       "\n",
       "    .dataframe tbody tr th {\n",
       "        vertical-align: top;\n",
       "    }\n",
       "\n",
       "    .dataframe thead th {\n",
       "        text-align: right;\n",
       "    }\n",
       "</style>\n",
       "<table border=\"1\" class=\"dataframe\">\n",
       "  <thead>\n",
       "    <tr style=\"text-align: right;\">\n",
       "      <th></th>\n",
       "      <th>n_0.1</th>\n",
       "      <th>n_0.5</th>\n",
       "      <th>n_1.0</th>\n",
       "    </tr>\n",
       "  </thead>\n",
       "  <tbody>\n",
       "    <tr>\n",
       "      <th>4</th>\n",
       "      <td>0.539828</td>\n",
       "      <td>0.691463</td>\n",
       "      <td>0.841355</td>\n",
       "    </tr>\n",
       "    <tr>\n",
       "      <th>8</th>\n",
       "      <td>0.539828</td>\n",
       "      <td>0.691463</td>\n",
       "      <td>0.841345</td>\n",
       "    </tr>\n",
       "    <tr>\n",
       "      <th>16</th>\n",
       "      <td>0.539828</td>\n",
       "      <td>0.691462</td>\n",
       "      <td>0.841345</td>\n",
       "    </tr>\n",
       "    <tr>\n",
       "      <th>32</th>\n",
       "      <td>0.539828</td>\n",
       "      <td>0.691462</td>\n",
       "      <td>0.841345</td>\n",
       "    </tr>\n",
       "    <tr>\n",
       "      <th>64</th>\n",
       "      <td>NaN</td>\n",
       "      <td>0.691462</td>\n",
       "      <td>0.841345</td>\n",
       "    </tr>\n",
       "    <tr>\n",
       "      <th>128</th>\n",
       "      <td>NaN</td>\n",
       "      <td>0.691462</td>\n",
       "      <td>0.841345</td>\n",
       "    </tr>\n",
       "    <tr>\n",
       "      <th>256</th>\n",
       "      <td>NaN</td>\n",
       "      <td>0.691462</td>\n",
       "      <td>0.841345</td>\n",
       "    </tr>\n",
       "    <tr>\n",
       "      <th>512</th>\n",
       "      <td>NaN</td>\n",
       "      <td>NaN</td>\n",
       "      <td>0.841345</td>\n",
       "    </tr>\n",
       "  </tbody>\n",
       "</table>\n",
       "</div>"
      ],
      "text/plain": [
       "        n_0.1     n_0.5     n_1.0\n",
       "4    0.539828  0.691463  0.841355\n",
       "8    0.539828  0.691463  0.841345\n",
       "16   0.539828  0.691462  0.841345\n",
       "32   0.539828  0.691462  0.841345\n",
       "64        NaN  0.691462  0.841345\n",
       "128       NaN  0.691462  0.841345\n",
       "256       NaN  0.691462  0.841345\n",
       "512       NaN       NaN  0.841345"
      ]
     },
     "execution_count": 11,
     "metadata": {},
     "output_type": "execute_result"
    }
   ],
   "source": [
    "df"
   ]
  },
  {
   "cell_type": "code",
   "execution_count": null,
   "id": "2a61b7db",
   "metadata": {},
   "outputs": [],
   "source": []
  }
 ],
 "metadata": {
  "kernelspec": {
   "display_name": "newest",
   "language": "python",
   "name": "python3"
  },
  "language_info": {
   "codemirror_mode": {
    "name": "ipython",
    "version": 3
   },
   "file_extension": ".py",
   "mimetype": "text/x-python",
   "name": "python",
   "nbconvert_exporter": "python",
   "pygments_lexer": "ipython3",
   "version": "3.12.3"
  }
 },
 "nbformat": 4,
 "nbformat_minor": 5
}
