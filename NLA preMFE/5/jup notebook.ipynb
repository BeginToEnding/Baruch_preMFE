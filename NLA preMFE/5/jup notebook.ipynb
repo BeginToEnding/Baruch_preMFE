{
 "cells": [
  {
   "cell_type": "code",
   "execution_count": 14,
   "metadata": {},
   "outputs": [],
   "source": [
    "import pandas as pd\n",
    "import numpy as np\n",
    "from scipy import linalg\n",
    "import sympy"
   ]
  },
  {
   "cell_type": "code",
   "execution_count": 23,
   "metadata": {},
   "outputs": [
    {
     "name": "stdout",
     "output_type": "stream",
     "text": [
      "{3/2 - sqrt(5)/2: 1, sqrt(5)/2 + 3/2: 1}\n",
      "{3/2 - sqrt(5)/2: 1, sqrt(5)/2 + 3/2: 1}\n",
      "[[3 2]\n",
      " [4 3]]\n"
     ]
    }
   ],
   "source": [
    "A = np.mat([[1,1],[1,2]])\n",
    "B = np.mat([[2,1],[1,1]])\n",
    "print(sympy.Matrix(A).eigenvals())\n",
    "print(sympy.Matrix(B).eigenvals())\n",
    "print(A@B)\n"
   ]
  },
  {
   "cell_type": "code",
   "execution_count": 12,
   "metadata": {},
   "outputs": [
    {
     "data": {
      "text/plain": [
       "(array([0.38196601+0.j, 2.61803399+0.j]),\n",
       " array([[-0.85065081, -0.52573111],\n",
       "        [ 0.52573111, -0.85065081]]))"
      ]
     },
     "execution_count": 12,
     "metadata": {},
     "output_type": "execute_result"
    }
   ],
   "source": [
    "linalg.eig(A)"
   ]
  },
  {
   "cell_type": "code",
   "execution_count": 13,
   "metadata": {},
   "outputs": [
    {
     "data": {
      "text/plain": [
       "(array([2.61803399+0.j, 0.38196601+0.j]),\n",
       " array([[ 0.85065081, -0.52573111],\n",
       "        [ 0.52573111,  0.85065081]]))"
      ]
     },
     "execution_count": 13,
     "metadata": {},
     "output_type": "execute_result"
    }
   ],
   "source": [
    "linalg.eig(B)\n"
   ]
  },
  {
   "cell_type": "code",
   "execution_count": null,
   "metadata": {},
   "outputs": [
    {
     "data": {
      "text/plain": [
       "{3/2 - sqrt(5)/2: 1, sqrt(5)/2 + 3/2: 1}"
      ]
     },
     "execution_count": 18,
     "metadata": {},
     "output_type": "execute_result"
    }
   ],
   "source": []
  },
  {
   "cell_type": "code",
   "execution_count": 19,
   "metadata": {},
   "outputs": [
    {
     "data": {
      "text/plain": [
       "{3/2 - sqrt(5)/2: 1, sqrt(5)/2 + 3/2: 1}"
      ]
     },
     "execution_count": 19,
     "metadata": {},
     "output_type": "execute_result"
    }
   ],
   "source": [
    "sympy.Matrix(B).eigenvals()"
   ]
  },
  {
   "cell_type": "code",
   "execution_count": 20,
   "metadata": {},
   "outputs": [
    {
     "data": {
      "text/plain": [
       "{3 - 2*sqrt(2): 1, 2*sqrt(2) + 3: 1}"
      ]
     },
     "execution_count": 20,
     "metadata": {},
     "output_type": "execute_result"
    }
   ],
   "source": [
    "sympy.Matrix(A@B).eigenvals()"
   ]
  },
  {
   "cell_type": "code",
   "execution_count": 21,
   "metadata": {},
   "outputs": [
    {
     "data": {
      "text/plain": [
       "matrix([[3, 2],\n",
       "        [4, 3]])"
      ]
     },
     "execution_count": 21,
     "metadata": {},
     "output_type": "execute_result"
    }
   ],
   "source": [
    "A@B"
   ]
  },
  {
   "cell_type": "code",
   "execution_count": 39,
   "metadata": {},
   "outputs": [
    {
     "data": {
      "text/latex": [
       "$\\displaystyle \\left[\\begin{matrix}- 0.00296474288166308 \\sqrt{11329} \\left(\\sqrt{11329} + 177\\right)^{0.5} + 0.00296474288166308 \\sqrt{11329} \\left(177 - \\sqrt{11329}\\right)^{0.5} + 0.353553390593274 \\left(177 - \\sqrt{11329}\\right)^{0.5} + 0.353553390593274 \\left(\\sqrt{11329} + 177\\right)^{0.5} & - 0.00149797535073503 \\sqrt{11329} \\left(177 - \\sqrt{11329}\\right)^{0.5} + 0.00149797535073503 \\sqrt{11329} \\left(\\sqrt{11329} + 177\\right)^{0.5}\\\\- 0.00149797535073503 \\sqrt{11329} \\left(177 - \\sqrt{11329}\\right)^{0.5} + 1.42720405138895 \\cdot 10^{-16} \\left(177 - \\sqrt{11329}\\right)^{0.5} + 0.00149797535073503 \\sqrt{11329} \\left(\\sqrt{11329} + 177\\right)^{0.5} & - 0.00296474288166307 \\sqrt{11329} \\left(177 - \\sqrt{11329}\\right)^{0.5} + 0.353553390593274 \\left(177 - \\sqrt{11329}\\right)^{0.5} + 0.00296474288166308 \\sqrt{11329} \\left(\\sqrt{11329} + 177\\right)^{0.5} + 0.353553390593274 \\left(\\sqrt{11329} + 177\\right)^{0.5}\\end{matrix}\\right]$"
      ],
      "text/plain": [
       "Matrix([\n",
       "[-0.00296474288166308*sqrt(11329)*(sqrt(11329) + 177)**0.5 + 0.00296474288166308*sqrt(11329)*(177 - sqrt(11329))**0.5 + 0.353553390593274*(177 - sqrt(11329))**0.5 + 0.353553390593274*(sqrt(11329) + 177)**0.5,                                                                                           -0.00149797535073503*sqrt(11329)*(177 - sqrt(11329))**0.5 + 0.00149797535073503*sqrt(11329)*(sqrt(11329) + 177)**0.5],\n",
       "[                                          -0.00149797535073503*sqrt(11329)*(177 - sqrt(11329))**0.5 + 1.42720405138895e-16*(177 - sqrt(11329))**0.5 + 0.00149797535073503*sqrt(11329)*(sqrt(11329) + 177)**0.5, -0.00296474288166307*sqrt(11329)*(177 - sqrt(11329))**0.5 + 0.353553390593274*(177 - sqrt(11329))**0.5 + 0.00296474288166308*sqrt(11329)*(sqrt(11329) + 177)**0.5 + 0.353553390593274*(sqrt(11329) + 177)**0.5]])"
      ]
     },
     "execution_count": 39,
     "metadata": {},
     "output_type": "execute_result"
    }
   ],
   "source": [
    "import sympy as sp\n",
    "\n",
    "# Define matrix A\n",
    "A = sp.Matrix([[41, 24], [24, 136]])\n",
    "\n",
    "# (i) Check if A is symmetric and positive definite\n",
    "is_symmetric = A == A.T\n",
    "eigenvalues = A.eigenvals()\n",
    "is_positive_definite = all(ev > 0 for ev in eigenvalues)\n",
    "\n",
    "# (ii) Find matrix B such that A = B^2\n",
    "B = A.pow(0.5)\n",
    "\n",
    "# (iii) Find matrix U (upper triangular) such that A = U^T * U\n",
    "U = A.cholesky()\n",
    "\n",
    "# is_symmetric, is_positive_definite, B, U\n",
    "B.simplify()\n",
    "B\n"
   ]
  },
  {
   "cell_type": "code",
   "execution_count": null,
   "metadata": {},
   "outputs": [
    {
     "data": {
      "text/latex": [
       "$\\displaystyle \\left[\\begin{matrix}- 0.00296474288166308 \\sqrt{11329} \\left(\\sqrt{11329} + 177\\right)^{0.5} + 0.00296474288166308 \\sqrt{11329} \\left(177 - \\sqrt{11329}\\right)^{0.5} + 0.353553390593274 \\left(177 - \\sqrt{11329}\\right)^{0.5} + 0.353553390593274 \\left(\\sqrt{11329} + 177\\right)^{0.5} & - 0.00149797535073503 \\sqrt{11329} \\left(177 - \\sqrt{11329}\\right)^{0.5} + 0.00149797535073503 \\sqrt{11329} \\left(\\sqrt{11329} + 177\\right)^{0.5}\\\\- 0.00149797535073503 \\sqrt{11329} \\left(177 - \\sqrt{11329}\\right)^{0.5} + 1.42720405138895 \\cdot 10^{-16} \\left(177 - \\sqrt{11329}\\right)^{0.5} + 0.00149797535073503 \\sqrt{11329} \\left(\\sqrt{11329} + 177\\right)^{0.5} & - 0.00296474288166307 \\sqrt{11329} \\left(177 - \\sqrt{11329}\\right)^{0.5} + 0.353553390593274 \\left(177 - \\sqrt{11329}\\right)^{0.5} + 0.00296474288166308 \\sqrt{11329} \\left(\\sqrt{11329} + 177\\right)^{0.5} + 0.353553390593274 \\left(\\sqrt{11329} + 177\\right)^{0.5}\\end{matrix}\\right]$"
      ],
      "text/plain": [
       "Matrix([\n",
       "[-0.00296474288166308*sqrt(11329)*(sqrt(11329) + 177)**0.5 + 0.00296474288166308*sqrt(11329)*(177 - sqrt(11329))**0.5 + 0.353553390593274*(177 - sqrt(11329))**0.5 + 0.353553390593274*(sqrt(11329) + 177)**0.5,                                                                                           -0.00149797535073503*sqrt(11329)*(177 - sqrt(11329))**0.5 + 0.00149797535073503*sqrt(11329)*(sqrt(11329) + 177)**0.5],\n",
       "[                                          -0.00149797535073503*sqrt(11329)*(177 - sqrt(11329))**0.5 + 1.42720405138895e-16*(177 - sqrt(11329))**0.5 + 0.00149797535073503*sqrt(11329)*(sqrt(11329) + 177)**0.5, -0.00296474288166307*sqrt(11329)*(177 - sqrt(11329))**0.5 + 0.353553390593274*(177 - sqrt(11329))**0.5 + 0.00296474288166308*sqrt(11329)*(sqrt(11329) + 177)**0.5 + 0.353553390593274*(sqrt(11329) + 177)**0.5]])"
      ]
     },
     "execution_count": 38,
     "metadata": {},
     "output_type": "execute_result"
    }
   ],
   "source": []
  },
  {
   "cell_type": "code",
   "execution_count": 30,
   "metadata": {},
   "outputs": [
    {
     "data": {
      "text/plain": [
       "(Matrix([\n",
       " [-sqrt(11329)/48 - 95/48, -95/48 + sqrt(11329)/48],\n",
       " [                      1,                       1]]),\n",
       " Matrix([\n",
       " [177/2 - sqrt(11329)/2,                     0],\n",
       " [                    0, sqrt(11329)/2 + 177/2]]),\n",
       " Matrix([\n",
       " [(-24*sqrt(11329) - 2280)/(95*sqrt(11329) + 11329), 1152/(95*sqrt(11329) + 11329)],\n",
       " [                             24*sqrt(11329)/11329,    95*sqrt(11329)/22658 + 1/2]]))"
      ]
     },
     "execution_count": 30,
     "metadata": {},
     "output_type": "execute_result"
    }
   ],
   "source": [
    "import sympy as sp\n",
    "\n",
    "# Define matrix A\n",
    "A = sp.Matrix([[41, 24], [24, 136]])\n",
    "\n",
    "# Calculate eigenvalues and eigenvectors\n",
    "eigenvalues, eigenvectors = A.diagonalize()\n",
    "\n",
    "# Eigenvalue decomposition\n",
    "P, D = A.diagonalize()\n",
    "\n",
    "P, D, P.inv()\n"
   ]
  },
  {
   "cell_type": "code",
   "execution_count": 31,
   "metadata": {},
   "outputs": [
    {
     "data": {
      "text/latex": [
       "$\\displaystyle \\left[\\begin{matrix}\\left(88.5 - \\frac{\\sqrt{11329}}{2}\\right)^{2} & 0\\\\0 & \\left(\\frac{\\sqrt{11329}}{2} + 88.5\\right)^{2}\\end{matrix}\\right]$"
      ],
      "text/plain": [
       "Matrix([\n",
       "[(88.5 - sqrt(11329)/2)**2,                         0],\n",
       "[                        0, (sqrt(11329)/2 + 88.5)**2]])"
      ]
     },
     "execution_count": 31,
     "metadata": {},
     "output_type": "execute_result"
    }
   ],
   "source": [
    "sp.Matrix([ [177/2 - sp.sqrt(11329)/2,                     0], [                    0, sp.sqrt(11329)/2 + 177/2]])@sp.Matrix([ [177/2 - sp.sqrt(11329)/2,                     0], [                    0, sp.sqrt(11329)/2 + 177/2]])"
   ]
  },
  {
   "cell_type": "code",
   "execution_count": null,
   "metadata": {},
   "outputs": [
    {
     "name": "stdout",
     "output_type": "stream",
     "text": [
      "[[ 6.2602777  1.3449624]\n",
      " [ 1.3449624 11.584087 ]]\n",
      "[[ 41.000004  24.      ]\n",
      " [ 24.       136.      ]]\n",
      "[[ 6.40312424  3.74817029]\n",
      " [ 0.         11.04315261]]\n",
      "[[ 41.  24.]\n",
      " [ 24. 136.]]\n"
     ]
    }
   ],
   "source": [
    "import numpy as np\n",
    "from scipy import linalg\n",
    "\n",
    "A = np.array([[41, 24],\n",
    "              [24, 136]])\n",
    "\n",
    "B = linalg.sqrtm(A)\n",
    "\n",
    "print(B)\n",
    "print(B@B)\n",
    "\n",
    "U = linalg.cholesky(A)\n",
    "print(U)\n",
    "print(U.transpose()@U)"
   ]
  }
 ],
 "metadata": {
  "kernelspec": {
   "display_name": "newest",
   "language": "python",
   "name": "python3"
  },
  "language_info": {
   "codemirror_mode": {
    "name": "ipython",
    "version": 3
   },
   "file_extension": ".py",
   "mimetype": "text/x-python",
   "name": "python",
   "nbconvert_exporter": "python",
   "pygments_lexer": "ipython3",
   "version": "3.12.3"
  }
 },
 "nbformat": 4,
 "nbformat_minor": 2
}
