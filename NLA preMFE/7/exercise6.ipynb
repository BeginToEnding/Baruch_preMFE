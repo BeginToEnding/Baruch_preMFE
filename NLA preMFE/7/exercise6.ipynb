{
 "cells": [
  {
   "cell_type": "code",
   "execution_count": 89,
   "metadata": {},
   "outputs": [
    {
     "data": {
      "text/plain": [
       "(array([0.43307087, 0.56692913]),\n",
       " array([[0.0225 , 0.01125],\n",
       "        [0.01125, 0.0625 ]]))"
      ]
     },
     "execution_count": 89,
     "metadata": {},
     "output_type": "execute_result"
    }
   ],
   "source": [
    "import numpy as np\n",
    "import sympy as sp\n",
    "\n",
    "# Define the given values\n",
    "expected_returns = np.array([0.06, 0.12])  # Expected returns for asset 1 and 2\n",
    "std_devs = np.array([0.15, 0.25])          # Standard deviations for asset 1 and 2\n",
    "correlation = 0.30                         # Correlation between the two assets\n",
    "risk_free_rate = 0.02                      # Risk-free interest rate\n",
    "\n",
    "# Calculate the covariance matrix\n",
    "cov_matrix = np.array([\n",
    "    [std_devs[0]**2, correlation * std_devs[0] * std_devs[1]],\n",
    "    [correlation * std_devs[0] * std_devs[1], std_devs[1]**2]\n",
    "])\n",
    "\n",
    "# Compute E(R) - rf * 1\n",
    "excess_returns = expected_returns - risk_free_rate\n",
    "\n",
    "# Calculate the inverse of the covariance matrix\n",
    "inv_cov_matrix = np.linalg.inv(cov_matrix)\n",
    "\n",
    "# Calculate weights for the tangency portfolio\n",
    "ones = np.ones(len(expected_returns))\n",
    "weights = np.dot(inv_cov_matrix, excess_returns) / np.dot(ones, np.dot(inv_cov_matrix, excess_returns))\n",
    "\n",
    "weights, cov_matrix\n"
   ]
  },
  {
   "cell_type": "code",
   "execution_count": 90,
   "metadata": {},
   "outputs": [
    {
     "data": {
      "text/latex": [
       "$\\displaystyle \\left[\\begin{matrix}8.66\\\\11.34\\end{matrix}\\right]$"
      ],
      "text/plain": [
       "Matrix([\n",
       "[ 8.66],\n",
       "[11.34]])"
      ]
     },
     "execution_count": 90,
     "metadata": {},
     "output_type": "execute_result"
    }
   ],
   "source": [
    "sp.Matrix((weights*20).round(2))"
   ]
  },
  {
   "cell_type": "code",
   "execution_count": 91,
   "metadata": {},
   "outputs": [
    {
     "data": {
      "text/latex": [
       "$\\displaystyle \\left[\\begin{matrix}48.84 & -8.791\\\\-8.791 & 17.582\\end{matrix}\\right]$"
      ],
      "text/plain": [
       "Matrix([\n",
       "[ 48.84, -8.791],\n",
       "[-8.791, 17.582]])"
      ]
     },
     "execution_count": 91,
     "metadata": {},
     "output_type": "execute_result"
    }
   ],
   "source": [
    "sp.Matrix(inv_cov_matrix.round(3))"
   ]
  },
  {
   "cell_type": "code",
   "execution_count": 92,
   "metadata": {},
   "outputs": [
    {
     "data": {
      "text/latex": [
       "$\\displaystyle \\left[\\begin{matrix}0.04\\\\0.1\\end{matrix}\\right]$"
      ],
      "text/plain": [
       "Matrix([\n",
       "[0.04],\n",
       "[ 0.1]])"
      ]
     },
     "execution_count": 92,
     "metadata": {},
     "output_type": "execute_result"
    }
   ],
   "source": [
    "sp.Matrix(excess_returns.round(3))"
   ]
  },
  {
   "cell_type": "code",
   "execution_count": 93,
   "metadata": {},
   "outputs": [
    {
     "data": {
      "text/latex": [
       "$\\displaystyle \\left[\\begin{matrix}0.022 & 0.011\\\\0.011 & 0.062\\end{matrix}\\right]$"
      ],
      "text/plain": [
       "Matrix([\n",
       "[0.022, 0.011],\n",
       "[0.011, 0.062]])"
      ]
     },
     "execution_count": 93,
     "metadata": {},
     "output_type": "execute_result"
    }
   ],
   "source": [
    "sp.Matrix(cov_matrix.round(3))"
   ]
  },
  {
   "cell_type": "markdown",
   "metadata": {},
   "source": [
    "# ii"
   ]
  },
  {
   "cell_type": "code",
   "execution_count": 94,
   "metadata": {},
   "outputs": [
    {
     "data": {
      "text/plain": [
       "(array([0.35106383, 0.45957447]), 0.18936170212765946, 0.8106382978723405)"
      ]
     },
     "execution_count": 94,
     "metadata": {},
     "output_type": "execute_result"
    }
   ],
   "source": [
    "# Constants and previous results\n",
    "target_expected_return = 0.08\n",
    "\n",
    "# Tangency portfolio weights from previous calculations\n",
    "weights_tangency = weights\n",
    "\n",
    "# Calculate scaling factor k\n",
    "k = (target_expected_return - risk_free_rate) / (weights_tangency.dot(excess_returns))\n",
    "\n",
    "# Calculate new scaled weights\n",
    "new_weights = k * weights_tangency\n",
    "\n",
    "# Calculate cash allocation\n",
    "cash_allocation = 1 - np.sum(new_weights)\n",
    "\n",
    "# Display the results\n",
    "new_weights, cash_allocation, k"
   ]
  },
  {
   "cell_type": "code",
   "execution_count": 95,
   "metadata": {},
   "outputs": [
    {
     "data": {
      "text/latex": [
       "$\\displaystyle \\left[\\begin{matrix}7.02\\\\9.19\\end{matrix}\\right]$"
      ],
      "text/plain": [
       "Matrix([\n",
       "[7.02],\n",
       "[9.19]])"
      ]
     },
     "execution_count": 95,
     "metadata": {},
     "output_type": "execute_result"
    }
   ],
   "source": [
    "sp.Matrix((new_weights*20).round(2))"
   ]
  },
  {
   "cell_type": "code",
   "execution_count": 96,
   "metadata": {},
   "outputs": [
    {
     "data": {
      "text/plain": [
       "3.787234042553189"
      ]
     },
     "execution_count": 96,
     "metadata": {},
     "output_type": "execute_result"
    }
   ],
   "source": [
    "cash_allocation*20"
   ]
  },
  {
   "cell_type": "code",
   "execution_count": 97,
   "metadata": {},
   "outputs": [
    {
     "data": {
      "text/plain": [
       "0.1400132972408525"
      ]
     },
     "execution_count": 97,
     "metadata": {},
     "output_type": "execute_result"
    }
   ],
   "source": [
    "# Given covariance matrix from previous discussions\n",
    "Sigma = np.array([[0.0225, 0.01125], [0.01125, 0.0625]])\n",
    "\n",
    "# Calculate the portfolio standard deviation\n",
    "portfolio_std_dev = np.sqrt(new_weights.T @ Sigma @ new_weights)\n",
    "portfolio_std_dev\n"
   ]
  },
  {
   "cell_type": "code",
   "execution_count": 98,
   "metadata": {},
   "outputs": [
    {
     "data": {
      "text/plain": [
       "0.07999999999999999"
      ]
     },
     "execution_count": 98,
     "metadata": {},
     "output_type": "execute_result"
    }
   ],
   "source": [
    "# Calculate the actual expected return using the new weights\n",
    "actual_expected_return = new_weights.dot(expected_returns) + cash_allocation * risk_free_rate\n",
    "actual_expected_return\n"
   ]
  },
  {
   "cell_type": "markdown",
   "metadata": {},
   "source": [
    "# iii"
   ]
  },
  {
   "cell_type": "code",
   "execution_count": 99,
   "metadata": {},
   "outputs": [
    {
     "data": {
      "text/plain": [
       "(array([0.7606383 , 0.99574468]), -0.7563829787234044, 1.7563829787234047)"
      ]
     },
     "execution_count": 99,
     "metadata": {},
     "output_type": "execute_result"
    }
   ],
   "source": [
    "# Constants and previous results\n",
    "target_expected_return = 0.15\n",
    "\n",
    "# Calculate scaling factor k\n",
    "k = (target_expected_return - risk_free_rate) / (weights_tangency.dot(excess_returns))\n",
    "\n",
    "# Calculate new scaled weights\n",
    "new_weights = k * weights_tangency\n",
    "\n",
    "# Calculate cash allocation\n",
    "cash_allocation = 1 - np.sum(new_weights)\n",
    "\n",
    "# Display the results\n",
    "new_weights, cash_allocation, k"
   ]
  },
  {
   "cell_type": "code",
   "execution_count": 100,
   "metadata": {},
   "outputs": [
    {
     "data": {
      "text/latex": [
       "$\\displaystyle \\left[\\begin{matrix}15.21\\\\19.91\\end{matrix}\\right]$"
      ],
      "text/plain": [
       "Matrix([\n",
       "[15.21],\n",
       "[19.91]])"
      ]
     },
     "execution_count": 100,
     "metadata": {},
     "output_type": "execute_result"
    }
   ],
   "source": [
    "sp.Matrix((new_weights*20).round(2))"
   ]
  },
  {
   "cell_type": "code",
   "execution_count": 101,
   "metadata": {},
   "outputs": [
    {
     "data": {
      "text/plain": [
       "-15.127659574468089"
      ]
     },
     "execution_count": 101,
     "metadata": {},
     "output_type": "execute_result"
    }
   ],
   "source": [
    "cash_allocation*20"
   ]
  },
  {
   "cell_type": "code",
   "execution_count": 102,
   "metadata": {},
   "outputs": [
    {
     "data": {
      "text/plain": [
       "-0.7563829787234044"
      ]
     },
     "execution_count": 102,
     "metadata": {},
     "output_type": "execute_result"
    }
   ],
   "source": [
    "cash_allocation"
   ]
  },
  {
   "cell_type": "code",
   "execution_count": 103,
   "metadata": {},
   "outputs": [
    {
     "data": {
      "text/plain": [
       "0.3033621440218472"
      ]
     },
     "execution_count": 103,
     "metadata": {},
     "output_type": "execute_result"
    }
   ],
   "source": [
    "# Calculate the portfolio standard deviation\n",
    "portfolio_std_dev = np.sqrt(new_weights.T @ Sigma @ new_weights)\n",
    "portfolio_std_dev\n"
   ]
  },
  {
   "cell_type": "markdown",
   "metadata": {},
   "source": [
    "# iv"
   ]
  },
  {
   "cell_type": "code",
   "execution_count": 104,
   "metadata": {},
   "outputs": [
    {
     "data": {
      "text/plain": [
       "(array([0.50147213, 0.6564726 ]), 0.10886503990595225, -0.1579447293179177)"
      ]
     },
     "execution_count": 104,
     "metadata": {},
     "output_type": "execute_result"
    }
   ],
   "source": [
    "# Calculate the current standard deviation of the tangency portfolio\n",
    "current_std_dev = np.sqrt(weights_tangency.T @ Sigma @ weights_tangency)\n",
    "\n",
    "# Desired standard deviation\n",
    "target_std_dev = 0.20\n",
    "\n",
    "# Scaling factor to achieve target standard deviation\n",
    "scaling_factor = target_std_dev / current_std_dev\n",
    "\n",
    "# Scale the weights to achieve the target standard deviation\n",
    "scaled_weights = scaling_factor * weights_tangency\n",
    "\n",
    "# Calculate the expected return of the scaled portfolio\n",
    "scaled_expected_return = scaled_weights.dot(expected_returns)\n",
    "wcash = 1-scaled_weights[0] - scaled_weights[1]\n",
    "scaled_weights, scaled_expected_return, wcash\n"
   ]
  },
  {
   "cell_type": "code",
   "execution_count": 105,
   "metadata": {},
   "outputs": [
    {
     "data": {
      "text/latex": [
       "$\\displaystyle \\left[\\begin{matrix}10.029\\\\13.129\\end{matrix}\\right]$"
      ],
      "text/plain": [
       "Matrix([\n",
       "[10.029],\n",
       "[13.129]])"
      ]
     },
     "execution_count": 105,
     "metadata": {},
     "output_type": "execute_result"
    }
   ],
   "source": [
    "sp.Matrix((scaled_weights*20).round(3))"
   ]
  },
  {
   "cell_type": "code",
   "execution_count": 106,
   "metadata": {},
   "outputs": [
    {
     "data": {
      "text/plain": [
       "-3.158894586358354"
      ]
     },
     "execution_count": 106,
     "metadata": {},
     "output_type": "execute_result"
    }
   ],
   "source": [
    "wcash*20"
   ]
  },
  {
   "cell_type": "code",
   "execution_count": 107,
   "metadata": {},
   "outputs": [
    {
     "data": {
      "text/plain": [
       "0.10886503990595225"
      ]
     },
     "execution_count": 107,
     "metadata": {},
     "output_type": "execute_result"
    }
   ],
   "source": [
    "scaled_expected_return"
   ]
  },
  {
   "cell_type": "code",
   "execution_count": 108,
   "metadata": {},
   "outputs": [
    {
     "name": "stdout",
     "output_type": "stream",
     "text": [
      "Scaled Weights: [0.50147213 0.6564726 ]\n",
      "Cash Weight (w_cash): -0.1579447293179177\n",
      "Net Expected Return: 0.1057061453195939\n",
      "Net Expected Return: 2.114122906391878\n"
     ]
    }
   ],
   "source": [
    "net_expected_return = np.dot(scaled_weights, expected_returns) + wcash * risk_free_rate\n",
    "\n",
    "# Print the results\n",
    "print(\"Scaled Weights:\", scaled_weights)\n",
    "print(\"Cash Weight (w_cash):\", wcash)\n",
    "print(\"Net Expected Return:\", net_expected_return)\n",
    "print(\"Net Expected Return:\", net_expected_return*20)"
   ]
  },
  {
   "cell_type": "markdown",
   "metadata": {},
   "source": [
    "# v"
   ]
  },
  {
   "cell_type": "code",
   "execution_count": 109,
   "metadata": {},
   "outputs": [
    {
     "data": {
      "text/plain": [
       "(array([0.75220819, 0.9847089 ]), 0.16329755985892835, -0.7369170939768762)"
      ]
     },
     "execution_count": 109,
     "metadata": {},
     "output_type": "execute_result"
    }
   ],
   "source": [
    "# Desired standard deviation\n",
    "target_std_dev = 0.30\n",
    "\n",
    "# Scaling factor to achieve target standard deviation\n",
    "scaling_factor = target_std_dev / current_std_dev\n",
    "\n",
    "# Scale the weights to achieve the target standard deviation\n",
    "scaled_weights = scaling_factor * weights_tangency\n",
    "\n",
    "# Calculate the expected return of the scaled portfolio\n",
    "scaled_expected_return = scaled_weights.dot(expected_returns)\n",
    "wcash = 1-scaled_weights[0] - scaled_weights[1]\n",
    "scaled_weights, scaled_expected_return, wcash"
   ]
  },
  {
   "cell_type": "code",
   "execution_count": 110,
   "metadata": {},
   "outputs": [
    {
     "data": {
      "text/latex": [
       "$\\displaystyle \\left[\\begin{matrix}0.752\\\\0.985\\end{matrix}\\right]$"
      ],
      "text/plain": [
       "Matrix([\n",
       "[0.752],\n",
       "[0.985]])"
      ]
     },
     "execution_count": 110,
     "metadata": {},
     "output_type": "execute_result"
    }
   ],
   "source": [
    "sp.Matrix((scaled_weights).round(3))"
   ]
  },
  {
   "cell_type": "code",
   "execution_count": 111,
   "metadata": {},
   "outputs": [
    {
     "data": {
      "text/latex": [
       "$\\displaystyle \\left[\\begin{matrix}15.044\\\\19.694\\end{matrix}\\right]$"
      ],
      "text/plain": [
       "Matrix([\n",
       "[15.044],\n",
       "[19.694]])"
      ]
     },
     "execution_count": 111,
     "metadata": {},
     "output_type": "execute_result"
    }
   ],
   "source": [
    "sp.Matrix((scaled_weights*20).round(3))"
   ]
  },
  {
   "cell_type": "code",
   "execution_count": 112,
   "metadata": {},
   "outputs": [
    {
     "name": "stdout",
     "output_type": "stream",
     "text": [
      "Scaled Weights: [0.75220819 0.9847089 ]\n",
      "Cash Weight (w_cash): -0.7369170939768762\n",
      "Net Expected Return: 0.14855921797939084\n",
      "Net Expected Return: 2.971184359587817\n"
     ]
    }
   ],
   "source": [
    "net_expected_return = np.dot(scaled_weights, expected_returns) + wcash * risk_free_rate\n",
    "\n",
    "# Print the results\n",
    "print(\"Scaled Weights:\", scaled_weights)\n",
    "print(\"Cash Weight (w_cash):\", wcash)\n",
    "print(\"Net Expected Return:\", net_expected_return)\n",
    "print(\"Net Expected Return:\", net_expected_return*20)"
   ]
  },
  {
   "cell_type": "code",
   "execution_count": 113,
   "metadata": {},
   "outputs": [
    {
     "data": {
      "text/plain": [
       "-14.738341879537524"
      ]
     },
     "execution_count": 113,
     "metadata": {},
     "output_type": "execute_result"
    }
   ],
   "source": [
    "wcash*20"
   ]
  },
  {
   "cell_type": "markdown",
   "metadata": {},
   "source": [
    "# vi"
   ]
  },
  {
   "cell_type": "code",
   "execution_count": 114,
   "metadata": {},
   "outputs": [],
   "source": [
    "# Define the given values\n",
    "risk_free_rate = 0.025                     # Risk-free interest rate\n",
    "\n",
    "# Compute E(R) - rf * 1\n",
    "excess_returns = expected_returns - risk_free_rate\n",
    "\n",
    "# Calculate weights for the tangency portfolio\n",
    "ones = np.ones(len(expected_returns))\n",
    "weights = np.dot(inv_cov_matrix, excess_returns) / np.dot(ones, np.dot(inv_cov_matrix, excess_returns))\n"
   ]
  },
  {
   "cell_type": "code",
   "execution_count": 115,
   "metadata": {},
   "outputs": [
    {
     "data": {
      "text/plain": [
       "(array([0.39082969, 0.60917031]),\n",
       " array([[0.0225 , 0.01125],\n",
       "        [0.01125, 0.0625 ]]))"
      ]
     },
     "execution_count": 115,
     "metadata": {},
     "output_type": "execute_result"
    }
   ],
   "source": [
    "weights, cov_matrix"
   ]
  },
  {
   "cell_type": "code",
   "execution_count": 118,
   "metadata": {},
   "outputs": [
    {
     "data": {
      "text/latex": [
       "$\\displaystyle \\left[\\begin{matrix}0.391\\\\0.609\\end{matrix}\\right]$"
      ],
      "text/plain": [
       "Matrix([\n",
       "[0.391],\n",
       "[0.609]])"
      ]
     },
     "execution_count": 118,
     "metadata": {},
     "output_type": "execute_result"
    }
   ],
   "source": [
    "sp.Matrix(weights.round(3))"
   ]
  },
  {
   "cell_type": "code",
   "execution_count": 119,
   "metadata": {},
   "outputs": [
    {
     "data": {
      "text/plain": [
       "(array([0.30042722, 0.46826366]), 0.23130912419896255, 0.7686908758010375)"
      ]
     },
     "execution_count": 119,
     "metadata": {},
     "output_type": "execute_result"
    }
   ],
   "source": [
    "# Constants and previous results\n",
    "target_expected_return = 0.08\n",
    "\n",
    "# Tangency portfolio weights from previous calculations\n",
    "weights_tangency = weights\n",
    "\n",
    "# Calculate scaling factor k\n",
    "k = (target_expected_return - risk_free_rate) / (weights_tangency.dot(excess_returns))\n",
    "\n",
    "# Calculate new scaled weights\n",
    "new_weights = k * weights_tangency\n",
    "\n",
    "# Calculate cash allocation\n",
    "cash_allocation = 1 - np.sum(new_weights)\n",
    "\n",
    "# Display the results\n",
    "new_weights, cash_allocation, k"
   ]
  },
  {
   "cell_type": "code",
   "execution_count": 120,
   "metadata": {},
   "outputs": [
    {
     "data": {
      "text/latex": [
       "$\\displaystyle \\left[\\begin{matrix}6.009\\\\9.365\\end{matrix}\\right]$"
      ],
      "text/plain": [
       "Matrix([\n",
       "[6.009],\n",
       "[9.365]])"
      ]
     },
     "execution_count": 120,
     "metadata": {},
     "output_type": "execute_result"
    }
   ],
   "source": [
    "sp.Matrix((new_weights*20).round(3))"
   ]
  },
  {
   "cell_type": "code",
   "execution_count": 121,
   "metadata": {},
   "outputs": [
    {
     "data": {
      "text/latex": [
       "$\\displaystyle \\left[\\begin{matrix}0.3\\\\0.468\\end{matrix}\\right]$"
      ],
      "text/plain": [
       "Matrix([\n",
       "[  0.3],\n",
       "[0.468]])"
      ]
     },
     "execution_count": 121,
     "metadata": {},
     "output_type": "execute_result"
    }
   ],
   "source": [
    "sp.Matrix((new_weights).round(3))"
   ]
  },
  {
   "cell_type": "code",
   "execution_count": 122,
   "metadata": {},
   "outputs": [
    {
     "data": {
      "text/plain": [
       "4.626182483979251"
      ]
     },
     "execution_count": 122,
     "metadata": {},
     "output_type": "execute_result"
    }
   ],
   "source": [
    "cash_allocation*20"
   ]
  },
  {
   "cell_type": "code",
   "execution_count": 123,
   "metadata": {},
   "outputs": [
    {
     "data": {
      "text/plain": [
       "(array([0.43705174, 0.68121472]), 0.10796887047735776, -0.11826645587132179)"
      ]
     },
     "execution_count": 123,
     "metadata": {},
     "output_type": "execute_result"
    }
   ],
   "source": [
    "# Calculate the current standard deviation of the tangency portfolio\n",
    "current_std_dev = np.sqrt(weights_tangency.T @ Sigma @ weights_tangency)\n",
    "\n",
    "# Desired standard deviation\n",
    "target_std_dev = 0.20\n",
    "\n",
    "# Scaling factor to achieve target standard deviation\n",
    "scaling_factor = target_std_dev / current_std_dev\n",
    "\n",
    "# Scale the weights to achieve the target standard deviation\n",
    "scaled_weights = scaling_factor * weights_tangency\n",
    "\n",
    "# Calculate the expected return of the scaled portfolio\n",
    "scaled_expected_return = scaled_weights.dot(expected_returns)\n",
    "wcash = 1-scaled_weights[0] - scaled_weights[1]\n",
    "scaled_weights, scaled_expected_return, wcash\n"
   ]
  },
  {
   "cell_type": "code",
   "execution_count": 124,
   "metadata": {},
   "outputs": [
    {
     "data": {
      "text/latex": [
       "$\\displaystyle \\left[\\begin{matrix}0.437\\\\0.681\\end{matrix}\\right]$"
      ],
      "text/plain": [
       "Matrix([\n",
       "[0.437],\n",
       "[0.681]])"
      ]
     },
     "execution_count": 124,
     "metadata": {},
     "output_type": "execute_result"
    }
   ],
   "source": [
    "sp.Matrix(scaled_weights.round(3))"
   ]
  },
  {
   "cell_type": "code",
   "execution_count": 125,
   "metadata": {},
   "outputs": [
    {
     "data": {
      "text/latex": [
       "$\\displaystyle \\left[\\begin{matrix}8.741\\\\13.624\\end{matrix}\\right]$"
      ],
      "text/plain": [
       "Matrix([\n",
       "[ 8.741],\n",
       "[13.624]])"
      ]
     },
     "execution_count": 125,
     "metadata": {},
     "output_type": "execute_result"
    }
   ],
   "source": [
    "sp.Matrix((scaled_weights*20).round(3))"
   ]
  },
  {
   "cell_type": "code",
   "execution_count": 126,
   "metadata": {},
   "outputs": [
    {
     "data": {
      "text/plain": [
       "-2.3653291174264357"
      ]
     },
     "execution_count": 126,
     "metadata": {},
     "output_type": "execute_result"
    }
   ],
   "source": [
    "wcash*20"
   ]
  },
  {
   "cell_type": "code",
   "execution_count": null,
   "metadata": {},
   "outputs": [],
   "source": []
  }
 ],
 "metadata": {
  "kernelspec": {
   "display_name": "newest",
   "language": "python",
   "name": "python3"
  },
  "language_info": {
   "codemirror_mode": {
    "name": "ipython",
    "version": 3
   },
   "file_extension": ".py",
   "mimetype": "text/x-python",
   "name": "python",
   "nbconvert_exporter": "python",
   "pygments_lexer": "ipython3",
   "version": "3.12.3"
  }
 },
 "nbformat": 4,
 "nbformat_minor": 2
}
