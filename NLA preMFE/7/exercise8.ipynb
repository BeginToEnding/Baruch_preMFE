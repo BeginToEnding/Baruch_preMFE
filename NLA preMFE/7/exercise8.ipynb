{
 "cells": [
  {
   "cell_type": "code",
   "execution_count": 29,
   "metadata": {},
   "outputs": [],
   "source": [
    "import numpy as np\n",
    "import sympy as sp"
   ]
  },
  {
   "cell_type": "code",
   "execution_count": 30,
   "metadata": {},
   "outputs": [
    {
     "data": {
      "text/plain": [
       "array([0.2846145 , 0.17572449, 0.21253932, 0.32712169])"
      ]
     },
     "execution_count": 30,
     "metadata": {},
     "output_type": "execute_result"
    }
   ],
   "source": [
    "# Define the covariance matrix\n",
    "cov_matrix = np.array([\n",
    "    [0.09, -0.01, -0.03, -0.02],\n",
    "    [-0.01, 0.0625, 0.02, -0.01],\n",
    "    [-0.03, 0.02, 0.1225, -0.015],\n",
    "    [-0.02, -0.01, -0.015, 0.0576]\n",
    "])\n",
    "\n",
    "# Define the excess returns vector\n",
    "excess_returns = np.array([3.6, 3.0, 5.3, 2.7]) / 100  # Convert percentages to decimals\n",
    "\n",
    "# Calculate the inverse of the covariance matrix\n",
    "inv_cov_matrix = np.linalg.inv(cov_matrix)\n",
    "\n",
    "# Calculate the weights of the tangency portfolio\n",
    "weights = inv_cov_matrix.dot(excess_returns)\n",
    "weights_normalized = weights / np.sum(weights)  # Normalize the weights to sum to 1\n",
    "\n",
    "weights_normalized\n"
   ]
  },
  {
   "cell_type": "code",
   "execution_count": 31,
   "metadata": {},
   "outputs": [
    {
     "data": {
      "text/latex": [
       "$\\displaystyle \\left[\\begin{matrix}0.09 & -0.01 & -0.03 & -0.02\\\\-0.01 & 0.0625 & 0.02 & -0.01\\\\-0.03 & 0.02 & 0.1225 & -0.015\\\\-0.02 & -0.01 & -0.015 & 0.0576\\end{matrix}\\right]$"
      ],
      "text/plain": [
       "Matrix([\n",
       "[ 0.09,  -0.01,  -0.03,  -0.02],\n",
       "[-0.01, 0.0625,   0.02,  -0.01],\n",
       "[-0.03,   0.02, 0.1225, -0.015],\n",
       "[-0.02,  -0.01, -0.015, 0.0576]])"
      ]
     },
     "execution_count": 31,
     "metadata": {},
     "output_type": "execute_result"
    }
   ],
   "source": [
    "sp.Matrix(cov_matrix)"
   ]
  },
  {
   "cell_type": "code",
   "execution_count": 32,
   "metadata": {},
   "outputs": [
    {
     "data": {
      "text/latex": [
       "$\\displaystyle \\left[\\begin{matrix}0.036\\\\0.03\\\\0.053\\\\0.027\\end{matrix}\\right]$"
      ],
      "text/plain": [
       "Matrix([\n",
       "[0.036],\n",
       "[ 0.03],\n",
       "[0.053],\n",
       "[0.027]])"
      ]
     },
     "execution_count": 32,
     "metadata": {},
     "output_type": "execute_result"
    }
   ],
   "source": [
    "sp.Matrix(excess_returns)"
   ]
  },
  {
   "cell_type": "code",
   "execution_count": 33,
   "metadata": {},
   "outputs": [
    {
     "data": {
      "text/latex": [
       "$\\displaystyle \\left[\\begin{matrix}14.0 & 2.0 & 3.86 & 6.22\\\\2.0 & 17.46 & -1.97 & 3.21\\\\3.86 & -1.97 & 9.87 & 3.57\\\\6.22 & 3.21 & 3.57 & 21.01\\end{matrix}\\right]$"
      ],
      "text/plain": [
       "Matrix([\n",
       "[14.0,   2.0,  3.86,  6.22],\n",
       "[ 2.0, 17.46, -1.97,  3.21],\n",
       "[3.86, -1.97,  9.87,  3.57],\n",
       "[6.22,  3.21,  3.57, 21.01]])"
      ]
     },
     "execution_count": 33,
     "metadata": {},
     "output_type": "execute_result"
    }
   ],
   "source": [
    "sp.Matrix(inv_cov_matrix.round(2))"
   ]
  },
  {
   "cell_type": "code",
   "execution_count": 34,
   "metadata": {},
   "outputs": [
    {
     "data": {
      "text/latex": [
       "$\\displaystyle \\left[\\begin{matrix}0.285\\\\0.176\\\\0.213\\\\0.327\\end{matrix}\\right]$"
      ],
      "text/plain": [
       "Matrix([\n",
       "[0.285],\n",
       "[0.176],\n",
       "[0.213],\n",
       "[0.327]])"
      ]
     },
     "execution_count": 34,
     "metadata": {},
     "output_type": "execute_result"
    }
   ],
   "source": [
    "sp.Matrix(weights_normalized.round(3))"
   ]
  },
  {
   "cell_type": "code",
   "execution_count": 35,
   "metadata": {},
   "outputs": [
    {
     "data": {
      "text/plain": [
       "(0.05061472622413245, 0.10403062960352252, 0.34234846371559896)"
      ]
     },
     "execution_count": 35,
     "metadata": {},
     "output_type": "execute_result"
    }
   ],
   "source": [
    "# Expected returns including the risk-free rate (convert percentages to decimals)\n",
    "full_returns = np.array([5.1, 4.5, 6.8, 4.2]) / 100\n",
    "\n",
    "# Risk-free rate\n",
    "rf = 0.015\n",
    "\n",
    "# Calculate expected return of the tangency portfolio\n",
    "expected_return_portfolio = np.dot(weights_normalized, full_returns)\n",
    "\n",
    "# Calculate the standard deviation of the tangency portfolio\n",
    "portfolio_std_dev = np.sqrt(np.dot(weights_normalized.T, np.dot(cov_matrix, weights_normalized)))\n",
    "\n",
    "# Calculate the Sharpe ratio of the tangency portfolio\n",
    "sharpe_ratio = (expected_return_portfolio - rf) / portfolio_std_dev\n",
    "\n",
    "expected_return_portfolio, portfolio_std_dev, sharpe_ratio\n"
   ]
  },
  {
   "cell_type": "markdown",
   "metadata": {},
   "source": [
    "# ii"
   ]
  },
  {
   "cell_type": "code",
   "execution_count": 36,
   "metadata": {},
   "outputs": [
    {
     "data": {
      "text/plain": [
       "(0.9827395493576501, 0.10223501405595833, 0.34234846371559896)"
      ]
     },
     "execution_count": 36,
     "metadata": {},
     "output_type": "execute_result"
    }
   ],
   "source": [
    "# Calculate alpha to achieve the target return using the tangency portfolio return and the risk-free rate\n",
    "alpha = (0.05 - rf) / (expected_return_portfolio - rf)\n",
    "\n",
    "# Calculate the standard deviation of this new portfolio (scaled by alpha because the risk-free asset has 0 volatility)\n",
    "std_dev_adjusted = alpha * portfolio_std_dev\n",
    "\n",
    "# Calculate the Sharpe ratio of this new portfolio\n",
    "sharpe_ratio_adjusted = (0.05 - rf) / std_dev_adjusted\n",
    "\n",
    "alpha, std_dev_adjusted, sharpe_ratio_adjusted\n"
   ]
  },
  {
   "cell_type": "code",
   "execution_count": 37,
   "metadata": {},
   "outputs": [
    {
     "data": {
      "text/plain": [
       "(array([0.27970192, 0.17269141, 0.20887079, 0.32147542]), 0.017260450642349934)"
      ]
     },
     "execution_count": 37,
     "metadata": {},
     "output_type": "execute_result"
    }
   ],
   "source": [
    "# Previous weights from the tangency portfolio\n",
    "tangency_weights = weights_normalized\n",
    "\n",
    "# Calculate the new weights for the assets by scaling with alpha\n",
    "new_asset_weights = alpha * tangency_weights\n",
    "\n",
    "# Calculate the allocation to cash (risk-free asset)\n",
    "cash_allocation = 1 - alpha\n",
    "\n",
    "new_asset_weights, cash_allocation\n"
   ]
  },
  {
   "cell_type": "code",
   "execution_count": 38,
   "metadata": {},
   "outputs": [
    {
     "data": {
      "text/latex": [
       "$\\displaystyle \\left[\\begin{matrix}0.28\\\\0.173\\\\0.209\\\\0.321\\end{matrix}\\right]$"
      ],
      "text/plain": [
       "Matrix([\n",
       "[ 0.28],\n",
       "[0.173],\n",
       "[0.209],\n",
       "[0.321]])"
      ]
     },
     "execution_count": 38,
     "metadata": {},
     "output_type": "execute_result"
    }
   ],
   "source": [
    "sp.Matrix(new_asset_weights.round(3))"
   ]
  },
  {
   "cell_type": "markdown",
   "metadata": {},
   "source": [
    "# iii"
   ]
  },
  {
   "cell_type": "code",
   "execution_count": 39,
   "metadata": {},
   "outputs": [
    {
     "data": {
      "text/plain": [
       "(2.7876405353426836, 0.1142810544775237, 0.29, 0.34234846371559896)"
      ]
     },
     "execution_count": 39,
     "metadata": {},
     "output_type": "execute_result"
    }
   ],
   "source": [
    "target_std_dev = 0.29\n",
    "\n",
    "# Calculate the scaling factor beta to achieve the target standard deviation of 29%\n",
    "beta = target_std_dev / portfolio_std_dev\n",
    "\n",
    "# Calculate the expected return for the scaled portfolio\n",
    "expected_return_scaled = beta * expected_return_portfolio + (1 - beta) * rf\n",
    "\n",
    "# Calculate the new standard deviation, which should be the target standard deviation\n",
    "std_dev_scaled = beta * portfolio_std_dev  # Should be approximately 29%\n",
    "\n",
    "# Calculate the Sharpe ratio for the scaled portfolio\n",
    "sharpe_ratio_scaled = (expected_return_scaled - rf) / std_dev_scaled\n",
    "\n",
    "beta, expected_return_scaled, std_dev_scaled, sharpe_ratio_scaled\n"
   ]
  },
  {
   "cell_type": "code",
   "execution_count": 40,
   "metadata": {},
   "outputs": [
    {
     "data": {
      "text/plain": [
       "(array([0.79340291, 0.48985672, 0.59248322, 0.91189769]), 1.7876405353426836)"
      ]
     },
     "execution_count": 40,
     "metadata": {},
     "output_type": "execute_result"
    }
   ],
   "source": [
    "# Calculate the scaled weights for each asset in the tangency portfolio\n",
    "scaled_weights = beta * tangency_weights\n",
    "\n",
    "# Calculate the total borrowing (negative cash allocation)\n",
    "borrowing = np.sum(scaled_weights) - 1\n",
    "\n",
    "scaled_weights, borrowing\n"
   ]
  },
  {
   "cell_type": "code",
   "execution_count": 41,
   "metadata": {},
   "outputs": [
    {
     "data": {
      "text/latex": [
       "$\\displaystyle \\left[\\begin{matrix}0.793\\\\0.49\\\\0.592\\\\0.912\\end{matrix}\\right]$"
      ],
      "text/plain": [
       "Matrix([\n",
       "[0.793],\n",
       "[ 0.49],\n",
       "[0.592],\n",
       "[0.912]])"
      ]
     },
     "execution_count": 41,
     "metadata": {},
     "output_type": "execute_result"
    }
   ],
   "source": [
    "sp.Matrix(scaled_weights.round(3))"
   ]
  },
  {
   "cell_type": "markdown",
   "metadata": {},
   "source": [
    "# iv"
   ]
  },
  {
   "cell_type": "code",
   "execution_count": 42,
   "metadata": {},
   "outputs": [
    {
     "data": {
      "text/plain": [
       "array([0.27131101, 0.21541792, 0.15951476, 0.35375631])"
      ]
     },
     "execution_count": 42,
     "metadata": {},
     "output_type": "execute_result"
    }
   ],
   "source": [
    "# Given covariance matrix (cov_matrix) and vector of ones (representing sum of weights equals to one)\n",
    "ones_vector = np.ones(full_returns.shape)\n",
    "\n",
    "# Calculate the weights for the minimum variance portfolio fully invested in assets\n",
    "numerator = inv_cov_matrix @ ones_vector\n",
    "denominator = ones_vector.T @ inv_cov_matrix @ ones_vector\n",
    "\n",
    "# Minimum variance portfolio weights\n",
    "weights_mvp_no_cash = numerator / denominator\n",
    "\n",
    "weights_mvp_no_cash\n"
   ]
  },
  {
   "cell_type": "code",
   "execution_count": 43,
   "metadata": {},
   "outputs": [
    {
     "data": {
      "text/latex": [
       "$\\displaystyle \\left[\\begin{matrix}0.271\\\\0.215\\\\0.16\\\\0.354\\end{matrix}\\right]$"
      ],
      "text/plain": [
       "Matrix([\n",
       "[0.271],\n",
       "[0.215],\n",
       "[ 0.16],\n",
       "[0.354]])"
      ]
     },
     "execution_count": 43,
     "metadata": {},
     "output_type": "execute_result"
    }
   ],
   "source": [
    "sp.Matrix(weights_mvp_no_cash.round(3))"
   ]
  },
  {
   "cell_type": "code",
   "execution_count": 44,
   "metadata": {},
   "outputs": [
    {
     "data": {
      "text/plain": [
       "(0.049235436715375794, 0.10199628596277512, 0.3356537582934193)"
      ]
     },
     "execution_count": 44,
     "metadata": {},
     "output_type": "execute_result"
    }
   ],
   "source": [
    "# Calculate the expected return using the newly derived minimum variance weights\n",
    "expected_return_mvp_no_cash = np.dot(weights_mvp_no_cash, full_returns)\n",
    "\n",
    "# Calculate the standard deviation of the minimum variance portfolio using the newly derived weights\n",
    "std_dev_mvp_no_cash = np.sqrt(np.dot(weights_mvp_no_cash.T, np.dot(cov_matrix, weights_mvp_no_cash)))\n",
    "\n",
    "# Calculate the Sharpe ratio for the minimum variance portfolio\n",
    "sharpe_ratio_mvp_no_cash = (expected_return_mvp_no_cash - rf) / std_dev_mvp_no_cash\n",
    "\n",
    "expected_return_mvp_no_cash, std_dev_mvp_no_cash, sharpe_ratio_mvp_no_cash\n"
   ]
  },
  {
   "cell_type": "code",
   "execution_count": 46,
   "metadata": {},
   "outputs": [
    {
     "data": {
      "text/latex": [
       "$\\displaystyle \\left[\\begin{matrix}0.3\\\\0.25\\\\0.35\\\\0.24\\end{matrix}\\right]$"
      ],
      "text/plain": [
       "Matrix([\n",
       "[ 0.3],\n",
       "[0.25],\n",
       "[0.35],\n",
       "[0.24]])"
      ]
     },
     "execution_count": 46,
     "metadata": {},
     "output_type": "execute_result"
    }
   ],
   "source": [
    "# Extract variances from the diagonal of the covariance matrix\n",
    "variances = np.diag(cov_matrix)\n",
    "\n",
    "# Calculate the standard deviations of each asset\n",
    "stds = np.sqrt(variances)\n",
    "sp.Matrix(stds)\n"
   ]
  },
  {
   "cell_type": "code",
   "execution_count": null,
   "metadata": {},
   "outputs": [],
   "source": []
  }
 ],
 "metadata": {
  "kernelspec": {
   "display_name": "newest",
   "language": "python",
   "name": "python3"
  },
  "language_info": {
   "codemirror_mode": {
    "name": "ipython",
    "version": 3
   },
   "file_extension": ".py",
   "mimetype": "text/x-python",
   "name": "python",
   "nbconvert_exporter": "python",
   "pygments_lexer": "ipython3",
   "version": "3.12.3"
  }
 },
 "nbformat": 4,
 "nbformat_minor": 2
}
