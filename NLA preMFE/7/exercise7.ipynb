{
 "cells": [
  {
   "cell_type": "code",
   "execution_count": 19,
   "metadata": {},
   "outputs": [],
   "source": [
    "import numpy as np\n",
    "import sympy as sp"
   ]
  },
  {
   "cell_type": "code",
   "execution_count": 16,
   "metadata": {},
   "outputs": [
    {
     "data": {
      "text/plain": [
       "(array([0.39174233, 0.3672995 , 0.24095817]),\n",
       " 0.0754764752455233,\n",
       " 0.07073962122535922)"
      ]
     },
     "execution_count": 16,
     "metadata": {},
     "output_type": "execute_result"
    }
   ],
   "source": [
    "# Constants\n",
    "mu = np.array([0.05, 0.08, 0.11])  # expected returns\n",
    "sigma = np.array([0.16, 0.20, 0.25])  # standard deviations\n",
    "# Re-establish standard deviations and correlation coefficients\n",
    "sigma = np.array([0.16, 0.20, 0.25])\n",
    "correlation_matrix = np.array([\n",
    "    [1, -0.50, -0.15],\n",
    "    [-0.50, 1, -0.25],\n",
    "    [-0.15, -0.25, 1]\n",
    "])\n",
    "\n",
    "# Compute the covariance matrix\n",
    "covariance_matrix = np.outer(sigma, sigma) * correlation_matrix\n",
    "covariance_matrix\n",
    "\n",
    "rf = 0.02  # risk-free rate\n",
    "\n",
    "# Covariance matrix calculation\n",
    "covariance_matrix = np.outer(sigma, sigma) * correlation_matrix\n",
    "\n",
    "# Tangency portfolio calculation\n",
    "ones = np.ones(len(mu))\n",
    "inverse_covariance = np.linalg.inv(covariance_matrix)\n",
    "excess_returns = mu - rf\n",
    "\n",
    "# Weight of the tangency portfolio\n",
    "w_tangency = np.dot(inverse_covariance, excess_returns) / np.dot(ones, np.dot(inverse_covariance, excess_returns))\n",
    "\n",
    "# Expected return and standard deviation of the tangency portfolio\n",
    "expected_return_tangency = np.dot(w_tangency, mu)\n",
    "std_dev_tangency = np.sqrt(np.dot(w_tangency, np.dot(covariance_matrix, w_tangency)))\n",
    "\n",
    "w_tangency, expected_return_tangency, std_dev_tangency\n"
   ]
  },
  {
   "cell_type": "code",
   "execution_count": 17,
   "metadata": {},
   "outputs": [
    {
     "data": {
      "text/latex": [
       "$\\displaystyle \\left[\\begin{matrix}0.0256 & -0.016 & -0.006\\\\-0.016 & 0.04 & -0.0125\\\\-0.006 & -0.0125 & 0.0625\\end{matrix}\\right]$"
      ],
      "text/plain": [
       "Matrix([\n",
       "[0.0256,  -0.016,  -0.006],\n",
       "[-0.016,    0.04, -0.0125],\n",
       "[-0.006, -0.0125,  0.0625]])"
      ]
     },
     "execution_count": 17,
     "metadata": {},
     "output_type": "execute_result"
    }
   ],
   "source": [
    "sp.Matrix(covariance_matrix)"
   ]
  },
  {
   "cell_type": "code",
   "execution_count": 18,
   "metadata": {},
   "outputs": [
    {
     "data": {
      "text/latex": [
       "$\\displaystyle \\left[\\begin{matrix}58.3603 & 26.7679 & 10.9562\\\\26.7679 & 38.9442 & 10.3586\\\\10.9562 & 10.3586 & 19.1235\\end{matrix}\\right]$"
      ],
      "text/plain": [
       "Matrix([\n",
       "[58.3603, 26.7679, 10.9562],\n",
       "[26.7679, 38.9442, 10.3586],\n",
       "[10.9562, 10.3586, 19.1235]])"
      ]
     },
     "execution_count": 18,
     "metadata": {},
     "output_type": "execute_result"
    }
   ],
   "source": [
    "sp.Matrix(inverse_covariance.round(4))"
   ]
  },
  {
   "cell_type": "code",
   "execution_count": 5,
   "metadata": {},
   "outputs": [
    {
     "data": {
      "text/latex": [
       "$\\displaystyle \\left[\\begin{matrix}0.03\\\\0.06\\\\0.09\\end{matrix}\\right]$"
      ],
      "text/plain": [
       "Matrix([\n",
       "[0.03],\n",
       "[0.06],\n",
       "[0.09]])"
      ]
     },
     "execution_count": 5,
     "metadata": {},
     "output_type": "execute_result"
    }
   ],
   "source": [
    "sp.Matrix(excess_returns)"
   ]
  },
  {
   "cell_type": "code",
   "execution_count": 6,
   "metadata": {},
   "outputs": [
    {
     "data": {
      "text/latex": [
       "$\\displaystyle \\left[\\begin{matrix}0.05\\\\0.08\\\\0.11\\end{matrix}\\right]$"
      ],
      "text/plain": [
       "Matrix([\n",
       "[0.05],\n",
       "[0.08],\n",
       "[0.11]])"
      ]
     },
     "execution_count": 6,
     "metadata": {},
     "output_type": "execute_result"
    }
   ],
   "source": [
    "sp.Matrix(mu)"
   ]
  },
  {
   "cell_type": "code",
   "execution_count": 7,
   "metadata": {},
   "outputs": [
    {
     "data": {
      "text/latex": [
       "$\\displaystyle \\left[\\begin{matrix}0.392\\\\0.367\\\\0.241\\end{matrix}\\right]$"
      ],
      "text/plain": [
       "Matrix([\n",
       "[0.392],\n",
       "[0.367],\n",
       "[0.241]])"
      ]
     },
     "execution_count": 7,
     "metadata": {},
     "output_type": "execute_result"
    }
   ],
   "source": [
    "sp.Matrix(w_tangency.round(3))"
   ]
  },
  {
   "cell_type": "markdown",
   "metadata": {},
   "source": [
    "# ii"
   ]
  },
  {
   "cell_type": "code",
   "execution_count": 8,
   "metadata": {},
   "outputs": [
    {
     "data": {
      "text/plain": [
       "(array([0.51902574, 0.48664103, 0.31924937]),\n",
       " 0.1,\n",
       " 0.0937240656711178,\n",
       " -0.3249161367790723)"
      ]
     },
     "execution_count": 8,
     "metadata": {},
     "output_type": "execute_result"
    }
   ],
   "source": [
    "# Calculate scaling factor to adjust the tangency portfolio to a 10% expected return\n",
    "desired_return = 0.10\n",
    "tangency_return = expected_return_tangency  # From previous calculation\n",
    "scaling_factor = desired_return / tangency_return\n",
    "\n",
    "# Scale the weights\n",
    "scaled_weights = w_tangency * scaling_factor\n",
    "\n",
    "# Calculate new expected return to verify it matches 10%\n",
    "new_expected_return = np.dot(scaled_weights, mu)\n",
    "\n",
    "# Calculate new standard deviation\n",
    "new_std_dev = np.sqrt(np.dot(scaled_weights, np.dot(covariance_matrix, scaled_weights)))\n",
    "cash_position = 1 - np.sum(scaled_weights)\n",
    "\n",
    "scaled_weights, new_expected_return, new_std_dev, cash_position\n"
   ]
  },
  {
   "cell_type": "code",
   "execution_count": 9,
   "metadata": {},
   "outputs": [
    {
     "data": {
      "text/latex": [
       "$\\displaystyle \\left[\\begin{matrix}0.519\\\\0.487\\\\0.319\\end{matrix}\\right]$"
      ],
      "text/plain": [
       "Matrix([\n",
       "[0.519],\n",
       "[0.487],\n",
       "[0.319]])"
      ]
     },
     "execution_count": 9,
     "metadata": {},
     "output_type": "execute_result"
    }
   ],
   "source": [
    "sp.Matrix(scaled_weights.round(3))"
   ]
  },
  {
   "cell_type": "code",
   "execution_count": 10,
   "metadata": {},
   "outputs": [
    {
     "data": {
      "text/plain": [
       "(array([1.03805147, 0.97328206, 0.63849874]),\n",
       " 0.2,\n",
       " 0.1874481313422356,\n",
       " -1.6498322735581445)"
      ]
     },
     "execution_count": 10,
     "metadata": {},
     "output_type": "execute_result"
    }
   ],
   "source": [
    "# Calculate scaling factor to adjust the tangency portfolio to a 10% expected return\n",
    "desired_return = 0.20\n",
    "tangency_return = expected_return_tangency  # From previous calculation\n",
    "scaling_factor = desired_return / tangency_return\n",
    "\n",
    "# Scale the weights\n",
    "scaled_weights = w_tangency * scaling_factor\n",
    "\n",
    "# Calculate new expected return to verify it matches 10%\n",
    "new_expected_return = np.dot(scaled_weights, mu)\n",
    "\n",
    "# Calculate new standard deviation\n",
    "new_std_dev = np.sqrt(np.dot(scaled_weights, np.dot(covariance_matrix, scaled_weights)))\n",
    "cash_position = 1 - np.sum(scaled_weights)\n",
    "\n",
    "scaled_weights, new_expected_return, new_std_dev, cash_position"
   ]
  },
  {
   "cell_type": "code",
   "execution_count": 11,
   "metadata": {},
   "outputs": [
    {
     "data": {
      "text/latex": [
       "$\\displaystyle \\left[\\begin{matrix}1.038\\\\0.973\\\\0.638\\end{matrix}\\right]$"
      ],
      "text/plain": [
       "Matrix([\n",
       "[1.038],\n",
       "[0.973],\n",
       "[0.638]])"
      ]
     },
     "execution_count": 11,
     "metadata": {},
     "output_type": "execute_result"
    }
   ],
   "source": [
    "sp.Matrix(scaled_weights.round(3))"
   ]
  },
  {
   "cell_type": "code",
   "execution_count": 12,
   "metadata": {},
   "outputs": [
    {
     "data": {
      "text/plain": [
       "(array([1.10756129, 1.0384548 , 0.68125378]),\n",
       " 0.21339236466950712,\n",
       " 0.19999999999999996)"
      ]
     },
     "execution_count": 12,
     "metadata": {},
     "output_type": "execute_result"
    }
   ],
   "source": [
    "\n",
    "\n",
    "# Tangency portfolio calculations\n",
    "ones = np.ones(len(mu))\n",
    "inverse_covariance = np.linalg.inv(covariance_matrix)\n",
    "excess_returns = mu - 0.02\n",
    "\n",
    "w_tangency = np.dot(inverse_covariance, excess_returns) / np.dot(ones, np.dot(inverse_covariance, excess_returns))\n",
    "expected_return_tangency = np.dot(w_tangency, mu)\n",
    "std_dev_tangency = np.sqrt(np.dot(w_tangency, np.dot(covariance_matrix, w_tangency)))\n",
    "\n",
    "# Calculate scaling factor for a 20% standard deviation\n",
    "desired_std_dev = 0.20\n",
    "scaling_factor_max_return = desired_std_dev / std_dev_tangency\n",
    "\n",
    "# Scale weights\n",
    "max_return_weights = w_tangency * scaling_factor_max_return\n",
    "\n",
    "# Calculate new expected return\n",
    "max_return_expected = np.dot(max_return_weights, mu)\n",
    "\n",
    "# Calculate new standard deviation to verify\n",
    "max_return_std_dev = np.sqrt(np.dot(max_return_weights, np.dot(covariance_matrix, max_return_weights)))\n",
    "\n",
    "max_return_weights, max_return_expected, max_return_std_dev\n"
   ]
  },
  {
   "cell_type": "code",
   "execution_count": 14,
   "metadata": {},
   "outputs": [
    {
     "data": {
      "text/latex": [
       "$\\displaystyle \\left[\\begin{matrix}1.108\\\\1.038\\\\0.681\\end{matrix}\\right]$"
      ],
      "text/plain": [
       "Matrix([\n",
       "[1.108],\n",
       "[1.038],\n",
       "[0.681]])"
      ]
     },
     "execution_count": 14,
     "metadata": {},
     "output_type": "execute_result"
    }
   ],
   "source": [
    "sp.Matrix(max_return_weights.round(3))"
   ]
  },
  {
   "cell_type": "code",
   "execution_count": 15,
   "metadata": {},
   "outputs": [
    {
     "data": {
      "text/plain": [
       "-1.8272698741607432"
      ]
     },
     "execution_count": 15,
     "metadata": {},
     "output_type": "execute_result"
    }
   ],
   "source": [
    "# Calculate cash position as 1 minus the sum of scaled weights\n",
    "cash_position = 1 - np.sum(max_return_weights)\n",
    "cash_position\n"
   ]
  },
  {
   "cell_type": "code",
   "execution_count": null,
   "metadata": {},
   "outputs": [],
   "source": []
  }
 ],
 "metadata": {
  "kernelspec": {
   "display_name": "newest",
   "language": "python",
   "name": "python3"
  },
  "language_info": {
   "codemirror_mode": {
    "name": "ipython",
    "version": 3
   },
   "file_extension": ".py",
   "mimetype": "text/x-python",
   "name": "python",
   "nbconvert_exporter": "python",
   "pygments_lexer": "ipython3",
   "version": "3.12.3"
  }
 },
 "nbformat": 4,
 "nbformat_minor": 2
}
