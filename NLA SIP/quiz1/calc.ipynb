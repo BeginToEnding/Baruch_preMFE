{
 "cells": [
  {
   "cell_type": "markdown",
   "id": "588e2c38",
   "metadata": {},
   "source": [
    "## Exercise 1"
   ]
  },
  {
   "cell_type": "code",
   "execution_count": 1,
   "id": "fa11fb19",
   "metadata": {},
   "outputs": [
    {
     "name": "stdout",
     "output_type": "stream",
     "text": [
      "S =\n",
      " [[ 1.     -0.525   0.375 ]\n",
      " [-0.525   2.25    0.1875]\n",
      " [ 0.375   0.1875  6.25  ]]\n",
      "\n",
      "v = [1.   2.25 6.25]\n",
      "\n",
      "v_sqrt = [1.  1.5 2.5]\n",
      "\n",
      "D =\n",
      " [[1.  0.  0. ]\n",
      " [0.  1.5 0. ]\n",
      " [0.  0.  2.5]]\n"
     ]
    }
   ],
   "source": [
    "import numpy as np\n",
    "\n",
    "# Define S\n",
    "S = np.array([\n",
    "    [1,      -0.525,  0.375],\n",
    "    [-0.525,  2.25,   0.1875],\n",
    "    [0.375,   0.1875, 6.25]\n",
    "])\n",
    "\n",
    "# Extract diagonal into a vector\n",
    "v = np.diag(S)\n",
    "\n",
    "# Element-wise square root\n",
    "v_sqrt = np.sqrt(v)\n",
    "\n",
    "# Create diagonal matrix D\n",
    "D = np.diag(v_sqrt)\n",
    "\n",
    "print(\"S =\\n\", S)\n",
    "print(\"\\nv =\", v)\n",
    "print(\"\\nv_sqrt =\", v_sqrt)\n",
    "print(\"\\nD =\\n\", D)\n"
   ]
  },
  {
   "cell_type": "code",
   "execution_count": 2,
   "id": "eb57233a",
   "metadata": {},
   "outputs": [
    {
     "name": "stdout",
     "output_type": "stream",
     "text": [
      "Dinv =\n",
      " [[1.         0.         0.        ]\n",
      " [0.         0.66666667 0.        ]\n",
      " [0.         0.         0.4       ]]\n",
      "\n",
      "Result =\n",
      " [[ 1.   -0.35  0.15]\n",
      " [-0.35  1.    0.05]\n",
      " [ 0.15  0.05  1.  ]]\n"
     ]
    }
   ],
   "source": [
    "# Element-wise inverse of D (since D is diagonal, just invert the diagonal entries)\n",
    "Dinv = np.diag(1 / v_sqrt)\n",
    "\n",
    "# Multiply S from left and right by Dinv\n",
    "result = Dinv @ S @ Dinv\n",
    "\n",
    "print(\"Dinv =\\n\", Dinv)\n",
    "print(\"\\nResult =\\n\", result)\n"
   ]
  },
  {
   "cell_type": "code",
   "execution_count": 3,
   "id": "25ae18ee",
   "metadata": {},
   "outputs": [
    {
     "name": "stdout",
     "output_type": "stream",
     "text": [
      "LaTeX for Dinv:\n",
      "\\left[\\begin{matrix}1 & 0 & 0\\\\0 & 0.666666666666667 & 0\\\\0 & 0 & 0.4\\end{matrix}\\right]\n",
      "\n",
      "LaTeX for result:\n",
      "\\left[\\begin{matrix}1 & -0.35 & 0.15\\\\-0.35 & 1.0 & 0.05\\\\0.15 & 0.05 & 1.0\\end{matrix}\\right]\n"
     ]
    }
   ],
   "source": [
    "import numpy as np\n",
    "import sympy as sp\n",
    "\n",
    "# Original S in sympy\n",
    "S = sp.Matrix([\n",
    "    [1,      -0.525,  0.375],\n",
    "    [-0.525,  2.25,   0.1875],\n",
    "    [0.375,   0.1875, 6.25]\n",
    "])\n",
    "\n",
    "# Diagonal elements\n",
    "v = S.diagonal()\n",
    "\n",
    "# Element-wise square root\n",
    "v_sqrt = [sp.sqrt(x) for x in v]\n",
    "\n",
    "# D matrix\n",
    "D = sp.diag(*v_sqrt)\n",
    "\n",
    "# Dinv\n",
    "Dinv = sp.diag(*[1/x for x in v_sqrt])\n",
    "\n",
    "# Result = Dinv * S * Dinv\n",
    "result = Dinv * S * Dinv\n",
    "\n",
    "# Get LaTeX source code\n",
    "latex_Dinv = sp.latex(Dinv)\n",
    "latex_result = sp.latex(result)\n",
    "\n",
    "print(\"LaTeX for Dinv:\")\n",
    "print(latex_Dinv)\n",
    "\n",
    "print(\"\\nLaTeX for result:\")\n",
    "print(latex_result)\n"
   ]
  },
  {
   "cell_type": "code",
   "execution_count": 11,
   "id": "9c709fc1",
   "metadata": {},
   "outputs": [
    {
     "name": "stdout",
     "output_type": "stream",
     "text": [
      "\\begin{equation}\\left[\\begin{matrix}1 & 0 & 0\\\\0 & 0.666666666666667 & 0\\\\0 & 0 & 0.4\\end{matrix}\\right]\\end{equation}\n"
     ]
    }
   ],
   "source": [
    "sp.print_latex(Dinv, mode=\"equation\")"
   ]
  },
  {
   "cell_type": "code",
   "execution_count": 15,
   "id": "6966fd2e",
   "metadata": {},
   "outputs": [
    {
     "name": "stdout",
     "output_type": "stream",
     "text": [
      "\\begin{equation}\\left[\\begin{matrix}1 & -0.35 & 0.15\\\\-0.35 & 1.0 & 0.05\\\\0.15 & 0.05 & 1.0\\end{matrix}\\right]\\end{equation}\n"
     ]
    }
   ],
   "source": [
    "sp.print_latex(result, mode=\"equation\")"
   ]
  },
  {
   "cell_type": "markdown",
   "id": "4fb976a6",
   "metadata": {},
   "source": [
    "## Exercise 2"
   ]
  },
  {
   "cell_type": "code",
   "execution_count": null,
   "id": "dc7043b5",
   "metadata": {},
   "outputs": [
    {
     "data": {
      "text/html": [
       "<div>\n",
       "<style scoped>\n",
       "    .dataframe tbody tr th:only-of-type {\n",
       "        vertical-align: middle;\n",
       "    }\n",
       "\n",
       "    .dataframe tbody tr th {\n",
       "        vertical-align: top;\n",
       "    }\n",
       "\n",
       "    .dataframe thead th {\n",
       "        text-align: right;\n",
       "    }\n",
       "</style>\n",
       "<table border=\"1\" class=\"dataframe\">\n",
       "  <thead>\n",
       "    <tr style=\"text-align: right;\">\n",
       "      <th></th>\n",
       "      <th>Date</th>\n",
       "      <th>Dow Jones</th>\n",
       "      <th>NASDAQ</th>\n",
       "      <th>S&amp;P 500</th>\n",
       "    </tr>\n",
       "  </thead>\n",
       "  <tbody>\n",
       "    <tr>\n",
       "      <th>0</th>\n",
       "      <td>2012-07-26</td>\n",
       "      <td>12887.93</td>\n",
       "      <td>2893.25</td>\n",
       "      <td>1360.02</td>\n",
       "    </tr>\n",
       "    <tr>\n",
       "      <th>1</th>\n",
       "      <td>2012-07-27</td>\n",
       "      <td>13075.66</td>\n",
       "      <td>2958.09</td>\n",
       "      <td>1385.97</td>\n",
       "    </tr>\n",
       "    <tr>\n",
       "      <th>2</th>\n",
       "      <td>2012-07-30</td>\n",
       "      <td>13073.01</td>\n",
       "      <td>2945.84</td>\n",
       "      <td>1385.30</td>\n",
       "    </tr>\n",
       "    <tr>\n",
       "      <th>3</th>\n",
       "      <td>2012-07-31</td>\n",
       "      <td>13008.68</td>\n",
       "      <td>2939.52</td>\n",
       "      <td>1379.32</td>\n",
       "    </tr>\n",
       "    <tr>\n",
       "      <th>4</th>\n",
       "      <td>2012-08-01</td>\n",
       "      <td>12976.13</td>\n",
       "      <td>2920.21</td>\n",
       "      <td>1375.32</td>\n",
       "    </tr>\n",
       "  </tbody>\n",
       "</table>\n",
       "</div>"
      ],
      "text/plain": [
       "        Date  Dow Jones   NASDAQ  S&P 500\n",
       "0 2012-07-26   12887.93  2893.25  1360.02\n",
       "1 2012-07-27   13075.66  2958.09  1385.97\n",
       "2 2012-07-30   13073.01  2945.84  1385.30\n",
       "3 2012-07-31   13008.68  2939.52  1379.32\n",
       "4 2012-08-01   12976.13  2920.21  1375.32"
      ]
     },
     "execution_count": 44,
     "metadata": {},
     "output_type": "execute_result"
    }
   ],
   "source": [
    "import pandas as pd\n",
    "\n",
    "# File path\n",
    "file_path = \"indeces-jul26-aug9-2012.xlsx\"\n",
    "\n",
    "# Read Excel file into a DataFrame\n",
    "df = pd.read_excel(file_path)\n",
    "df.columns = df.columns.str.strip()\n",
    "df[\"Date\"] = df[\"Date\"].dt.strftime(\"%Y-%m-%d\")\n",
    "# Show first few rows\n",
    "df.head()\n"
   ]
  },
  {
   "cell_type": "code",
   "execution_count": 45,
   "id": "31f9c0a8",
   "metadata": {},
   "outputs": [
    {
     "data": {
      "text/html": [
       "<div>\n",
       "<style scoped>\n",
       "    .dataframe tbody tr th:only-of-type {\n",
       "        vertical-align: middle;\n",
       "    }\n",
       "\n",
       "    .dataframe tbody tr th {\n",
       "        vertical-align: top;\n",
       "    }\n",
       "\n",
       "    .dataframe thead th {\n",
       "        text-align: right;\n",
       "    }\n",
       "</style>\n",
       "<table border=\"1\" class=\"dataframe\">\n",
       "  <thead>\n",
       "    <tr style=\"text-align: right;\">\n",
       "      <th></th>\n",
       "      <th>Date</th>\n",
       "      <th>Dow Jones</th>\n",
       "      <th>NASDAQ</th>\n",
       "      <th>S&amp;P 500</th>\n",
       "      <th>Dow Jones % Return</th>\n",
       "      <th>Dow Jones Log Return</th>\n",
       "      <th>NASDAQ % Return</th>\n",
       "      <th>NASDAQ Log Return</th>\n",
       "      <th>S&amp;P 500 % Return</th>\n",
       "      <th>S&amp;P 500 Log Return</th>\n",
       "    </tr>\n",
       "  </thead>\n",
       "  <tbody>\n",
       "    <tr>\n",
       "      <th>0</th>\n",
       "      <td>2012-07-26</td>\n",
       "      <td>12887.93</td>\n",
       "      <td>2893.25</td>\n",
       "      <td>1360.02</td>\n",
       "      <td>NaN</td>\n",
       "      <td>NaN</td>\n",
       "      <td>NaN</td>\n",
       "      <td>NaN</td>\n",
       "      <td>NaN</td>\n",
       "      <td>NaN</td>\n",
       "    </tr>\n",
       "    <tr>\n",
       "      <th>1</th>\n",
       "      <td>2012-07-27</td>\n",
       "      <td>13075.66</td>\n",
       "      <td>2958.09</td>\n",
       "      <td>1385.97</td>\n",
       "      <td>1.456634</td>\n",
       "      <td>0.014461</td>\n",
       "      <td>2.241078</td>\n",
       "      <td>0.022163</td>\n",
       "      <td>1.908060</td>\n",
       "      <td>0.018901</td>\n",
       "    </tr>\n",
       "    <tr>\n",
       "      <th>2</th>\n",
       "      <td>2012-07-30</td>\n",
       "      <td>13073.01</td>\n",
       "      <td>2945.84</td>\n",
       "      <td>1385.30</td>\n",
       "      <td>-0.020267</td>\n",
       "      <td>-0.000203</td>\n",
       "      <td>-0.414119</td>\n",
       "      <td>-0.004150</td>\n",
       "      <td>-0.048342</td>\n",
       "      <td>-0.000484</td>\n",
       "    </tr>\n",
       "    <tr>\n",
       "      <th>3</th>\n",
       "      <td>2012-07-31</td>\n",
       "      <td>13008.68</td>\n",
       "      <td>2939.52</td>\n",
       "      <td>1379.32</td>\n",
       "      <td>-0.492083</td>\n",
       "      <td>-0.004933</td>\n",
       "      <td>-0.214540</td>\n",
       "      <td>-0.002148</td>\n",
       "      <td>-0.431675</td>\n",
       "      <td>-0.004326</td>\n",
       "    </tr>\n",
       "    <tr>\n",
       "      <th>4</th>\n",
       "      <td>2012-08-01</td>\n",
       "      <td>12976.13</td>\n",
       "      <td>2920.21</td>\n",
       "      <td>1375.32</td>\n",
       "      <td>-0.250218</td>\n",
       "      <td>-0.002505</td>\n",
       "      <td>-0.656910</td>\n",
       "      <td>-0.006591</td>\n",
       "      <td>-0.289998</td>\n",
       "      <td>-0.002904</td>\n",
       "    </tr>\n",
       "  </tbody>\n",
       "</table>\n",
       "</div>"
      ],
      "text/plain": [
       "        Date  Dow Jones   NASDAQ  S&P 500  Dow Jones % Return  \\\n",
       "0 2012-07-26   12887.93  2893.25  1360.02                 NaN   \n",
       "1 2012-07-27   13075.66  2958.09  1385.97            1.456634   \n",
       "2 2012-07-30   13073.01  2945.84  1385.30           -0.020267   \n",
       "3 2012-07-31   13008.68  2939.52  1379.32           -0.492083   \n",
       "4 2012-08-01   12976.13  2920.21  1375.32           -0.250218   \n",
       "\n",
       "   Dow Jones Log Return  NASDAQ % Return  NASDAQ Log Return  S&P 500 % Return  \\\n",
       "0                   NaN              NaN                NaN               NaN   \n",
       "1              0.014461         2.241078           0.022163          1.908060   \n",
       "2             -0.000203        -0.414119          -0.004150         -0.048342   \n",
       "3             -0.004933        -0.214540          -0.002148         -0.431675   \n",
       "4             -0.002505        -0.656910          -0.006591         -0.289998   \n",
       "\n",
       "   S&P 500 Log Return  \n",
       "0                 NaN  \n",
       "1            0.018901  \n",
       "2           -0.000484  \n",
       "3           -0.004326  \n",
       "4           -0.002904  "
      ]
     },
     "execution_count": 45,
     "metadata": {},
     "output_type": "execute_result"
    }
   ],
   "source": [
    "# Calculate percentage returns\n",
    "for col in [\"Dow Jones\", \"NASDAQ\", \"S&P 500\"]:\n",
    "    df[f\"{col} % Return\"] = df[col].pct_change() * 100\n",
    "    df[f\"{col} Log Return\"] = np.log(df[col] / df[col].shift(1))\n",
    "\n",
    "df.head()"
   ]
  },
  {
   "cell_type": "code",
   "execution_count": null,
   "id": "ecb28cac",
   "metadata": {},
   "outputs": [
    {
     "name": "stdout",
     "output_type": "stream",
     "text": [
      "\\begin{tabular}{lrrr}\n",
      "\\toprule\n",
      "Date & Dow Jones \\% Return & NASDAQ \\% Return & S\\&P 500 \\% Return \\\\\n",
      "\\midrule\n",
      "2012-07-26 & NaN & NaN & NaN \\\\\n",
      "2012-07-27 & 1.456634 & 2.241078 & 1.908060 \\\\\n",
      "2012-07-30 & -0.020267 & -0.414119 & -0.048342 \\\\\n",
      "2012-07-31 & -0.492083 & -0.214540 & -0.431675 \\\\\n",
      "2012-08-01 & -0.250218 & -0.656910 & -0.289998 \\\\\n",
      "2012-08-02 & -0.749453 & -0.357509 & -0.750371 \\\\\n",
      "2012-08-03 & 1.687181 & 1.997752 & 1.904029 \\\\\n",
      "2012-08-06 & 0.162948 & 0.741602 & 0.232928 \\\\\n",
      "2012-08-07 & 0.389479 & 0.867919 & 0.510676 \\\\\n",
      "2012-08-08 & 0.053461 & -0.152859 & 0.062083 \\\\\n",
      "2012-08-09 & -0.079313 & 0.245413 & 0.041363 \\\\\n",
      "\\bottomrule\n",
      "\\end{tabular}\n",
      "\n"
     ]
    }
   ],
   "source": [
    "# show the percentage returns only\n",
    "print(df[[\"Date\", \"Dow Jones % Return\", \"NASDAQ % Return\", \"S&P 500 % Return\"]].to_latex(escape=True, index=False))\n"
   ]
  },
  {
   "cell_type": "code",
   "execution_count": 47,
   "id": "957e3c7f",
   "metadata": {},
   "outputs": [
    {
     "data": {
      "text/html": [
       "<div>\n",
       "<style scoped>\n",
       "    .dataframe tbody tr th:only-of-type {\n",
       "        vertical-align: middle;\n",
       "    }\n",
       "\n",
       "    .dataframe tbody tr th {\n",
       "        vertical-align: top;\n",
       "    }\n",
       "\n",
       "    .dataframe thead th {\n",
       "        text-align: right;\n",
       "    }\n",
       "</style>\n",
       "<table border=\"1\" class=\"dataframe\">\n",
       "  <thead>\n",
       "    <tr style=\"text-align: right;\">\n",
       "      <th></th>\n",
       "      <th>Dow Jones</th>\n",
       "      <th>NASDAQ</th>\n",
       "      <th>S&amp;P 500</th>\n",
       "    </tr>\n",
       "  </thead>\n",
       "  <tbody>\n",
       "    <tr>\n",
       "      <th>Dow Jones</th>\n",
       "      <td>0.617416</td>\n",
       "      <td>0.742765</td>\n",
       "      <td>0.711061</td>\n",
       "    </tr>\n",
       "    <tr>\n",
       "      <th>NASDAQ</th>\n",
       "      <td>0.742765</td>\n",
       "      <td>1.036670</td>\n",
       "      <td>0.879881</td>\n",
       "    </tr>\n",
       "    <tr>\n",
       "      <th>S&amp;P 500</th>\n",
       "      <td>0.711061</td>\n",
       "      <td>0.879881</td>\n",
       "      <td>0.826366</td>\n",
       "    </tr>\n",
       "  </tbody>\n",
       "</table>\n",
       "</div>"
      ],
      "text/plain": [
       "           Dow Jones    NASDAQ   S&P 500\n",
       "Dow Jones   0.617416  0.742765  0.711061\n",
       "NASDAQ      0.742765  1.036670  0.879881\n",
       "S&P 500     0.711061  0.879881  0.826366"
      ]
     },
     "execution_count": 47,
     "metadata": {},
     "output_type": "execute_result"
    }
   ],
   "source": [
    "# Extract the percentage returns columns\n",
    "returns_df = df[[\"Dow Jones % Return\", \"NASDAQ % Return\", \"S&P 500 % Return\"]]\n",
    "\n",
    "# Compute the covariance matrix\n",
    "cov_matrix = returns_df.cov()\n",
    "\n",
    "# Rename rows/columns to tickers\n",
    "tickers = [\"Dow Jones\", \"NASDAQ\", \"S&P 500\"]\n",
    "cov_df = pd.DataFrame(cov_matrix.values, index=tickers, columns=tickers)\n",
    "\n",
    "cov_df\n"
   ]
  },
  {
   "cell_type": "code",
   "execution_count": 49,
   "id": "9c36c2b9",
   "metadata": {},
   "outputs": [
    {
     "name": "stdout",
     "output_type": "stream",
     "text": [
      "\\begin{tabular}{lrrr}\n",
      "\\toprule\n",
      " & Dow Jones & NASDAQ & S\\&P 500 \\\\\n",
      "\\midrule\n",
      "Dow Jones & 0.617416 & 0.742765 & 0.711061 \\\\\n",
      "NASDAQ & 0.742765 & 1.036670 & 0.879881 \\\\\n",
      "S\\&P 500 & 0.711061 & 0.879881 & 0.826366 \\\\\n",
      "\\bottomrule\n",
      "\\end{tabular}\n",
      "\n"
     ]
    }
   ],
   "source": [
    "print(cov_df.to_latex(escape=True, index=True))"
   ]
  },
  {
   "cell_type": "code",
   "execution_count": 50,
   "id": "becf9a6c",
   "metadata": {},
   "outputs": [
    {
     "name": "stdout",
     "output_type": "stream",
     "text": [
      "\\begin{tabular}{lrrr}\n",
      "\\toprule\n",
      "Date & Dow Jones Log Return & NASDAQ Log Return & S\\&P 500 Log Return \\\\\n",
      "\\midrule\n",
      "2012-07-26 & NaN & NaN & NaN \\\\\n",
      "2012-07-27 & 0.014461 & 0.022163 & 0.018901 \\\\\n",
      "2012-07-30 & -0.000203 & -0.004150 & -0.000484 \\\\\n",
      "2012-07-31 & -0.004933 & -0.002148 & -0.004326 \\\\\n",
      "2012-08-01 & -0.002505 & -0.006591 & -0.002904 \\\\\n",
      "2012-08-02 & -0.007523 & -0.003581 & -0.007532 \\\\\n",
      "2012-08-03 & 0.016731 & 0.019781 & 0.018861 \\\\\n",
      "2012-08-06 & 0.001628 & 0.007389 & 0.002327 \\\\\n",
      "2012-08-07 & 0.003887 & 0.008642 & 0.005094 \\\\\n",
      "2012-08-08 & 0.000534 & -0.001530 & 0.000621 \\\\\n",
      "2012-08-09 & -0.000793 & 0.002451 & 0.000414 \\\\\n",
      "\\bottomrule\n",
      "\\end{tabular}\n",
      "\n"
     ]
    }
   ],
   "source": [
    "print(df[[\"Date\", \"Dow Jones Log Return\", \"NASDAQ Log Return\", \"S&P 500 Log Return\"]].to_latex(escape=True, index=False))"
   ]
  },
  {
   "cell_type": "code",
   "execution_count": 51,
   "id": "f8d79dcf",
   "metadata": {},
   "outputs": [
    {
     "data": {
      "text/html": [
       "<div>\n",
       "<style scoped>\n",
       "    .dataframe tbody tr th:only-of-type {\n",
       "        vertical-align: middle;\n",
       "    }\n",
       "\n",
       "    .dataframe tbody tr th {\n",
       "        vertical-align: top;\n",
       "    }\n",
       "\n",
       "    .dataframe thead th {\n",
       "        text-align: right;\n",
       "    }\n",
       "</style>\n",
       "<table border=\"1\" class=\"dataframe\">\n",
       "  <thead>\n",
       "    <tr style=\"text-align: right;\">\n",
       "      <th></th>\n",
       "      <th>Dow Jones</th>\n",
       "      <th>NASDAQ</th>\n",
       "      <th>S&amp;P 500</th>\n",
       "    </tr>\n",
       "  </thead>\n",
       "  <tbody>\n",
       "    <tr>\n",
       "      <th>Dow Jones</th>\n",
       "      <td>0.000061</td>\n",
       "      <td>0.000073</td>\n",
       "      <td>0.000070</td>\n",
       "    </tr>\n",
       "    <tr>\n",
       "      <th>NASDAQ</th>\n",
       "      <td>0.000073</td>\n",
       "      <td>0.000102</td>\n",
       "      <td>0.000087</td>\n",
       "    </tr>\n",
       "    <tr>\n",
       "      <th>S&amp;P 500</th>\n",
       "      <td>0.000070</td>\n",
       "      <td>0.000087</td>\n",
       "      <td>0.000081</td>\n",
       "    </tr>\n",
       "  </tbody>\n",
       "</table>\n",
       "</div>"
      ],
      "text/plain": [
       "           Dow Jones    NASDAQ   S&P 500\n",
       "Dow Jones   0.000061  0.000073  0.000070\n",
       "NASDAQ      0.000073  0.000102  0.000087\n",
       "S&P 500     0.000070  0.000087  0.000081"
      ]
     },
     "execution_count": 51,
     "metadata": {},
     "output_type": "execute_result"
    }
   ],
   "source": [
    "# Extract the log returns columns\n",
    "returns_df = df[[\"Dow Jones Log Return\", \"NASDAQ Log Return\", \"S&P 500 Log Return\"]]\n",
    "\n",
    "# Compute the covariance matrix\n",
    "cov_matrix = returns_df.cov()\n",
    "\n",
    "# Rename rows/columns to tickers\n",
    "tickers = [\"Dow Jones\", \"NASDAQ\", \"S&P 500\"]\n",
    "cov_df = pd.DataFrame(cov_matrix.values, index=tickers, columns=tickers)\n",
    "\n",
    "cov_df"
   ]
  },
  {
   "cell_type": "code",
   "execution_count": 52,
   "id": "81852197",
   "metadata": {},
   "outputs": [
    {
     "name": "stdout",
     "output_type": "stream",
     "text": [
      "\\begin{tabular}{lrrr}\n",
      "\\toprule\n",
      " & Dow Jones & NASDAQ & S\\&P 500 \\\\\n",
      "\\midrule\n",
      "Dow Jones & 0.000061 & 0.000073 & 0.000070 \\\\\n",
      "NASDAQ & 0.000073 & 0.000102 & 0.000087 \\\\\n",
      "S\\&P 500 & 0.000070 & 0.000087 & 0.000081 \\\\\n",
      "\\bottomrule\n",
      "\\end{tabular}\n",
      "\n"
     ]
    }
   ],
   "source": [
    "print(cov_df.to_latex(escape=True, index=True))"
   ]
  },
  {
   "cell_type": "markdown",
   "id": "e001d70c",
   "metadata": {},
   "source": [
    "## Exercise 3"
   ]
  },
  {
   "cell_type": "code",
   "execution_count": 53,
   "id": "8d4ea5e8",
   "metadata": {},
   "outputs": [
    {
     "data": {
      "text/plain": [
       "(     $\\omega_1$  $\\omega_2$  $\\omega_3$  $\\omega_4$  $\\omega_5$  $\\omega_6$\n",
       " P_0    1.030455    1.030455    1.030455    1.030455    1.030455    1.030455\n",
       " P_1   30.000000   35.000000   40.000000   42.000000   45.000000   50.000000\n",
       " P_2    0.000000    0.000000    0.000000    2.000000    5.000000   10.000000\n",
       " P_3   10.000000    5.000000    0.000000    0.000000    0.000000    0.000000,\n",
       "                                 Security\n",
       " P_0  Cash (riskless), pays e^{0.03} at T\n",
       " P_1                 Underlying asset S_T\n",
       " P_2             Six-month ATM call, K=40\n",
       " P_3              Six-month ATM put, K=40)"
      ]
     },
     "execution_count": 53,
     "metadata": {},
     "output_type": "execute_result"
    }
   ],
   "source": [
    "import numpy as np\n",
    "import pandas as pd\n",
    "\n",
    "# Parameters\n",
    "r, T = 0.06, 0.5\n",
    "K = 40\n",
    "S_T = np.array([30, 35, 40, 42, 45, 50], dtype=float)\n",
    "\n",
    "# Labels as requested\n",
    "cols = [r'$\\omega_1$', r'$\\omega_2$', r'$\\omega_3$', r'$\\omega_4$', r'$\\omega_5$', r'$\\omega_6$']\n",
    "idx  = ['P_0', 'P_1', 'P_2', 'P_3']  # P_0=cash, P_1=asset, P_2=ATM call, P_3=ATM put\n",
    "\n",
    "# Payoffs at T=6 months\n",
    "cash = np.full(S_T.shape, np.exp(r*T))      # e^{0.03}\n",
    "asset = S_T\n",
    "call = np.maximum(S_T - K, 0.0)\n",
    "put  = np.maximum(K - S_T, 0.0)\n",
    "\n",
    "df = pd.DataFrame([cash, asset, call, put], index=idx, columns=cols)\n",
    "\n",
    "# Optional: meanings of indices\n",
    "idx_meaning = pd.DataFrame(\n",
    "    {'Security': [\n",
    "        'Cash (riskless), pays e^{0.03} at T',\n",
    "        'Underlying asset S_T',\n",
    "        'Six-month ATM call, K=40',\n",
    "        'Six-month ATM put, K=40'\n",
    "    ]},\n",
    "    index=idx\n",
    ")\n",
    "\n",
    "df, idx_meaning\n"
   ]
  },
  {
   "cell_type": "code",
   "execution_count": 55,
   "id": "3319a7b9",
   "metadata": {},
   "outputs": [
    {
     "name": "stdout",
     "output_type": "stream",
     "text": [
      "\\begin{tabular}{lrrrrrr}\n",
      "\\toprule\n",
      " & $\\omega_1$ & $\\omega_2$ & $\\omega_3$ & $\\omega_4$ & $\\omega_5$ & $\\omega_6$ \\\\\n",
      "\\midrule\n",
      "P_0 & 1.030455 & 1.030455 & 1.030455 & 1.030455 & 1.030455 & 1.030455 \\\\\n",
      "P_1 & 30.000000 & 35.000000 & 40.000000 & 42.000000 & 45.000000 & 50.000000 \\\\\n",
      "P_2 & 0.000000 & 0.000000 & 0.000000 & 2.000000 & 5.000000 & 10.000000 \\\\\n",
      "P_3 & 10.000000 & 5.000000 & 0.000000 & 0.000000 & 0.000000 & 0.000000 \\\\\n",
      "\\bottomrule\n",
      "\\end{tabular}\n",
      "\n"
     ]
    }
   ],
   "source": [
    "print(df.to_latex(escape=False, index=True))"
   ]
  },
  {
   "cell_type": "code",
   "execution_count": 58,
   "id": "2381437e",
   "metadata": {},
   "outputs": [
    {
     "name": "stdout",
     "output_type": "stream",
     "text": [
      "\\begin{tabular}{ll}\n",
      "\\toprule\n",
      " & Security \\\\\n",
      "\\midrule\n",
      "P_0 & Cash (riskless), pays e^{0.03} at T \\\\\n",
      "P_1 & Underlying asset S_T \\\\\n",
      "P_2 & Six-month ATM call, K=40 \\\\\n",
      "P_3 & Six-month ATM put, K=40 \\\\\n",
      "\\bottomrule\n",
      "\\end{tabular}\n",
      "\n"
     ]
    }
   ],
   "source": [
    "print(idx_meaning.to_latex(escape=False, index=True))"
   ]
  },
  {
   "cell_type": "code",
   "execution_count": null,
   "id": "6deb40e8",
   "metadata": {},
   "outputs": [],
   "source": []
  }
 ],
 "metadata": {
  "kernelspec": {
   "display_name": "newest",
   "language": "python",
   "name": "python3"
  },
  "language_info": {
   "codemirror_mode": {
    "name": "ipython",
    "version": 3
   },
   "file_extension": ".py",
   "mimetype": "text/x-python",
   "name": "python",
   "nbconvert_exporter": "python",
   "pygments_lexer": "ipython3",
   "version": "3.12.3"
  }
 },
 "nbformat": 4,
 "nbformat_minor": 5
}
