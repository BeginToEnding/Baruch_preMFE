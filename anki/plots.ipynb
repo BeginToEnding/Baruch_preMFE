{
 "cells": [
  {
   "cell_type": "markdown",
   "metadata": {},
   "source": [
    "#### A smooth function that has a minimum, yet both its first and second derivatives are zero at that minimum."
   ]
  },
  {
   "cell_type": "code",
   "execution_count": null,
   "metadata": {},
   "outputs": [],
   "source": [
    "import numpy as np\n",
    "import matplotlib.pyplot as plt\n",
    "\n",
    "# Define the function\n",
    "def f(x):\n",
    "    y = np.zeros_like(x)\n",
    "    nonzero = x != 0\n",
    "    y[nonzero] = np.exp(-1 / x[nonzero]**2)\n",
    "    return y\n",
    "\n",
    "# Create input values excluding 0 to avoid division by zero\n",
    "x = np.linspace(-2, 2, 1000)\n",
    "x[500] = 1e-10  # Replace the midpoint with a very small nonzero value to simulate x = 0\n",
    "\n",
    "# Plot the function\n",
    "plt.figure(figsize=(6, 4))\n",
    "plt.plot(x, f(x), label=r'$f(x) = e^{-1/x^2}$ for $x \\ne 0$, $f(0) = 0$')\n",
    "plt.title('Plot of $f(x) = e^{-1/x^2}$ (smooth non-analytic function)')\n",
    "plt.xlabel('x')\n",
    "plt.ylabel('f(x)')\n",
    "plt.grid(True)\n",
    "plt.legend()\n",
    "plt.savefig('smooth_min.png', dpi=90)\n",
    "plt.show()\n"
   ]
  },
  {
   "cell_type": "markdown",
   "metadata": {},
   "source": [
    "#### Payoff of put and call with variance"
   ]
  },
  {
   "cell_type": "code",
   "execution_count": null,
   "metadata": {},
   "outputs": [],
   "source": [
    "import numpy as np\n",
    "import matplotlib.pyplot as plt\n",
    "from scipy.stats import norm\n",
    "\n",
    "def black_scholes_call(S, K, r, sigma, T):\n",
    "    d1 = (np.log(S / K) + (r + 0.5 * sigma**2) * T) / (sigma * np.sqrt(T))\n",
    "    d2 = d1 - sigma * np.sqrt(T)\n",
    "    return S * norm.cdf(d1) - K * np.exp(-r * T) * norm.cdf(d2)\n",
    "\n",
    "def black_scholes_put(S, K, r, sigma, T):\n",
    "    d1 = (np.log(S / K) + (r + 0.5 * sigma**2) * T) / (sigma * np.sqrt(T))\n",
    "    d2 = d1 - sigma * np.sqrt(T)\n",
    "    return K * np.exp(-r * T) * norm.cdf(-d2) - S * norm.cdf(-d1)\n",
    "\n",
    "# Parameters\n",
    "K = 100.0\n",
    "r = 0.0\n",
    "sigma = 1\n",
    "T = 1.0\n",
    "\n",
    "S_values = np.linspace(0, 2*K, 200)\n",
    "call_payoff_T = np.maximum(S_values - K, 0)\n",
    "put_payoff_T  = np.maximum(K - S_values, 0)\n",
    "call_value_0 = black_scholes_call(S_values, K, r, sigma, T)\n",
    "put_value_0  = black_scholes_put(S_values, K, r, sigma, T)\n",
    "\n",
    "plt.figure(figsize=(6, 4))\n",
    "\n",
    "# Plot Call\n",
    "plt.plot(S_values, call_payoff_T, label='Call Payoff at T', color='blue')\n",
    "plt.plot(S_values, call_value_0, label='Call Value at t=0', color='blue', linestyle='--')\n",
    "\n",
    "# Plot Put\n",
    "plt.plot(S_values, put_payoff_T, label='Put Payoff at T', color='red')\n",
    "plt.plot(S_values, put_value_0, label='Put Value at t=0', color='red', linestyle='--')\n",
    "\n",
    "# Strike annotation\n",
    "plt.axvline(K, color='gray', linestyle=':')\n",
    "\n",
    "# Intersection points\n",
    "plt.scatter([K, K], [0, 0], color=['blue', 'red'], zorder=5)\n",
    "plt.text(K, 0, '  (K,0)', color='black', va='bottom')\n",
    "\n",
    "plt.title(r'Call and Put Option: Payoffs at T vs. Values at t=0, $\\sigma=1$')\n",
    "plt.xlabel('Underlying Price S at $t=0$ or at $t=T$')\n",
    "plt.ylabel('Payoff or Value')\n",
    "plt.legend()\n",
    "plt.grid(True)\n",
    "plt.tight_layout()\n",
    "plt.savefig('call_put_payoff.png', dpi=90)\n",
    "plt.show()\n"
   ]
  },
  {
   "cell_type": "markdown",
   "metadata": {},
   "source": [
    "#### Softmax function with two classes in 1D"
   ]
  },
  {
   "cell_type": "code",
   "execution_count": null,
   "metadata": {},
   "outputs": [],
   "source": [
    "import numpy as np\n",
    "import matplotlib.pyplot as plt\n",
    "from ipywidgets import interact, FloatSlider\n",
    "\n",
    "def softmax(x, w1, w2, b1, b2):\n",
    "    z1 = w1 * x + b1\n",
    "    z2 = w2 * x + b2\n",
    "    e1 = np.exp(z1)\n",
    "    e2 = np.exp(z2)\n",
    "    sum_exp = e1 + e2\n",
    "    return e1 / sum_exp, e2 / sum_exp\n",
    "\n",
    "def plot_softmax(w1=1.0, w2=-1.0, b1=0.0, b2=0.0):\n",
    "    x = np.linspace(-10, 10, 400)\n",
    "    p1, p2 = softmax(x, w1, w2, b1, b2)\n",
    "\n",
    "    plt.figure(figsize=(8, 5))\n",
    "    plt.plot(x, p1, label='P(class = 1 | x)', color='blue')\n",
    "    plt.plot(x, p2, label='P(class = 2 | x)', color='red')\n",
    "    plt.title(\"Softmax Probabilities with 2 Classes\")\n",
    "    plt.xlabel(\"x\")\n",
    "    plt.ylabel(\"Probability\")\n",
    "    plt.ylim(0, 1)\n",
    "    plt.legend()\n",
    "    plt.grid(True)\n",
    "    plt.show()\n",
    "\n",
    "interact(\n",
    "    plot_softmax,\n",
    "    w1=FloatSlider(min=-5, max=5, step=0.1, value=1.0, description=\"w1\"),\n",
    "    w2=FloatSlider(min=-5, max=5, step=0.1, value=-1.0, description=\"w2\"),\n",
    "    b1=FloatSlider(min=-5, max=5, step=0.1, value=0.0, description=\"b1\"),\n",
    "    b2=FloatSlider(min=-5, max=5, step=0.1, value=0.0, description=\"b2\"),\n",
    ");\n"
   ]
  },
  {
   "cell_type": "code",
   "execution_count": null,
   "metadata": {},
   "outputs": [],
   "source": []
  }
 ],
 "metadata": {
  "kernelspec": {
   "display_name": "newest",
   "language": "python",
   "name": "python3"
  },
  "language_info": {
   "codemirror_mode": {
    "name": "ipython",
    "version": 3
   },
   "file_extension": ".py",
   "mimetype": "text/x-python",
   "name": "python",
   "nbconvert_exporter": "python",
   "pygments_lexer": "ipython3",
   "version": "3.12.3"
  }
 },
 "nbformat": 4,
 "nbformat_minor": 2
}
